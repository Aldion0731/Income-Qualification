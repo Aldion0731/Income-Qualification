{
 "cells": [
  {
   "cell_type": "markdown",
   "id": "777da32c",
   "metadata": {},
   "source": [
    "### Introduction\n",
    "\n",
    "**Problem Statement Scenario:**\n",
    "\n",
    "\n",
    "Many social programs have a hard time ensuring that the right people are given enough aid. It’s tricky when a program focuses on the poorest segment of the population. This segment of the population can’t provide the necessary income and expense records to prove that they qualify.\n",
    "\n",
    "In Latin America, a popular method called Proxy Means Test (PMT) uses an algorithm to verify income qualification. With PMT, agencies use a model that considers a family’s observable household attributes like the material of their walls and ceiling or the assets found in their homes to\n",
    "classify them and predict their level of need.\n",
    "\n",
    "While this is an improvement, accuracy remains a problem as the region’s population grows and poverty declines.\n",
    "\n",
    "The Inter-American Development Bank (IDB)believes that new methods beyond traditional econometrics, based on a dataset of Costa Rican household characteristics, might help improve PMT’s performance.\n",
    "\n",
    "**Objective:**\n",
    "\n",
    "\n",
    "The purpose of this project is to use the fore mentioned dataset to predict the poverty level of an individual, in order to determine th level of aid an individual should receive."
   ]
  },
  {
   "cell_type": "code",
   "execution_count": 1,
   "id": "6f5a03aa",
   "metadata": {},
   "outputs": [],
   "source": [
    "import pandas as pd\n",
    "import numpy as np\n",
    "import matplotlib.pyplot as plt\n",
    "import seaborn as sns\n",
    "from scipy.stats import chi2_contingency\n",
    "import os"
   ]
  },
  {
   "cell_type": "code",
   "execution_count": 2,
   "id": "4d4003a8",
   "metadata": {},
   "outputs": [],
   "source": [
    "train_df = pd.read_csv('train.csv', index_col=0)\n",
    "test_df = pd.read_csv('test.csv', index_col=0)"
   ]
  },
  {
   "cell_type": "markdown",
   "id": "2b72451f",
   "metadata": {},
   "source": [
    "### Basic Exploratory Data Analysis"
   ]
  },
  {
   "cell_type": "code",
   "execution_count": 3,
   "id": "5a2e378a",
   "metadata": {},
   "outputs": [
    {
     "data": {
      "text/html": [
       "<div>\n",
       "<style scoped>\n",
       "    .dataframe tbody tr th:only-of-type {\n",
       "        vertical-align: middle;\n",
       "    }\n",
       "\n",
       "    .dataframe tbody tr th {\n",
       "        vertical-align: top;\n",
       "    }\n",
       "\n",
       "    .dataframe thead th {\n",
       "        text-align: right;\n",
       "    }\n",
       "</style>\n",
       "<table border=\"1\" class=\"dataframe\">\n",
       "  <thead>\n",
       "    <tr style=\"text-align: right;\">\n",
       "      <th></th>\n",
       "      <th>v2a1</th>\n",
       "      <th>hacdor</th>\n",
       "      <th>rooms</th>\n",
       "      <th>hacapo</th>\n",
       "      <th>v14a</th>\n",
       "      <th>refrig</th>\n",
       "      <th>v18q</th>\n",
       "      <th>v18q1</th>\n",
       "      <th>r4h1</th>\n",
       "      <th>r4h2</th>\n",
       "      <th>...</th>\n",
       "      <th>SQBescolari</th>\n",
       "      <th>SQBage</th>\n",
       "      <th>SQBhogar_total</th>\n",
       "      <th>SQBedjefe</th>\n",
       "      <th>SQBhogar_nin</th>\n",
       "      <th>SQBovercrowding</th>\n",
       "      <th>SQBdependency</th>\n",
       "      <th>SQBmeaned</th>\n",
       "      <th>agesq</th>\n",
       "      <th>Target</th>\n",
       "    </tr>\n",
       "    <tr>\n",
       "      <th>Id</th>\n",
       "      <th></th>\n",
       "      <th></th>\n",
       "      <th></th>\n",
       "      <th></th>\n",
       "      <th></th>\n",
       "      <th></th>\n",
       "      <th></th>\n",
       "      <th></th>\n",
       "      <th></th>\n",
       "      <th></th>\n",
       "      <th></th>\n",
       "      <th></th>\n",
       "      <th></th>\n",
       "      <th></th>\n",
       "      <th></th>\n",
       "      <th></th>\n",
       "      <th></th>\n",
       "      <th></th>\n",
       "      <th></th>\n",
       "      <th></th>\n",
       "      <th></th>\n",
       "    </tr>\n",
       "  </thead>\n",
       "  <tbody>\n",
       "    <tr>\n",
       "      <th>ID_279628684</th>\n",
       "      <td>190000.0</td>\n",
       "      <td>0</td>\n",
       "      <td>3</td>\n",
       "      <td>0</td>\n",
       "      <td>1</td>\n",
       "      <td>1</td>\n",
       "      <td>0</td>\n",
       "      <td>NaN</td>\n",
       "      <td>0</td>\n",
       "      <td>1</td>\n",
       "      <td>...</td>\n",
       "      <td>100</td>\n",
       "      <td>1849</td>\n",
       "      <td>1</td>\n",
       "      <td>100</td>\n",
       "      <td>0</td>\n",
       "      <td>1.000000</td>\n",
       "      <td>0.0</td>\n",
       "      <td>100.0</td>\n",
       "      <td>1849</td>\n",
       "      <td>4</td>\n",
       "    </tr>\n",
       "    <tr>\n",
       "      <th>ID_f29eb3ddd</th>\n",
       "      <td>135000.0</td>\n",
       "      <td>0</td>\n",
       "      <td>4</td>\n",
       "      <td>0</td>\n",
       "      <td>1</td>\n",
       "      <td>1</td>\n",
       "      <td>1</td>\n",
       "      <td>1.0</td>\n",
       "      <td>0</td>\n",
       "      <td>1</td>\n",
       "      <td>...</td>\n",
       "      <td>144</td>\n",
       "      <td>4489</td>\n",
       "      <td>1</td>\n",
       "      <td>144</td>\n",
       "      <td>0</td>\n",
       "      <td>1.000000</td>\n",
       "      <td>64.0</td>\n",
       "      <td>144.0</td>\n",
       "      <td>4489</td>\n",
       "      <td>4</td>\n",
       "    </tr>\n",
       "    <tr>\n",
       "      <th>ID_68de51c94</th>\n",
       "      <td>NaN</td>\n",
       "      <td>0</td>\n",
       "      <td>8</td>\n",
       "      <td>0</td>\n",
       "      <td>1</td>\n",
       "      <td>1</td>\n",
       "      <td>0</td>\n",
       "      <td>NaN</td>\n",
       "      <td>0</td>\n",
       "      <td>0</td>\n",
       "      <td>...</td>\n",
       "      <td>121</td>\n",
       "      <td>8464</td>\n",
       "      <td>1</td>\n",
       "      <td>0</td>\n",
       "      <td>0</td>\n",
       "      <td>0.250000</td>\n",
       "      <td>64.0</td>\n",
       "      <td>121.0</td>\n",
       "      <td>8464</td>\n",
       "      <td>4</td>\n",
       "    </tr>\n",
       "    <tr>\n",
       "      <th>ID_d671db89c</th>\n",
       "      <td>180000.0</td>\n",
       "      <td>0</td>\n",
       "      <td>5</td>\n",
       "      <td>0</td>\n",
       "      <td>1</td>\n",
       "      <td>1</td>\n",
       "      <td>1</td>\n",
       "      <td>1.0</td>\n",
       "      <td>0</td>\n",
       "      <td>2</td>\n",
       "      <td>...</td>\n",
       "      <td>81</td>\n",
       "      <td>289</td>\n",
       "      <td>16</td>\n",
       "      <td>121</td>\n",
       "      <td>4</td>\n",
       "      <td>1.777778</td>\n",
       "      <td>1.0</td>\n",
       "      <td>121.0</td>\n",
       "      <td>289</td>\n",
       "      <td>4</td>\n",
       "    </tr>\n",
       "    <tr>\n",
       "      <th>ID_d56d6f5f5</th>\n",
       "      <td>180000.0</td>\n",
       "      <td>0</td>\n",
       "      <td>5</td>\n",
       "      <td>0</td>\n",
       "      <td>1</td>\n",
       "      <td>1</td>\n",
       "      <td>1</td>\n",
       "      <td>1.0</td>\n",
       "      <td>0</td>\n",
       "      <td>2</td>\n",
       "      <td>...</td>\n",
       "      <td>121</td>\n",
       "      <td>1369</td>\n",
       "      <td>16</td>\n",
       "      <td>121</td>\n",
       "      <td>4</td>\n",
       "      <td>1.777778</td>\n",
       "      <td>1.0</td>\n",
       "      <td>121.0</td>\n",
       "      <td>1369</td>\n",
       "      <td>4</td>\n",
       "    </tr>\n",
       "  </tbody>\n",
       "</table>\n",
       "<p>5 rows × 142 columns</p>\n",
       "</div>"
      ],
      "text/plain": [
       "                  v2a1  hacdor  rooms  hacapo  v14a  refrig  v18q  v18q1  \\\n",
       "Id                                                                         \n",
       "ID_279628684  190000.0       0      3       0     1       1     0    NaN   \n",
       "ID_f29eb3ddd  135000.0       0      4       0     1       1     1    1.0   \n",
       "ID_68de51c94       NaN       0      8       0     1       1     0    NaN   \n",
       "ID_d671db89c  180000.0       0      5       0     1       1     1    1.0   \n",
       "ID_d56d6f5f5  180000.0       0      5       0     1       1     1    1.0   \n",
       "\n",
       "              r4h1  r4h2  ...  SQBescolari  SQBage  SQBhogar_total  SQBedjefe  \\\n",
       "Id                        ...                                                   \n",
       "ID_279628684     0     1  ...          100    1849               1        100   \n",
       "ID_f29eb3ddd     0     1  ...          144    4489               1        144   \n",
       "ID_68de51c94     0     0  ...          121    8464               1          0   \n",
       "ID_d671db89c     0     2  ...           81     289              16        121   \n",
       "ID_d56d6f5f5     0     2  ...          121    1369              16        121   \n",
       "\n",
       "              SQBhogar_nin  SQBovercrowding  SQBdependency  SQBmeaned  agesq  \\\n",
       "Id                                                                             \n",
       "ID_279628684             0         1.000000            0.0      100.0   1849   \n",
       "ID_f29eb3ddd             0         1.000000           64.0      144.0   4489   \n",
       "ID_68de51c94             0         0.250000           64.0      121.0   8464   \n",
       "ID_d671db89c             4         1.777778            1.0      121.0    289   \n",
       "ID_d56d6f5f5             4         1.777778            1.0      121.0   1369   \n",
       "\n",
       "              Target  \n",
       "Id                    \n",
       "ID_279628684       4  \n",
       "ID_f29eb3ddd       4  \n",
       "ID_68de51c94       4  \n",
       "ID_d671db89c       4  \n",
       "ID_d56d6f5f5       4  \n",
       "\n",
       "[5 rows x 142 columns]"
      ]
     },
     "execution_count": 3,
     "metadata": {},
     "output_type": "execute_result"
    }
   ],
   "source": [
    "train_df.head()"
   ]
  },
  {
   "cell_type": "code",
   "execution_count": 4,
   "id": "0ec10fc5",
   "metadata": {},
   "outputs": [
    {
     "data": {
      "text/html": [
       "<div>\n",
       "<style scoped>\n",
       "    .dataframe tbody tr th:only-of-type {\n",
       "        vertical-align: middle;\n",
       "    }\n",
       "\n",
       "    .dataframe tbody tr th {\n",
       "        vertical-align: top;\n",
       "    }\n",
       "\n",
       "    .dataframe thead th {\n",
       "        text-align: right;\n",
       "    }\n",
       "</style>\n",
       "<table border=\"1\" class=\"dataframe\">\n",
       "  <thead>\n",
       "    <tr style=\"text-align: right;\">\n",
       "      <th></th>\n",
       "      <th>v2a1</th>\n",
       "      <th>hacdor</th>\n",
       "      <th>rooms</th>\n",
       "      <th>hacapo</th>\n",
       "      <th>v14a</th>\n",
       "      <th>refrig</th>\n",
       "      <th>v18q</th>\n",
       "      <th>v18q1</th>\n",
       "      <th>r4h1</th>\n",
       "      <th>r4h2</th>\n",
       "      <th>...</th>\n",
       "      <th>age</th>\n",
       "      <th>SQBescolari</th>\n",
       "      <th>SQBage</th>\n",
       "      <th>SQBhogar_total</th>\n",
       "      <th>SQBedjefe</th>\n",
       "      <th>SQBhogar_nin</th>\n",
       "      <th>SQBovercrowding</th>\n",
       "      <th>SQBdependency</th>\n",
       "      <th>SQBmeaned</th>\n",
       "      <th>agesq</th>\n",
       "    </tr>\n",
       "    <tr>\n",
       "      <th>Id</th>\n",
       "      <th></th>\n",
       "      <th></th>\n",
       "      <th></th>\n",
       "      <th></th>\n",
       "      <th></th>\n",
       "      <th></th>\n",
       "      <th></th>\n",
       "      <th></th>\n",
       "      <th></th>\n",
       "      <th></th>\n",
       "      <th></th>\n",
       "      <th></th>\n",
       "      <th></th>\n",
       "      <th></th>\n",
       "      <th></th>\n",
       "      <th></th>\n",
       "      <th></th>\n",
       "      <th></th>\n",
       "      <th></th>\n",
       "      <th></th>\n",
       "      <th></th>\n",
       "    </tr>\n",
       "  </thead>\n",
       "  <tbody>\n",
       "    <tr>\n",
       "      <th>ID_2f6873615</th>\n",
       "      <td>NaN</td>\n",
       "      <td>0</td>\n",
       "      <td>5</td>\n",
       "      <td>0</td>\n",
       "      <td>1</td>\n",
       "      <td>1</td>\n",
       "      <td>0</td>\n",
       "      <td>NaN</td>\n",
       "      <td>1</td>\n",
       "      <td>1</td>\n",
       "      <td>...</td>\n",
       "      <td>4</td>\n",
       "      <td>0</td>\n",
       "      <td>16</td>\n",
       "      <td>9</td>\n",
       "      <td>0</td>\n",
       "      <td>1</td>\n",
       "      <td>2.25</td>\n",
       "      <td>0.25</td>\n",
       "      <td>272.25</td>\n",
       "      <td>16</td>\n",
       "    </tr>\n",
       "    <tr>\n",
       "      <th>ID_1c78846d2</th>\n",
       "      <td>NaN</td>\n",
       "      <td>0</td>\n",
       "      <td>5</td>\n",
       "      <td>0</td>\n",
       "      <td>1</td>\n",
       "      <td>1</td>\n",
       "      <td>0</td>\n",
       "      <td>NaN</td>\n",
       "      <td>1</td>\n",
       "      <td>1</td>\n",
       "      <td>...</td>\n",
       "      <td>41</td>\n",
       "      <td>256</td>\n",
       "      <td>1681</td>\n",
       "      <td>9</td>\n",
       "      <td>0</td>\n",
       "      <td>1</td>\n",
       "      <td>2.25</td>\n",
       "      <td>0.25</td>\n",
       "      <td>272.25</td>\n",
       "      <td>1681</td>\n",
       "    </tr>\n",
       "    <tr>\n",
       "      <th>ID_e5442cf6a</th>\n",
       "      <td>NaN</td>\n",
       "      <td>0</td>\n",
       "      <td>5</td>\n",
       "      <td>0</td>\n",
       "      <td>1</td>\n",
       "      <td>1</td>\n",
       "      <td>0</td>\n",
       "      <td>NaN</td>\n",
       "      <td>1</td>\n",
       "      <td>1</td>\n",
       "      <td>...</td>\n",
       "      <td>41</td>\n",
       "      <td>289</td>\n",
       "      <td>1681</td>\n",
       "      <td>9</td>\n",
       "      <td>0</td>\n",
       "      <td>1</td>\n",
       "      <td>2.25</td>\n",
       "      <td>0.25</td>\n",
       "      <td>272.25</td>\n",
       "      <td>1681</td>\n",
       "    </tr>\n",
       "    <tr>\n",
       "      <th>ID_a8db26a79</th>\n",
       "      <td>NaN</td>\n",
       "      <td>0</td>\n",
       "      <td>14</td>\n",
       "      <td>0</td>\n",
       "      <td>1</td>\n",
       "      <td>1</td>\n",
       "      <td>1</td>\n",
       "      <td>1.0</td>\n",
       "      <td>0</td>\n",
       "      <td>1</td>\n",
       "      <td>...</td>\n",
       "      <td>59</td>\n",
       "      <td>256</td>\n",
       "      <td>3481</td>\n",
       "      <td>1</td>\n",
       "      <td>256</td>\n",
       "      <td>0</td>\n",
       "      <td>1.00</td>\n",
       "      <td>0.00</td>\n",
       "      <td>256.00</td>\n",
       "      <td>3481</td>\n",
       "    </tr>\n",
       "    <tr>\n",
       "      <th>ID_a62966799</th>\n",
       "      <td>175000.0</td>\n",
       "      <td>0</td>\n",
       "      <td>4</td>\n",
       "      <td>0</td>\n",
       "      <td>1</td>\n",
       "      <td>1</td>\n",
       "      <td>1</td>\n",
       "      <td>1.0</td>\n",
       "      <td>0</td>\n",
       "      <td>0</td>\n",
       "      <td>...</td>\n",
       "      <td>18</td>\n",
       "      <td>121</td>\n",
       "      <td>324</td>\n",
       "      <td>1</td>\n",
       "      <td>0</td>\n",
       "      <td>1</td>\n",
       "      <td>0.25</td>\n",
       "      <td>64.00</td>\n",
       "      <td>NaN</td>\n",
       "      <td>324</td>\n",
       "    </tr>\n",
       "  </tbody>\n",
       "</table>\n",
       "<p>5 rows × 141 columns</p>\n",
       "</div>"
      ],
      "text/plain": [
       "                  v2a1  hacdor  rooms  hacapo  v14a  refrig  v18q  v18q1  \\\n",
       "Id                                                                         \n",
       "ID_2f6873615       NaN       0      5       0     1       1     0    NaN   \n",
       "ID_1c78846d2       NaN       0      5       0     1       1     0    NaN   \n",
       "ID_e5442cf6a       NaN       0      5       0     1       1     0    NaN   \n",
       "ID_a8db26a79       NaN       0     14       0     1       1     1    1.0   \n",
       "ID_a62966799  175000.0       0      4       0     1       1     1    1.0   \n",
       "\n",
       "              r4h1  r4h2  ...  age  SQBescolari  SQBage  SQBhogar_total  \\\n",
       "Id                        ...                                             \n",
       "ID_2f6873615     1     1  ...    4            0      16               9   \n",
       "ID_1c78846d2     1     1  ...   41          256    1681               9   \n",
       "ID_e5442cf6a     1     1  ...   41          289    1681               9   \n",
       "ID_a8db26a79     0     1  ...   59          256    3481               1   \n",
       "ID_a62966799     0     0  ...   18          121     324               1   \n",
       "\n",
       "              SQBedjefe  SQBhogar_nin  SQBovercrowding  SQBdependency  \\\n",
       "Id                                                                      \n",
       "ID_2f6873615          0             1             2.25           0.25   \n",
       "ID_1c78846d2          0             1             2.25           0.25   \n",
       "ID_e5442cf6a          0             1             2.25           0.25   \n",
       "ID_a8db26a79        256             0             1.00           0.00   \n",
       "ID_a62966799          0             1             0.25          64.00   \n",
       "\n",
       "              SQBmeaned  agesq  \n",
       "Id                              \n",
       "ID_2f6873615     272.25     16  \n",
       "ID_1c78846d2     272.25   1681  \n",
       "ID_e5442cf6a     272.25   1681  \n",
       "ID_a8db26a79     256.00   3481  \n",
       "ID_a62966799        NaN    324  \n",
       "\n",
       "[5 rows x 141 columns]"
      ]
     },
     "execution_count": 4,
     "metadata": {},
     "output_type": "execute_result"
    }
   ],
   "source": [
    "test_df.head()"
   ]
  },
  {
   "cell_type": "code",
   "execution_count": 5,
   "id": "609a6295",
   "metadata": {},
   "outputs": [
    {
     "name": "stdout",
     "output_type": "stream",
     "text": [
      "(9557, 142) (23856, 141)\n"
     ]
    }
   ],
   "source": [
    "print(train_df.shape, test_df.shape)\n",
    "#The training data has 142 columns in addition to the index column.\n",
    "#As expected the training data has an additional column. This column must be the output variable."
   ]
  },
  {
   "cell_type": "markdown",
   "id": "a38c95e8",
   "metadata": {},
   "source": [
    "### Identification and exploration of the output variable"
   ]
  },
  {
   "cell_type": "code",
   "execution_count": 6,
   "id": "0669ab67",
   "metadata": {},
   "outputs": [
    {
     "data": {
      "text/plain": [
       "['Target']"
      ]
     },
     "execution_count": 6,
     "metadata": {},
     "output_type": "execute_result"
    }
   ],
   "source": [
    "[col for col in train_df.columns if col not in test_df.columns]\n",
    "#The name of the column that appears in the training data, but not the test data is \"Target\"\n",
    "#The \"Target\" column therefore contains the output variable."
   ]
  },
  {
   "cell_type": "code",
   "execution_count": 7,
   "id": "86e35b17",
   "metadata": {},
   "outputs": [
    {
     "data": {
      "text/plain": [
       "4    0.627394\n",
       "2    0.167103\n",
       "3    0.126504\n",
       "1    0.079000\n",
       "Name: Target, dtype: float64"
      ]
     },
     "execution_count": 7,
     "metadata": {},
     "output_type": "execute_result"
    }
   ],
   "source": [
    "train_df.Target.value_counts(normalize=True)\n",
    "# We can see that the dataset is biased towards the target value 4.\n",
    "#Approximately 63% of all entries have this label.\n",
    "#This is approximately four times as high as the next most popular label.\n"
   ]
  },
  {
   "cell_type": "code",
   "execution_count": 8,
   "id": "dde4fdaf",
   "metadata": {},
   "outputs": [
    {
     "data": {
      "image/png": "[encoded data removed]",
      "text/plain": [
       "<Figure size 432x288 with 1 Axes>"
      ]
     },
     "metadata": {
      "needs_background": "light"
     },
     "output_type": "display_data"
    }
   ],
   "source": [
    "#The plot below gives us a visual of the distributions of the different labels in the training data.\n",
    "sns.countplot(data=train_df, x=\"Target\")\n",
    "plt.title('Graph showing the distribution of the Target variable')\n",
    "plt.show()"
   ]
  },
  {
   "cell_type": "code",
   "execution_count": 9,
   "id": "d12ef54b",
   "metadata": {},
   "outputs": [
    {
     "data": {
      "text/plain": [
       "0"
      ]
     },
     "execution_count": 9,
     "metadata": {},
     "output_type": "execute_result"
    }
   ],
   "source": [
    "train_df.Target.isnull().sum()\n",
    "#There are no missing values in the target labels column."
   ]
  },
  {
   "cell_type": "markdown",
   "id": "2fa5ff2d",
   "metadata": {},
   "source": [
    "### The data dictionary\n",
    "\n",
    "- The data dictionary is a text document in which each line contains information about one particular column/feature in the data.\n",
    "- Preliminary analysis of the data dictionary, shows us the items are numbered in the same order they appear in the dataset, and that similar items are close to each other.\n",
    "- Two custom functions will be created to help us to easily navigate the data dictionary. The first function will be called key_descriptor, and the second will be called feature_finder. Their descriptions will be written in their docstrings."
   ]
  },
  {
   "cell_type": "code",
   "execution_count": 10,
   "id": "2d0030f9",
   "metadata": {},
   "outputs": [],
   "source": [
    "with open('data_dict.txt') as f:\n",
    "    data_dict = f.readlines()\n",
    "    \n",
    "#calling .readlines() on the file object creates a list of strings. Each string is a line in the file."
   ]
  },
  {
   "cell_type": "code",
   "execution_count": 11,
   "id": "d989d7f8",
   "metadata": {},
   "outputs": [
    {
     "data": {
      "text/plain": [
       "['1. ID = Unique ID\\n',\n",
       " '2. v2a1, Monthly rent payment\\n',\n",
       " '3. hacdor, =1 Overcrowding by bedrooms\\n',\n",
       " '4. rooms, number of all rooms in the house\\n',\n",
       " '5. hacapo, =1 Overcrowding by rooms\\n',\n",
       " '6. v14a, =1 has bathroom in the household\\n',\n",
       " '7. refrig, =1 if the household has a refrigerator\\n',\n",
       " '8. v18q, owns a tablet\\n',\n",
       " '9. v18q1, number of tablets household owns\\n',\n",
       " '10. r4h1, Males younger than 12 years of age\\n',\n",
       " '11. r4h2, Males 12 years of age and older\\n',\n",
       " '12. r4h3, Total males in the household\\n',\n",
       " '13. r4m1, Females younger than 12 years of age\\n',\n",
       " '14. r4m2, Females 12 years of age and older\\n',\n",
       " '15. r4m3, Total females in the household\\n',\n",
       " '16. r4t1, persons younger than 12 years of age\\n',\n",
       " '17. r4t2, persons 12 years of age and older\\n',\n",
       " '18. r4t3, Total persons in the household\\n',\n",
       " '19. tamhog, size of the household\\n',\n",
       " '20. tamviv, number of persons living in the household\\n']"
      ]
     },
     "execution_count": 11,
     "metadata": {},
     "output_type": "execute_result"
    }
   ],
   "source": [
    "data_dict[:20]"
   ]
  },
  {
   "cell_type": "code",
   "execution_count": 12,
   "id": "0b55927d",
   "metadata": {},
   "outputs": [
    {
     "data": {
      "text/plain": [
       "142"
      ]
     },
     "execution_count": 12,
     "metadata": {},
     "output_type": "execute_result"
    }
   ],
   "source": [
    "len(data_dict)\n",
    "#Each entry in the data dictionary describes exactly one feature. \n",
    "#There are 142 features (include the unique id for each individual)."
   ]
  },
  {
   "cell_type": "code",
   "execution_count": 13,
   "id": "967ae3ad",
   "metadata": {},
   "outputs": [],
   "source": [
    "def key_descriptor(feature):\n",
    "    '''\n",
    "        This function will take the name of a column in the DataFrame. It will then access the line(s) in \n",
    "        the data dictionary that contain that column name. These lines will in turn give us the description\n",
    "        of the column given to the function.\n",
    "    '''\n",
    "    lines = [line for line in data_dict if feature in line]\n",
    "    \n",
    "    return lines"
   ]
  },
  {
   "cell_type": "code",
   "execution_count": 14,
   "id": "3df0ad08",
   "metadata": {},
   "outputs": [],
   "source": [
    "def feature_finder(word):\n",
    "    \"\"\"\n",
    "    This function takes a word and checks all the descriptions in the data dictionary to see if any of them\n",
    "    contain this word\n",
    "    \"\"\" \n",
    "    lines = [line for line in data_dict if word in line]\n",
    "    \n",
    "    return lines\n",
    "    "
   ]
  },
  {
   "cell_type": "code",
   "execution_count": 15,
   "id": "a02c12fa",
   "metadata": {},
   "outputs": [
    {
     "data": {
      "text/plain": [
       "['16. r4t1, persons younger than 12 years of age\\n']"
      ]
     },
     "execution_count": 15,
     "metadata": {},
     "output_type": "execute_result"
    }
   ],
   "source": [
    "#test of the key_descriptor() function\n",
    "key_descriptor('r4t1')"
   ]
  },
  {
   "cell_type": "code",
   "execution_count": 16,
   "id": "ff638602",
   "metadata": {},
   "outputs": [
    {
     "data": {
      "text/plain": [
       "['10. r4h1, Males younger than 12 years of age\\n',\n",
       " '11. r4h2, Males 12 years of age and older\\n',\n",
       " '13. r4m1, Females younger than 12 years of age\\n',\n",
       " '14. r4m2, Females 12 years of age and older\\n',\n",
       " '16. r4t1, persons younger than 12 years of age\\n',\n",
       " '17. r4t2, persons 12 years of age and older\\n',\n",
       " '104. meaneduc,average years of education for adults (18+)\\n',\n",
       " '133. age= Age in years\\n',\n",
       " '135. SQBage, age squared\\n',\n",
       " '142. agesq= Age squared']"
      ]
     },
     "execution_count": 16,
     "metadata": {},
     "output_type": "execute_result"
    }
   ],
   "source": [
    "#test of feature_finder function\n",
    "feature_finder('age')"
   ]
  },
  {
   "cell_type": "code",
   "execution_count": 17,
   "id": "38c2c065",
   "metadata": {},
   "outputs": [
    {
     "data": {
      "text/plain": [
       "Id\n",
       "ID_279628684    0\n",
       "ID_f29eb3ddd    0\n",
       "ID_68de51c94    0\n",
       "ID_d671db89c    1\n",
       "ID_d56d6f5f5    1\n",
       "               ..\n",
       "ID_d45ae367d    1\n",
       "ID_c94744e07    1\n",
       "ID_85fc658f8    1\n",
       "ID_ced540c61    1\n",
       "ID_a38c64491    1\n",
       "Name: r4t1, Length: 9557, dtype: int64"
      ]
     },
     "execution_count": 17,
     "metadata": {},
     "output_type": "execute_result"
    }
   ],
   "source": [
    "train_df.r4t1\n",
    "#As explained by the data dictionary this column contains 1 if the person is younger than 12 years old and 0 otherwise"
   ]
  },
  {
   "cell_type": "markdown",
   "id": "1a0e82f8",
   "metadata": {},
   "source": [
    "### Analysis of the data types of the various features present in the data\n",
    "\n"
   ]
  },
  {
   "cell_type": "code",
   "execution_count": 18,
   "id": "4b19f242",
   "metadata": {},
   "outputs": [
    {
     "name": "stdout",
     "output_type": "stream",
     "text": [
      "<class 'pandas.core.frame.DataFrame'>\n",
      "Index: 9557 entries, ID_279628684 to ID_a38c64491\n",
      "Columns: 141 entries, v2a1 to agesq\n",
      "dtypes: float64(8), int64(129), object(4)\n",
      "memory usage: 10.6+ MB\n"
     ]
    }
   ],
   "source": [
    "train_df.drop('Target', axis=1).info()\n",
    "#The training data has 141 feature columns (excluding the unique ids used for the index column).\n",
    "#129 of the feature columns have integer values\n",
    "#8 of the feature columns have float values.\n",
    "#4 of the feature columns have either string values or a mixture of numerical and string values."
   ]
  },
  {
   "cell_type": "markdown",
   "id": "6cff7429",
   "metadata": {},
   "source": [
    "### Exploration of object data\n",
    "\n",
    "Object data consists of values that may be strings; or mixtures of strings,integers, floats or Boolean values."
   ]
  },
  {
   "cell_type": "code",
   "execution_count": 19,
   "id": "76dd2ddc",
   "metadata": {},
   "outputs": [
    {
     "name": "stderr",
     "output_type": "stream",
     "text": [
      "C:\\Users\\adl\\AppData\\Local\\Temp/ipykernel_2472/4035510045.py:1: DeprecationWarning: `np.object` is a deprecated alias for the builtin `object`. To silence this warning, use `object` by itself. Doing this will not modify any behavior and is safe. \n",
      "Deprecated in NumPy 1.20; for more details and guidance: https://numpy.org/devdocs/release/1.20.0-notes.html#deprecations\n",
      "  object_train_df = train_df.select_dtypes(include=np.object)\n"
     ]
    }
   ],
   "source": [
    "object_train_df = train_df.select_dtypes(include=np.object)"
   ]
  },
  {
   "cell_type": "code",
   "execution_count": 20,
   "id": "6ca5cf4b",
   "metadata": {},
   "outputs": [
    {
     "data": {
      "text/html": [
       "<div>\n",
       "<style scoped>\n",
       "    .dataframe tbody tr th:only-of-type {\n",
       "        vertical-align: middle;\n",
       "    }\n",
       "\n",
       "    .dataframe tbody tr th {\n",
       "        vertical-align: top;\n",
       "    }\n",
       "\n",
       "    .dataframe thead th {\n",
       "        text-align: right;\n",
       "    }\n",
       "</style>\n",
       "<table border=\"1\" class=\"dataframe\">\n",
       "  <thead>\n",
       "    <tr style=\"text-align: right;\">\n",
       "      <th></th>\n",
       "      <th>idhogar</th>\n",
       "      <th>dependency</th>\n",
       "      <th>edjefe</th>\n",
       "      <th>edjefa</th>\n",
       "    </tr>\n",
       "    <tr>\n",
       "      <th>Id</th>\n",
       "      <th></th>\n",
       "      <th></th>\n",
       "      <th></th>\n",
       "      <th></th>\n",
       "    </tr>\n",
       "  </thead>\n",
       "  <tbody>\n",
       "    <tr>\n",
       "      <th>ID_279628684</th>\n",
       "      <td>21eb7fcc1</td>\n",
       "      <td>no</td>\n",
       "      <td>10</td>\n",
       "      <td>no</td>\n",
       "    </tr>\n",
       "    <tr>\n",
       "      <th>ID_f29eb3ddd</th>\n",
       "      <td>0e5d7a658</td>\n",
       "      <td>8</td>\n",
       "      <td>12</td>\n",
       "      <td>no</td>\n",
       "    </tr>\n",
       "    <tr>\n",
       "      <th>ID_68de51c94</th>\n",
       "      <td>2c7317ea8</td>\n",
       "      <td>8</td>\n",
       "      <td>no</td>\n",
       "      <td>11</td>\n",
       "    </tr>\n",
       "    <tr>\n",
       "      <th>ID_d671db89c</th>\n",
       "      <td>2b58d945f</td>\n",
       "      <td>yes</td>\n",
       "      <td>11</td>\n",
       "      <td>no</td>\n",
       "    </tr>\n",
       "    <tr>\n",
       "      <th>ID_d56d6f5f5</th>\n",
       "      <td>2b58d945f</td>\n",
       "      <td>yes</td>\n",
       "      <td>11</td>\n",
       "      <td>no</td>\n",
       "    </tr>\n",
       "    <tr>\n",
       "      <th>ID_ec05b1a7b</th>\n",
       "      <td>2b58d945f</td>\n",
       "      <td>yes</td>\n",
       "      <td>11</td>\n",
       "      <td>no</td>\n",
       "    </tr>\n",
       "    <tr>\n",
       "      <th>ID_e9e0c1100</th>\n",
       "      <td>2b58d945f</td>\n",
       "      <td>yes</td>\n",
       "      <td>11</td>\n",
       "      <td>no</td>\n",
       "    </tr>\n",
       "    <tr>\n",
       "      <th>ID_3e04e571e</th>\n",
       "      <td>d6dae86b7</td>\n",
       "      <td>yes</td>\n",
       "      <td>9</td>\n",
       "      <td>no</td>\n",
       "    </tr>\n",
       "    <tr>\n",
       "      <th>ID_1284f8aad</th>\n",
       "      <td>d6dae86b7</td>\n",
       "      <td>yes</td>\n",
       "      <td>9</td>\n",
       "      <td>no</td>\n",
       "    </tr>\n",
       "    <tr>\n",
       "      <th>ID_51f52fdd2</th>\n",
       "      <td>d6dae86b7</td>\n",
       "      <td>yes</td>\n",
       "      <td>9</td>\n",
       "      <td>no</td>\n",
       "    </tr>\n",
       "  </tbody>\n",
       "</table>\n",
       "</div>"
      ],
      "text/plain": [
       "                idhogar dependency edjefe edjefa\n",
       "Id                                              \n",
       "ID_279628684  21eb7fcc1         no     10     no\n",
       "ID_f29eb3ddd  0e5d7a658          8     12     no\n",
       "ID_68de51c94  2c7317ea8          8     no     11\n",
       "ID_d671db89c  2b58d945f        yes     11     no\n",
       "ID_d56d6f5f5  2b58d945f        yes     11     no\n",
       "ID_ec05b1a7b  2b58d945f        yes     11     no\n",
       "ID_e9e0c1100  2b58d945f        yes     11     no\n",
       "ID_3e04e571e  d6dae86b7        yes      9     no\n",
       "ID_1284f8aad  d6dae86b7        yes      9     no\n",
       "ID_51f52fdd2  d6dae86b7        yes      9     no"
      ]
     },
     "execution_count": 20,
     "metadata": {},
     "output_type": "execute_result"
    }
   ],
   "source": [
    "object_train_df.head(10)\n",
    "#As was discovered during our earlier exploratory data analysis; there are 4 columns with non-numerical data."
   ]
  },
  {
   "cell_type": "markdown",
   "id": "1f3a39dd",
   "metadata": {},
   "source": [
    "From what we can see drom the first 10 rows of the DataFrame above, the 'dependency', 'edjefe' and 'edjefa' columns seem to contain a mixture of numerical and string values, while the idhogar column seems to contain string values only. Let's learn more about these columns."
   ]
  },
  {
   "cell_type": "code",
   "execution_count": 21,
   "id": "766aa077",
   "metadata": {},
   "outputs": [
    {
     "name": "stdout",
     "output_type": "stream",
     "text": [
      "['96. idhogar, Household level identifier\\n']\n",
      "['101. dependency, Dependency rate, calculated = (number of members of the household younger than 19 or older than 64)/(number of member of household between 19 and 64)\\n', '140. SQBdependency, dependency squared\\n']\n",
      "['102. edjefe, years of education of male head of household, based on the interaction of escolari (years of education), head of household and gender, yes=1 and no=0\\n', '137. SQBedjefe, edjefe squared\\n']\n",
      "['103. edjefa, years of education of female head of household, based on the interaction ofescolari (years of education), head of household and gender, yes=1 and no=0\\n']\n"
     ]
    }
   ],
   "source": [
    "for i in object_train_df.columns:\n",
    "    print(key_descriptor(i))\n",
    "    "
   ]
  },
  {
   "cell_type": "markdown",
   "id": "56827a30",
   "metadata": {},
   "source": [
    "**The idhogar column**\n",
    "\n",
    "From the description of the data in the data dictionary we can conclude that the idhogar column should consists of string values as this is a household level identifier for each unique household. This information will not be given to the model so we need not be concerned with performing and data wrangling operations on this column.\n",
    "\n"
   ]
  },
  {
   "cell_type": "markdown",
   "id": "c4bb76ba",
   "metadata": {},
   "source": [
    "**The dependency column**\n",
    "\n",
    "The dependency column contains the dependency rate. From the description in the data dictionary we can conclude that this should be a floating point value. \n",
    "\n",
    "Let's take a closer look at the values in this column. To do this, we will design a custom function that is capable of identifying all the distinct non - numeric values in a Series as well returning the string, \"numeric data\", when it encounters a numeric value."
   ]
  },
  {
   "cell_type": "code",
   "execution_count": 22,
   "id": "507cb10b",
   "metadata": {},
   "outputs": [],
   "source": [
    "def numeric_tester(val):\n",
    "    try:\n",
    "        float(val)\n",
    "        return \"numeric data\"\n",
    "    except ValueError:\n",
    "        return val"
   ]
  },
  {
   "cell_type": "code",
   "execution_count": 23,
   "id": "741c7fad",
   "metadata": {},
   "outputs": [
    {
     "name": "stdout",
     "output_type": "stream",
     "text": [
      "numeric data\n",
      "Testing 123\n"
     ]
    }
   ],
   "source": [
    "#Function test\n",
    "print(numeric_tester(3.3))\n",
    "print(numeric_tester(\"Testing 123\"))\n",
    "#When the function encounters numeric data, it returns the string - 'numeric data'.\n",
    "#When the function encounters non-numeric data, it returns the value it encounters."
   ]
  },
  {
   "cell_type": "code",
   "execution_count": 24,
   "id": "8ad27af8",
   "metadata": {},
   "outputs": [
    {
     "data": {
      "text/plain": [
       "numeric data    5618\n",
       "yes             2192\n",
       "no              1747\n",
       "Name: dependency, dtype: int64"
      ]
     },
     "execution_count": 24,
     "metadata": {},
     "output_type": "execute_result"
    }
   ],
   "source": [
    "object_train_df.dependency.apply(numeric_tester).value_counts()"
   ]
  },
  {
   "cell_type": "markdown",
   "id": "72d4ceb7",
   "metadata": {},
   "source": [
    "From what we see, there are 5618 numeric values in the dependency column, 2192 values that are \"yes\" and 1747 values that are \"no\". From the description of this variable, we can conclude that the yes values should be 1 and the no values should be 0. Written below is a custom function that will convert the yes values to 1 and the no values to 0."
   ]
  },
  {
   "cell_type": "code",
   "execution_count": 25,
   "id": "d2ca958d",
   "metadata": {},
   "outputs": [],
   "source": [
    "def yes_no_converter(val):\n",
    "    if val == \"yes\":\n",
    "        return 1.0\n",
    "    elif val == \"no\":\n",
    "        return 0.0\n",
    "    else:\n",
    "        return float(val)\n",
    "    "
   ]
  },
  {
   "cell_type": "code",
   "execution_count": 26,
   "id": "5b4a14b8",
   "metadata": {},
   "outputs": [
    {
     "data": {
      "text/plain": [
       "dtype('float64')"
      ]
     },
     "execution_count": 26,
     "metadata": {},
     "output_type": "execute_result"
    }
   ],
   "source": [
    "dependency_modified = object_train_df.dependency.apply(yes_no_converter)\n",
    "dependency_modified.dtype\n",
    "#As we can see this conversion gives us another column of float data"
   ]
  },
  {
   "cell_type": "code",
   "execution_count": 27,
   "id": "cb8ee3e2",
   "metadata": {},
   "outputs": [
    {
     "data": {
      "image/png": "[encoded data removed]",
      "text/plain": [
       "<Figure size 432x288 with 1 Axes>"
      ]
     },
     "metadata": {
      "needs_background": "light"
     },
     "output_type": "display_data"
    }
   ],
   "source": [
    "sns.histplot(dependency_modified)\n",
    "plt.title('Graph showing the distribution of the data in the dependency column after performing data cleaning')\n",
    "plt.show()"
   ]
  },
  {
   "cell_type": "markdown",
   "id": "5003f993",
   "metadata": {},
   "source": [
    "**The edjefe column**\n",
    "\n",
    "The edjefe column gives the years of education of male head of household, based on the interaction of escolari (years of education).\n",
    "\n",
    "The data dictionary tells us that we should convert the \"yes\" values to 1 and the \"no\" values to 0. Before we convert, we should use the custom function defined earlier to see if there are any other non - numeric values in the column."
   ]
  },
  {
   "cell_type": "code",
   "execution_count": 28,
   "id": "b085b06b",
   "metadata": {},
   "outputs": [
    {
     "data": {
      "text/plain": [
       "numeric data    5672\n",
       "no              3762\n",
       "yes              123\n",
       "Name: edjefe, dtype: int64"
      ]
     },
     "execution_count": 28,
     "metadata": {},
     "output_type": "execute_result"
    }
   ],
   "source": [
    "object_train_df.edjefe.apply(numeric_tester).value_counts()\n",
    "#There are no other non - numeric data so we can go ahead and convert the yes and no values."
   ]
  },
  {
   "cell_type": "code",
   "execution_count": 29,
   "id": "4a6ace95",
   "metadata": {},
   "outputs": [
    {
     "data": {
      "text/plain": [
       "Id\n",
       "ID_279628684    10\n",
       "ID_f29eb3ddd    12\n",
       "ID_68de51c94     0\n",
       "ID_d671db89c    11\n",
       "ID_d56d6f5f5    11\n",
       "                ..\n",
       "ID_d45ae367d     9\n",
       "ID_c94744e07     9\n",
       "ID_85fc658f8     9\n",
       "ID_ced540c61     9\n",
       "ID_a38c64491     9\n",
       "Name: edjefe, Length: 9557, dtype: int64"
      ]
     },
     "execution_count": 29,
     "metadata": {},
     "output_type": "execute_result"
    }
   ],
   "source": [
    "edjefe_modified = object_train_df.edjefe.apply(yes_no_converter).apply(int)\n",
    "edjefe_modified\n",
    "#The data has also been reconverted to integer type."
   ]
  },
  {
   "cell_type": "code",
   "execution_count": 30,
   "id": "5923924f",
   "metadata": {},
   "outputs": [
    {
     "data": {
      "image/png": "[encoded data removed]",
      "text/plain": [
       "<Figure size 432x288 with 1 Axes>"
      ]
     },
     "metadata": {
      "needs_background": "light"
     },
     "output_type": "display_data"
    }
   ],
   "source": [
    "sns.countplot(x=edjefe_modified)\n",
    "plt.title('Graph showing the distribution of the data in the \"edjefe\" column after performing data cleaning')\n",
    "plt.show()\n"
   ]
  },
  {
   "cell_type": "markdown",
   "id": "b9eefa24",
   "metadata": {},
   "source": [
    "**The edjefa column**\n",
    "\n",
    "The edjefe column gives the years of education of the female head of household, based on the interaction of escolari (years of education).The data dictionary tells us that we should convert the \"yes\" values to 1 and the \"no\" values to 0. Before we convert we will use the custom function defined earlier to see if there are any other non - numeric values in the column."
   ]
  },
  {
   "cell_type": "code",
   "execution_count": 31,
   "id": "9c22b81e",
   "metadata": {},
   "outputs": [
    {
     "data": {
      "text/plain": [
       "no              6230\n",
       "numeric data    3258\n",
       "yes               69\n",
       "Name: edjefa, dtype: int64"
      ]
     },
     "execution_count": 31,
     "metadata": {},
     "output_type": "execute_result"
    }
   ],
   "source": [
    "object_train_df.edjefa.apply(numeric_tester).value_counts()\n",
    "#There are no other non - numeric data so we can go ahead and convert the yes and no values."
   ]
  },
  {
   "cell_type": "code",
   "execution_count": 32,
   "id": "e3fd46df",
   "metadata": {},
   "outputs": [
    {
     "data": {
      "text/plain": [
       "Id\n",
       "ID_279628684     0\n",
       "ID_f29eb3ddd     0\n",
       "ID_68de51c94    11\n",
       "ID_d671db89c     0\n",
       "ID_d56d6f5f5     0\n",
       "                ..\n",
       "ID_d45ae367d     0\n",
       "ID_c94744e07     0\n",
       "ID_85fc658f8     0\n",
       "ID_ced540c61     0\n",
       "ID_a38c64491     0\n",
       "Name: edjefa, Length: 9557, dtype: int64"
      ]
     },
     "execution_count": 32,
     "metadata": {},
     "output_type": "execute_result"
    }
   ],
   "source": [
    "edjefa_modified = object_train_df.edjefa.apply(yes_no_converter).apply(int)\n",
    "edjefa_modified\n",
    "#We have also reconverted the data to integer type."
   ]
  },
  {
   "cell_type": "code",
   "execution_count": 33,
   "id": "bec4bd67",
   "metadata": {},
   "outputs": [
    {
     "data": {
      "image/png": "[encoded data removed]",
      "text/plain": [
       "<Figure size 432x288 with 1 Axes>"
      ]
     },
     "metadata": {
      "needs_background": "light"
     },
     "output_type": "display_data"
    }
   ],
   "source": [
    "sns.countplot(x=edjefa_modified)\n",
    "plt.title('Graph showing the distribution of the data in the \"edjefa\" column after performing data cleaning')\n",
    "plt.show()"
   ]
  },
  {
   "cell_type": "markdown",
   "id": "aa99c75f",
   "metadata": {},
   "source": [
    "### Data Wrangling I\n"
   ]
  },
  {
   "cell_type": "code",
   "execution_count": 34,
   "id": "7807f8f1",
   "metadata": {},
   "outputs": [],
   "source": [
    "def f1_object_data_cleaner(df):\n",
    "    df.dependency = df.dependency.apply(yes_no_converter)\n",
    "    df.edjefe = df.edjefe.apply(yes_no_converter).apply(int)\n",
    "    df.edjefa = df.edjefa.apply(yes_no_converter).apply(int)\n",
    "    \n",
    "    \n",
    "    return df\n",
    "\n"
   ]
  },
  {
   "cell_type": "code",
   "execution_count": 35,
   "id": "7bd87a6e",
   "metadata": {},
   "outputs": [
    {
     "name": "stdout",
     "output_type": "stream",
     "text": [
      "<class 'pandas.core.frame.DataFrame'>\n",
      "Index: 9557 entries, ID_279628684 to ID_a38c64491\n",
      "Columns: 142 entries, v2a1 to Target\n",
      "dtypes: float64(8), int64(130), object(4)\n",
      "memory usage: 10.7+ MB\n"
     ]
    }
   ],
   "source": [
    "train_df.info()"
   ]
  },
  {
   "cell_type": "code",
   "execution_count": 36,
   "id": "31992616",
   "metadata": {},
   "outputs": [
    {
     "name": "stdout",
     "output_type": "stream",
     "text": [
      "<class 'pandas.core.frame.DataFrame'>\n",
      "Index: 9557 entries, ID_279628684 to ID_a38c64491\n",
      "Columns: 142 entries, v2a1 to Target\n",
      "dtypes: float64(9), int64(132), object(1)\n",
      "memory usage: 10.7+ MB\n"
     ]
    }
   ],
   "source": [
    "f1_object_data_cleaner(train_df.copy()).info()\n",
    "#After applying object data cleaner, the resulting DF will only have one column of object datatype.\n",
    "#We will drop this column later.\n",
    "#We have increased the number of float columns by 1, and integer columns by 2."
   ]
  },
  {
   "cell_type": "markdown",
   "id": "941a7125",
   "metadata": {},
   "source": [
    "### Further Exploratory Data Analysis\n",
    "\n",
    "The aim of the next section is to determine if all the members of a household have the same poverty level.\n",
    "\n",
    "If all members of the same household have the same poverty level, there should be no difference between the maximum and minimum value of the target variable (poverty level) for a given household. The maximum and minimum value of the poverty levels in each household will be analyzed and used to answer the fore mentioned question. \n",
    "\n",
    "In cases where it is found that there are differences in the poverty level of individuals in the same household, the poverty level of each individual in the household will be set to the poverty level of the head of the household."
   ]
  },
  {
   "cell_type": "code",
   "execution_count": 37,
   "id": "60ce1a27",
   "metadata": {},
   "outputs": [
    {
     "data": {
      "text/plain": [
       "['96. idhogar, Household level identifier\\n']"
      ]
     },
     "execution_count": 37,
     "metadata": {},
     "output_type": "execute_result"
    }
   ],
   "source": [
    "key_descriptor(\"idhogar\")"
   ]
  },
  {
   "cell_type": "code",
   "execution_count": 38,
   "id": "8429486a",
   "metadata": {},
   "outputs": [
    {
     "data": {
      "text/plain": [
       "Id\n",
       "ID_279628684    21eb7fcc1\n",
       "ID_f29eb3ddd    0e5d7a658\n",
       "ID_68de51c94    2c7317ea8\n",
       "ID_d671db89c    2b58d945f\n",
       "ID_d56d6f5f5    2b58d945f\n",
       "Name: idhogar, dtype: object"
      ]
     },
     "execution_count": 38,
     "metadata": {},
     "output_type": "execute_result"
    }
   ],
   "source": [
    "train_df.idhogar.head()"
   ]
  },
  {
   "cell_type": "code",
   "execution_count": 39,
   "id": "e5bd3109",
   "metadata": {},
   "outputs": [],
   "source": [
    "households = train_df.groupby(by=\"idhogar\")\n",
    "#First we will group the individuals according to their households"
   ]
  },
  {
   "cell_type": "code",
   "execution_count": 40,
   "id": "a928be27",
   "metadata": {},
   "outputs": [
    {
     "data": {
      "text/plain": [
       "2988"
      ]
     },
     "execution_count": 40,
     "metadata": {},
     "output_type": "execute_result"
    }
   ],
   "source": [
    "len(households)\n",
    "#There are 2988 households to which the 9557 people belong."
   ]
  },
  {
   "cell_type": "code",
   "execution_count": 41,
   "id": "735c7384",
   "metadata": {},
   "outputs": [
    {
     "data": {
      "text/html": [
       "<div>\n",
       "<style scoped>\n",
       "    .dataframe tbody tr th:only-of-type {\n",
       "        vertical-align: middle;\n",
       "    }\n",
       "\n",
       "    .dataframe tbody tr th {\n",
       "        vertical-align: top;\n",
       "    }\n",
       "\n",
       "    .dataframe thead th {\n",
       "        text-align: right;\n",
       "    }\n",
       "</style>\n",
       "<table border=\"1\" class=\"dataframe\">\n",
       "  <thead>\n",
       "    <tr style=\"text-align: right;\">\n",
       "      <th></th>\n",
       "      <th>v2a1</th>\n",
       "      <th>hacdor</th>\n",
       "      <th>rooms</th>\n",
       "      <th>hacapo</th>\n",
       "      <th>v14a</th>\n",
       "      <th>refrig</th>\n",
       "      <th>v18q</th>\n",
       "      <th>v18q1</th>\n",
       "      <th>r4h1</th>\n",
       "      <th>r4h2</th>\n",
       "      <th>...</th>\n",
       "      <th>SQBescolari</th>\n",
       "      <th>SQBage</th>\n",
       "      <th>SQBhogar_total</th>\n",
       "      <th>SQBedjefe</th>\n",
       "      <th>SQBhogar_nin</th>\n",
       "      <th>SQBovercrowding</th>\n",
       "      <th>SQBdependency</th>\n",
       "      <th>SQBmeaned</th>\n",
       "      <th>agesq</th>\n",
       "      <th>Target</th>\n",
       "    </tr>\n",
       "    <tr>\n",
       "      <th>Id</th>\n",
       "      <th></th>\n",
       "      <th></th>\n",
       "      <th></th>\n",
       "      <th></th>\n",
       "      <th></th>\n",
       "      <th></th>\n",
       "      <th></th>\n",
       "      <th></th>\n",
       "      <th></th>\n",
       "      <th></th>\n",
       "      <th></th>\n",
       "      <th></th>\n",
       "      <th></th>\n",
       "      <th></th>\n",
       "      <th></th>\n",
       "      <th></th>\n",
       "      <th></th>\n",
       "      <th></th>\n",
       "      <th></th>\n",
       "      <th></th>\n",
       "      <th></th>\n",
       "    </tr>\n",
       "  </thead>\n",
       "  <tbody>\n",
       "    <tr>\n",
       "      <th>ID_279628684</th>\n",
       "      <td>190000.0</td>\n",
       "      <td>0</td>\n",
       "      <td>3</td>\n",
       "      <td>0</td>\n",
       "      <td>1</td>\n",
       "      <td>1</td>\n",
       "      <td>0</td>\n",
       "      <td>NaN</td>\n",
       "      <td>0</td>\n",
       "      <td>1</td>\n",
       "      <td>...</td>\n",
       "      <td>100</td>\n",
       "      <td>1849</td>\n",
       "      <td>1</td>\n",
       "      <td>100</td>\n",
       "      <td>0</td>\n",
       "      <td>1.0</td>\n",
       "      <td>0.0</td>\n",
       "      <td>100.0</td>\n",
       "      <td>1849</td>\n",
       "      <td>4</td>\n",
       "    </tr>\n",
       "  </tbody>\n",
       "</table>\n",
       "<p>1 rows × 142 columns</p>\n",
       "</div>"
      ],
      "text/plain": [
       "                  v2a1  hacdor  rooms  hacapo  v14a  refrig  v18q  v18q1  \\\n",
       "Id                                                                         \n",
       "ID_279628684  190000.0       0      3       0     1       1     0    NaN   \n",
       "\n",
       "              r4h1  r4h2  ...  SQBescolari  SQBage  SQBhogar_total  SQBedjefe  \\\n",
       "Id                        ...                                                   \n",
       "ID_279628684     0     1  ...          100    1849               1        100   \n",
       "\n",
       "              SQBhogar_nin  SQBovercrowding  SQBdependency  SQBmeaned  agesq  \\\n",
       "Id                                                                             \n",
       "ID_279628684             0              1.0            0.0      100.0   1849   \n",
       "\n",
       "              Target  \n",
       "Id                    \n",
       "ID_279628684       4  \n",
       "\n",
       "[1 rows x 142 columns]"
      ]
     },
     "execution_count": 41,
     "metadata": {},
     "output_type": "execute_result"
    }
   ],
   "source": [
    "households.get_group('21eb7fcc1')\n",
    "#This household consists of a single individual"
   ]
  },
  {
   "cell_type": "code",
   "execution_count": 42,
   "id": "ec4b71db",
   "metadata": {},
   "outputs": [
    {
     "data": {
      "text/html": [
       "<div>\n",
       "<style scoped>\n",
       "    .dataframe tbody tr th:only-of-type {\n",
       "        vertical-align: middle;\n",
       "    }\n",
       "\n",
       "    .dataframe tbody tr th {\n",
       "        vertical-align: top;\n",
       "    }\n",
       "\n",
       "    .dataframe thead th {\n",
       "        text-align: right;\n",
       "    }\n",
       "</style>\n",
       "<table border=\"1\" class=\"dataframe\">\n",
       "  <thead>\n",
       "    <tr style=\"text-align: right;\">\n",
       "      <th></th>\n",
       "      <th>v2a1</th>\n",
       "      <th>hacdor</th>\n",
       "      <th>rooms</th>\n",
       "      <th>hacapo</th>\n",
       "      <th>v14a</th>\n",
       "      <th>refrig</th>\n",
       "      <th>v18q</th>\n",
       "      <th>v18q1</th>\n",
       "      <th>r4h1</th>\n",
       "      <th>r4h2</th>\n",
       "      <th>...</th>\n",
       "      <th>SQBescolari</th>\n",
       "      <th>SQBage</th>\n",
       "      <th>SQBhogar_total</th>\n",
       "      <th>SQBedjefe</th>\n",
       "      <th>SQBhogar_nin</th>\n",
       "      <th>SQBovercrowding</th>\n",
       "      <th>SQBdependency</th>\n",
       "      <th>SQBmeaned</th>\n",
       "      <th>agesq</th>\n",
       "      <th>Target</th>\n",
       "    </tr>\n",
       "    <tr>\n",
       "      <th>Id</th>\n",
       "      <th></th>\n",
       "      <th></th>\n",
       "      <th></th>\n",
       "      <th></th>\n",
       "      <th></th>\n",
       "      <th></th>\n",
       "      <th></th>\n",
       "      <th></th>\n",
       "      <th></th>\n",
       "      <th></th>\n",
       "      <th></th>\n",
       "      <th></th>\n",
       "      <th></th>\n",
       "      <th></th>\n",
       "      <th></th>\n",
       "      <th></th>\n",
       "      <th></th>\n",
       "      <th></th>\n",
       "      <th></th>\n",
       "      <th></th>\n",
       "      <th></th>\n",
       "    </tr>\n",
       "  </thead>\n",
       "  <tbody>\n",
       "    <tr>\n",
       "      <th>ID_d671db89c</th>\n",
       "      <td>180000.0</td>\n",
       "      <td>0</td>\n",
       "      <td>5</td>\n",
       "      <td>0</td>\n",
       "      <td>1</td>\n",
       "      <td>1</td>\n",
       "      <td>1</td>\n",
       "      <td>1.0</td>\n",
       "      <td>0</td>\n",
       "      <td>2</td>\n",
       "      <td>...</td>\n",
       "      <td>81</td>\n",
       "      <td>289</td>\n",
       "      <td>16</td>\n",
       "      <td>121</td>\n",
       "      <td>4</td>\n",
       "      <td>1.777778</td>\n",
       "      <td>1.0</td>\n",
       "      <td>121.0</td>\n",
       "      <td>289</td>\n",
       "      <td>4</td>\n",
       "    </tr>\n",
       "    <tr>\n",
       "      <th>ID_d56d6f5f5</th>\n",
       "      <td>180000.0</td>\n",
       "      <td>0</td>\n",
       "      <td>5</td>\n",
       "      <td>0</td>\n",
       "      <td>1</td>\n",
       "      <td>1</td>\n",
       "      <td>1</td>\n",
       "      <td>1.0</td>\n",
       "      <td>0</td>\n",
       "      <td>2</td>\n",
       "      <td>...</td>\n",
       "      <td>121</td>\n",
       "      <td>1369</td>\n",
       "      <td>16</td>\n",
       "      <td>121</td>\n",
       "      <td>4</td>\n",
       "      <td>1.777778</td>\n",
       "      <td>1.0</td>\n",
       "      <td>121.0</td>\n",
       "      <td>1369</td>\n",
       "      <td>4</td>\n",
       "    </tr>\n",
       "    <tr>\n",
       "      <th>ID_ec05b1a7b</th>\n",
       "      <td>180000.0</td>\n",
       "      <td>0</td>\n",
       "      <td>5</td>\n",
       "      <td>0</td>\n",
       "      <td>1</td>\n",
       "      <td>1</td>\n",
       "      <td>1</td>\n",
       "      <td>1.0</td>\n",
       "      <td>0</td>\n",
       "      <td>2</td>\n",
       "      <td>...</td>\n",
       "      <td>121</td>\n",
       "      <td>1444</td>\n",
       "      <td>16</td>\n",
       "      <td>121</td>\n",
       "      <td>4</td>\n",
       "      <td>1.777778</td>\n",
       "      <td>1.0</td>\n",
       "      <td>121.0</td>\n",
       "      <td>1444</td>\n",
       "      <td>4</td>\n",
       "    </tr>\n",
       "    <tr>\n",
       "      <th>ID_e9e0c1100</th>\n",
       "      <td>180000.0</td>\n",
       "      <td>0</td>\n",
       "      <td>5</td>\n",
       "      <td>0</td>\n",
       "      <td>1</td>\n",
       "      <td>1</td>\n",
       "      <td>1</td>\n",
       "      <td>1.0</td>\n",
       "      <td>0</td>\n",
       "      <td>2</td>\n",
       "      <td>...</td>\n",
       "      <td>4</td>\n",
       "      <td>64</td>\n",
       "      <td>16</td>\n",
       "      <td>121</td>\n",
       "      <td>4</td>\n",
       "      <td>1.777778</td>\n",
       "      <td>1.0</td>\n",
       "      <td>121.0</td>\n",
       "      <td>64</td>\n",
       "      <td>4</td>\n",
       "    </tr>\n",
       "  </tbody>\n",
       "</table>\n",
       "<p>4 rows × 142 columns</p>\n",
       "</div>"
      ],
      "text/plain": [
       "                  v2a1  hacdor  rooms  hacapo  v14a  refrig  v18q  v18q1  \\\n",
       "Id                                                                         \n",
       "ID_d671db89c  180000.0       0      5       0     1       1     1    1.0   \n",
       "ID_d56d6f5f5  180000.0       0      5       0     1       1     1    1.0   \n",
       "ID_ec05b1a7b  180000.0       0      5       0     1       1     1    1.0   \n",
       "ID_e9e0c1100  180000.0       0      5       0     1       1     1    1.0   \n",
       "\n",
       "              r4h1  r4h2  ...  SQBescolari  SQBage  SQBhogar_total  SQBedjefe  \\\n",
       "Id                        ...                                                   \n",
       "ID_d671db89c     0     2  ...           81     289              16        121   \n",
       "ID_d56d6f5f5     0     2  ...          121    1369              16        121   \n",
       "ID_ec05b1a7b     0     2  ...          121    1444              16        121   \n",
       "ID_e9e0c1100     0     2  ...            4      64              16        121   \n",
       "\n",
       "              SQBhogar_nin  SQBovercrowding  SQBdependency  SQBmeaned  agesq  \\\n",
       "Id                                                                             \n",
       "ID_d671db89c             4         1.777778            1.0      121.0    289   \n",
       "ID_d56d6f5f5             4         1.777778            1.0      121.0   1369   \n",
       "ID_ec05b1a7b             4         1.777778            1.0      121.0   1444   \n",
       "ID_e9e0c1100             4         1.777778            1.0      121.0     64   \n",
       "\n",
       "              Target  \n",
       "Id                    \n",
       "ID_d671db89c       4  \n",
       "ID_d56d6f5f5       4  \n",
       "ID_ec05b1a7b       4  \n",
       "ID_e9e0c1100       4  \n",
       "\n",
       "[4 rows x 142 columns]"
      ]
     },
     "execution_count": 42,
     "metadata": {},
     "output_type": "execute_result"
    }
   ],
   "source": [
    "households.get_group('2b58d945f')\n",
    "#This household consists of four individuals"
   ]
  },
  {
   "cell_type": "code",
   "execution_count": 43,
   "id": "5a97e691",
   "metadata": {},
   "outputs": [
    {
     "data": {
      "text/plain": [
       "Id\n",
       "ID_d671db89c    4\n",
       "ID_d56d6f5f5    4\n",
       "ID_ec05b1a7b    4\n",
       "ID_e9e0c1100    4\n",
       "Name: Target, dtype: int64"
      ]
     },
     "execution_count": 43,
     "metadata": {},
     "output_type": "execute_result"
    }
   ],
   "source": [
    "households.get_group('2b58d945f').Target\n",
    "#The target columns shows us that each member of this household has the same poverty level"
   ]
  },
  {
   "cell_type": "code",
   "execution_count": 44,
   "id": "28aec9d5",
   "metadata": {},
   "outputs": [
    {
     "data": {
      "text/plain": [
       "0"
      ]
     },
     "execution_count": 44,
     "metadata": {},
     "output_type": "execute_result"
    }
   ],
   "source": [
    "households.get_group('2b58d945f').Target.max() - households.get_group('2b58d945f').Target.max()\n",
    "#Each member of the household above has the same poverty level.\n",
    "#The difference between the maximum and minimum value of the \"Target\" variable is therefore 0, for this household. "
   ]
  },
  {
   "cell_type": "code",
   "execution_count": 45,
   "id": "d453342d",
   "metadata": {},
   "outputs": [
    {
     "data": {
      "text/plain": [
       "idhogar\n",
       "001ff74ca    False\n",
       "003123ec2    False\n",
       "004616164    False\n",
       "004983866    False\n",
       "005905417    False\n",
       "Name: Target, dtype: bool"
      ]
     },
     "execution_count": 45,
     "metadata": {},
     "output_type": "execute_result"
    }
   ],
   "source": [
    "dif_poverty = households.Target.max() - households.Target.min() != 0\n",
    "dif_poverty.head()\n",
    "#The Series below returns True or False for each given houshold.\n",
    "#It returns True if members of the same household have different poverty levels\n",
    "#If all members of the household have the same poverty level it returns False."
   ]
  },
  {
   "cell_type": "code",
   "execution_count": 46,
   "id": "bf96c0ca",
   "metadata": {},
   "outputs": [
    {
     "data": {
      "text/plain": [
       "85"
      ]
     },
     "execution_count": 46,
     "metadata": {},
     "output_type": "execute_result"
    }
   ],
   "source": [
    "dif_poverty.sum()\n",
    "#There are 85 households with individuals who don't have the same poverty level.\n",
    "#Not all members of the same household have the same poverty level."
   ]
  },
  {
   "cell_type": "code",
   "execution_count": 47,
   "id": "3a87c518",
   "metadata": {},
   "outputs": [
    {
     "data": {
      "text/plain": [
       "idhogar\n",
       "0172ab1d9    True\n",
       "03f4e5f4d    True\n",
       "0511912b6    True\n",
       "078a0b6e2    True\n",
       "09e25d616    True\n",
       "             ... \n",
       "e65d4b943    True\n",
       "efd3aec61    True\n",
       "f006348ed    True\n",
       "f7b421c2c    True\n",
       "f94589d38    True\n",
       "Name: Target, Length: 85, dtype: bool"
      ]
     },
     "execution_count": 47,
     "metadata": {},
     "output_type": "execute_result"
    }
   ],
   "source": [
    "dif_poverty[dif_poverty]\n",
    "#The series below consists of 85 True values.\n",
    "#It is indexed by the idhogar values of the houseolds with individuals with different poverty levels."
   ]
  },
  {
   "cell_type": "code",
   "execution_count": 48,
   "id": "e6abfc38",
   "metadata": {},
   "outputs": [
    {
     "data": {
      "text/plain": [
       "Id\n",
       "ID_a5e2b0639    3\n",
       "ID_5dfdf4ebe    2\n",
       "ID_762e1fd96    3\n",
       "ID_c76b87004    3\n",
       "ID_1dffe3dcf    2\n",
       "Name: Target, dtype: int64"
      ]
     },
     "execution_count": 48,
     "metadata": {},
     "output_type": "execute_result"
    }
   ],
   "source": [
    "households.get_group('0172ab1d9').Target\n",
    "#This is a sanity check to demonstrate the validity of the findings.\n",
    "#This household has individuals with different poverty levels.\n",
    "#The value \"0172ab1d9\" was the obtained from the Series in the previous cell. It is the series' first value."
   ]
  },
  {
   "cell_type": "markdown",
   "id": "8562ba54",
   "metadata": {},
   "source": [
    "**Before we can set the poverty level of all individuals in a household to the poverty level of the head of the household, we must determine whether or not each household has a head.**"
   ]
  },
  {
   "cell_type": "code",
   "execution_count": 49,
   "id": "e00157a4",
   "metadata": {},
   "outputs": [
    {
     "data": {
      "text/plain": [
       "['84. parentesco1, =1 if household head\\n',\n",
       " '102. edjefe, years of education of male head of household, based on the interaction of escolari (years of education), head of household and gender, yes=1 and no=0\\n',\n",
       " '103. edjefa, years of education of female head of household, based on the interaction ofescolari (years of education), head of household and gender, yes=1 and no=0\\n']"
      ]
     },
     "execution_count": 49,
     "metadata": {},
     "output_type": "execute_result"
    }
   ],
   "source": [
    "feature_finder('head')\n",
    "#if the parentsesco1 column has a value of 1, the individual is the head of householf.z"
   ]
  },
  {
   "cell_type": "code",
   "execution_count": 50,
   "id": "360de6cc",
   "metadata": {},
   "outputs": [
    {
     "data": {
      "text/plain": [
       "idhogar\n",
       "001ff74ca    1\n",
       "003123ec2    1\n",
       "004616164    1\n",
       "004983866    1\n",
       "005905417    1\n",
       "Name: parentesco1, dtype: int64"
      ]
     },
     "execution_count": 50,
     "metadata": {},
     "output_type": "execute_result"
    }
   ],
   "source": [
    "households.parentesco1.sum().head()\n",
    "#The series below gives the sum of the parentesco1 column for the first five households.\n",
    "#The sum of 1 indicates that these five households have exactly 1 head of household.\n",
    "#We need to check to see if this is true for all households."
   ]
  },
  {
   "cell_type": "code",
   "execution_count": 51,
   "id": "beaf996c",
   "metadata": {},
   "outputs": [
    {
     "data": {
      "text/plain": [
       "idhogar\n",
       "001ff74ca    False\n",
       "003123ec2    False\n",
       "004616164    False\n",
       "004983866    False\n",
       "005905417    False\n",
       "Name: parentesco1, dtype: bool"
      ]
     },
     "execution_count": 51,
     "metadata": {},
     "output_type": "execute_result"
    }
   ],
   "source": [
    "household_not_1head = households.parentesco1.sum() != 1\n",
    "household_not_1head.head()\n",
    "#The series below returns True only if a household does not have exactly one head.\n",
    "#The False values indicate a household has exactly one head."
   ]
  },
  {
   "cell_type": "code",
   "execution_count": 52,
   "id": "abc77587",
   "metadata": {},
   "outputs": [
    {
     "data": {
      "text/plain": [
       "idhogar\n",
       "03c6bdf85    True\n",
       "09b195e7a    True\n",
       "1367ab31d    True\n",
       "1bc617b23    True\n",
       "374ca5a19    True\n",
       "61c10e099    True\n",
       "6b1b2405f    True\n",
       "896fe6d3e    True\n",
       "a0812ef17    True\n",
       "ad687ad89    True\n",
       "b1f4d89d7    True\n",
       "bfd5067c2    True\n",
       "c0c8a5013    True\n",
       "d363d9183    True\n",
       "f2bfa75c4    True\n",
       "Name: parentesco1, dtype: bool"
      ]
     },
     "execution_count": 52,
     "metadata": {},
     "output_type": "execute_result"
    }
   ],
   "source": [
    "household_not_1head[household_not_1head]\n",
    "#This line of code indexes the household_not_1head series with itself.\n",
    "#It produces a sries of True values.\n",
    "#The series is indexed by the \"idhogar\" value of the households without exactly one head."
   ]
  },
  {
   "cell_type": "code",
   "execution_count": 53,
   "id": "614bc1cd",
   "metadata": {},
   "outputs": [
    {
     "data": {
      "text/plain": [
       "Id\n",
       "ID_c7c038825    0\n",
       "ID_ebef0991f    0\n",
       "Name: parentesco1, dtype: int64"
      ]
     },
     "execution_count": 53,
     "metadata": {},
     "output_type": "execute_result"
    }
   ],
   "source": [
    "households.get_group('03c6bdf85').parentesco1\n",
    "#As we can see from the parentesco1 column, this household has no head.\n",
    "#The id 03c6bdf85 is the first id in the Series above."
   ]
  },
  {
   "cell_type": "code",
   "execution_count": 54,
   "id": "b432a7da",
   "metadata": {},
   "outputs": [
    {
     "data": {
      "text/plain": [
       "idhogar\n",
       "001ff74ca    False\n",
       "003123ec2    False\n",
       "004616164    False\n",
       "004983866    False\n",
       "005905417    False\n",
       "Name: parentesco1, dtype: bool"
      ]
     },
     "execution_count": 54,
     "metadata": {},
     "output_type": "execute_result"
    }
   ],
   "source": [
    "household_more_1head = households.parentesco1.sum() > 1\n",
    "household_more_1head.head()\n",
    "#The series below returns True only if a has more then one head."
   ]
  },
  {
   "cell_type": "code",
   "execution_count": 55,
   "id": "23ca57b7",
   "metadata": {},
   "outputs": [
    {
     "data": {
      "text/plain": [
       "0"
      ]
     },
     "execution_count": 55,
     "metadata": {},
     "output_type": "execute_result"
    }
   ],
   "source": [
    "household_more_1head.sum()\n",
    "#There are 0 households with more than one head.\n",
    "#Every household which doesn't have a single head therefore has no head."
   ]
  },
  {
   "cell_type": "code",
   "execution_count": 56,
   "id": "330ccda5",
   "metadata": {},
   "outputs": [
    {
     "data": {
      "text/plain": [
       "15"
      ]
     },
     "execution_count": 56,
     "metadata": {},
     "output_type": "execute_result"
    }
   ],
   "source": [
    "household_not_1head.sum()\n",
    "#There are 15 households without a head."
   ]
  },
  {
   "cell_type": "markdown",
   "id": "7bf16511",
   "metadata": {},
   "source": [
    "### Setting the poverty level of each member of a household to the poverty level of the head of the household"
   ]
  },
  {
   "cell_type": "code",
   "execution_count": 57,
   "id": "4ae21c32",
   "metadata": {},
   "outputs": [
    {
     "data": {
      "text/plain": [
       "array(['21eb7fcc1', '0e5d7a658', '2c7317ea8', ..., 'a8eeafc29',\n",
       "       '212db6f6c', 'd6c086aa3'], dtype=object)"
      ]
     },
     "execution_count": 57,
     "metadata": {},
     "output_type": "execute_result"
    }
   ],
   "source": [
    "unique_household_ids = train_df.idhogar.unique()\n",
    "unique_household_ids\n",
    "#This array contains of all the 2988 unique household ids."
   ]
  },
  {
   "cell_type": "code",
   "execution_count": 58,
   "id": "3ff44919",
   "metadata": {},
   "outputs": [
    {
     "data": {
      "text/plain": [
       "2988"
      ]
     },
     "execution_count": 58,
     "metadata": {},
     "output_type": "execute_result"
    }
   ],
   "source": [
    "len(unique_household_ids)\n",
    "#confirmation that there are 2988 unique households."
   ]
  },
  {
   "cell_type": "code",
   "execution_count": 59,
   "id": "e4ae26c3",
   "metadata": {},
   "outputs": [],
   "source": [
    "def f2_poverty_level_modifier(df):\n",
    "    \n",
    "    '''\n",
    "    This function takes a dataframe and groups the sub - dataframes that have the same idhogar value.\n",
    "    For households with a head, it will set the poverty level of each individual in a household, to the poverty\n",
    "    level of the head of the household. It will not make any changes to the poverty level of individuals in a \n",
    "    household without a head.\n",
    "    \n",
    "    '''\n",
    "    unique_household_ids = df.idhogar.unique()\n",
    "    households = df.groupby(by='idhogar')\n",
    "    subframes = []\n",
    "    for i in unique_household_ids:\n",
    "        household = households.get_group(i).copy()\n",
    "        head = household[household.parentesco1 == 1]\n",
    "        if head.shape[0] == 0:\n",
    "            subframes.append(household)\n",
    "        else:\n",
    "            head_target = head.Target.values[0]\n",
    "            household.loc[:, 'Target'] = head_target\n",
    "            subframes.append(household)\n",
    "            \n",
    "    df = pd.concat(subframes)\n",
    "    \n",
    "    return df\n",
    "    \n",
    "    "
   ]
  },
  {
   "cell_type": "code",
   "execution_count": 60,
   "id": "2a18ced0",
   "metadata": {},
   "outputs": [],
   "source": [
    "uniform_household_poverty_df = f2_poverty_level_modifier(train_df.copy())"
   ]
  },
  {
   "cell_type": "code",
   "execution_count": 61,
   "id": "095fac16",
   "metadata": {},
   "outputs": [],
   "source": [
    "households_modified_target = uniform_household_poverty_df.groupby(by='idhogar')"
   ]
  },
  {
   "cell_type": "code",
   "execution_count": 62,
   "id": "7048e458",
   "metadata": {},
   "outputs": [
    {
     "data": {
      "text/plain": [
       "Series([], Name: Target, dtype: bool)"
      ]
     },
     "execution_count": 62,
     "metadata": {},
     "output_type": "execute_result"
    }
   ],
   "source": [
    "dif_poverty2 = households_modified_target.Target.max() - households_modified_target.Target.min() != 0\n",
    "dif_poverty2[dif_poverty2]\n",
    "#Now we see that no household has people with different poverty levels."
   ]
  },
  {
   "cell_type": "code",
   "execution_count": 63,
   "id": "67088578",
   "metadata": {},
   "outputs": [
    {
     "data": {
      "text/plain": [
       "Id\n",
       "ID_a5e2b0639    3\n",
       "ID_5dfdf4ebe    2\n",
       "ID_762e1fd96    3\n",
       "ID_c76b87004    3\n",
       "ID_1dffe3dcf    2\n",
       "Name: Target, dtype: int64"
      ]
     },
     "execution_count": 63,
     "metadata": {},
     "output_type": "execute_result"
    }
   ],
   "source": [
    "#The original households with unmodified labels gives different poverty levels for members of the same household.\n",
    "households.get_group('0172ab1d9').Target"
   ]
  },
  {
   "cell_type": "code",
   "execution_count": 64,
   "id": "67b5daf9",
   "metadata": {},
   "outputs": [
    {
     "data": {
      "text/plain": [
       "3"
      ]
     },
     "execution_count": 64,
     "metadata": {},
     "output_type": "execute_result"
    }
   ],
   "source": [
    "households.get_group('0172ab1d9')[households.get_group('0172ab1d9').parentesco1 == 1].iloc[0].Target\n",
    "#For the houshold reference in the previous cell, the head has a poverty level of 3"
   ]
  },
  {
   "cell_type": "code",
   "execution_count": 65,
   "id": "9546f4ba",
   "metadata": {},
   "outputs": [
    {
     "data": {
      "text/plain": [
       "Id\n",
       "ID_a5e2b0639    3\n",
       "ID_5dfdf4ebe    3\n",
       "ID_762e1fd96    3\n",
       "ID_c76b87004    3\n",
       "ID_1dffe3dcf    3\n",
       "Name: Target, dtype: int64"
      ]
     },
     "execution_count": 65,
     "metadata": {},
     "output_type": "execute_result"
    }
   ],
   "source": [
    "households_modified_target.get_group('0172ab1d9').Target\n",
    "#After modifying the poverty level of the members of the household so that it matches the head of household. \n",
    "#Every member of the household now has the same poverty level."
   ]
  },
  {
   "cell_type": "markdown",
   "id": "5b2b7790",
   "metadata": {},
   "source": [
    "**Let's also drop the columns in the DataFrame that have 0 variance**"
   ]
  },
  {
   "cell_type": "code",
   "execution_count": 66,
   "id": "05a7cad5",
   "metadata": {},
   "outputs": [
    {
     "data": {
      "text/plain": [
       "elimbasu5    0.000000e+00\n",
       "planpri      3.138403e-04\n",
       "pisoother    9.409297e-04\n",
       "pisonatur    1.045368e-03\n",
       "elimbasu6    1.254179e-03\n",
       "                 ...     \n",
       "SQBedjefe    6.153744e+03\n",
       "SQBmeaned    8.745409e+03\n",
       "agesq        3.031767e+06\n",
       "SQBage       3.031767e+06\n",
       "v2a1         2.263735e+10\n",
       "Length: 138, dtype: float64"
      ]
     },
     "execution_count": 66,
     "metadata": {},
     "output_type": "execute_result"
    }
   ],
   "source": [
    "train_df.var().sort_values()\n",
    "#Below we see that the variance in the elimbasu5 column is 0"
   ]
  },
  {
   "cell_type": "code",
   "execution_count": 67,
   "id": "7409bbb2",
   "metadata": {},
   "outputs": [
    {
     "data": {
      "text/plain": [
       "0    9557\n",
       "Name: elimbasu5, dtype: int64"
      ]
     },
     "execution_count": 67,
     "metadata": {},
     "output_type": "execute_result"
    }
   ],
   "source": [
    "train_df.elimbasu5.value_counts()\n",
    "#Every value in this 0 so we can discard this column"
   ]
  },
  {
   "cell_type": "code",
   "execution_count": 68,
   "id": "c3d41384",
   "metadata": {},
   "outputs": [],
   "source": [
    "def f3_drop_var0(df):\n",
    "    \n",
    "    '''\n",
    "    We will use this function to drop the elimbasu5 column later.\n",
    "    '''\n",
    "    df.drop('elimbasu5', axis=1)\n",
    "    \n",
    "    return df"
   ]
  },
  {
   "cell_type": "markdown",
   "id": "2a8eaac2",
   "metadata": {},
   "source": [
    "### Missing Values Treatment"
   ]
  },
  {
   "cell_type": "code",
   "execution_count": 69,
   "id": "c0d30af1",
   "metadata": {},
   "outputs": [
    {
     "data": {
      "text/plain": [
       "rez_esc       7928\n",
       "v18q1         7342\n",
       "v2a1          6860\n",
       "SQBmeaned        5\n",
       "meaneduc         5\n",
       "hogar_adul       0\n",
       "dtype: int64"
      ]
     },
     "execution_count": 69,
     "metadata": {},
     "output_type": "execute_result"
    }
   ],
   "source": [
    "train_df.isnull().sum().sort_values(ascending=False).head(6)"
   ]
  },
  {
   "cell_type": "code",
   "execution_count": 70,
   "id": "dc683acf",
   "metadata": {},
   "outputs": [
    {
     "data": {
      "text/plain": [
       "Index(['v2a1', 'v18q1', 'rez_esc', 'meaneduc', 'SQBmeaned'], dtype='object')"
      ]
     },
     "execution_count": 70,
     "metadata": {},
     "output_type": "execute_result"
    }
   ],
   "source": [
    "col_has_null = train_df.isnull().any()\n",
    "col_has_null[col_has_null].index\n",
    "#There are 5 columns in the DataFrame that have missing values"
   ]
  },
  {
   "cell_type": "code",
   "execution_count": 71,
   "id": "8b399b97",
   "metadata": {},
   "outputs": [
    {
     "name": "stdout",
     "output_type": "stream",
     "text": [
      "['2. v2a1, Monthly rent payment\\n']\n",
      "['9. v18q1, number of tablets household owns\\n']\n",
      "['22. rez_esc, Years behind in school\\n']\n",
      "['104. meaneduc,average years of education for adults (18+)\\n']\n",
      "['141. SQBmeaned, square of the mean years of education of adults (>=18) in the household\\n']\n"
     ]
    }
   ],
   "source": [
    "for col in col_has_null[col_has_null].index:\n",
    "    print(key_descriptor(col))\n",
    "#Below are the descriptions for the columns with missing data."
   ]
  },
  {
   "cell_type": "markdown",
   "id": "805490d7",
   "metadata": {},
   "source": [
    "**Before we treat these missing values, we need to find out if they are missing at random, completely at random or not at random.\n",
    "We will start by looking to find out if the missing values can be predicted by any of the variables with complete information.**"
   ]
  },
  {
   "cell_type": "markdown",
   "id": "7d3b043c",
   "metadata": {},
   "source": [
    "**column v2a1**"
   ]
  },
  {
   "cell_type": "code",
   "execution_count": 72,
   "id": "115bcd64",
   "metadata": {},
   "outputs": [
    {
     "data": {
      "text/plain": [
       "Id\n",
       "ID_279628684    False\n",
       "ID_f29eb3ddd    False\n",
       "ID_68de51c94     True\n",
       "ID_d671db89c    False\n",
       "ID_d56d6f5f5    False\n",
       "Name: v2a1, dtype: bool"
      ]
     },
     "execution_count": 72,
     "metadata": {},
     "output_type": "execute_result"
    }
   ],
   "source": [
    "v2a1_missing = train_df.v2a1.isnull()\n",
    "v2a1_missing.head()\n",
    "#This series returns True whenver v2a1 is missing."
   ]
  },
  {
   "cell_type": "code",
   "execution_count": 73,
   "id": "e048fead",
   "metadata": {},
   "outputs": [
    {
     "data": {
      "text/plain": [
       "elimbasu5      0.000000e+00\n",
       "tipovivi2      0.000000e+00\n",
       "tipovivi3      0.000000e+00\n",
       "planpri        4.371903e-04\n",
       "pisoother      1.310423e-03\n",
       "                   ...     \n",
       "SQBescolari    5.518488e+03\n",
       "SQBmeaned      7.615964e+03\n",
       "agesq          3.440097e+06\n",
       "SQBage         3.440097e+06\n",
       "v2a1                    NaN\n",
       "Length: 138, dtype: float64"
      ]
     },
     "execution_count": 73,
     "metadata": {},
     "output_type": "execute_result"
    }
   ],
   "source": [
    "train_df[v2a1_missing].var().sort_values(ascending=True)\n",
    "#From what we can see whenver v2a1 is missing, tipovivi2 and tipovivi3 have a constant value."
   ]
  },
  {
   "cell_type": "code",
   "execution_count": 74,
   "id": "d4ce7058",
   "metadata": {},
   "outputs": [
    {
     "name": "stdout",
     "output_type": "stream",
     "text": [
      "['117. tipovivi2, \"=1 own, paying in installments\"\\n']\n",
      "['118. tipovivi3, =1 rented\\n']\n"
     ]
    }
   ],
   "source": [
    "for i in ['tipovivi2', 'tipovivi3']:\n",
    "    print(key_descriptor(i))"
   ]
  },
  {
   "cell_type": "code",
   "execution_count": 75,
   "id": "f42d86b6",
   "metadata": {},
   "outputs": [
    {
     "data": {
      "image/png": "[encoded data removed]",
      "text/plain": [
       "<Figure size 432x288 with 1 Axes>"
      ]
     },
     "metadata": {
      "needs_background": "light"
     },
     "output_type": "display_data"
    }
   ],
   "source": [
    "sns.countplot(data = train_df[v2a1_missing], x='tipovivi3', color='red')\n",
    "plt.title('Graph showing the distribution of the \"tipoviv3\" feature when \"v2a1\" is missing \\n')\n",
    "plt.show()\n",
    "#There are 6280 missing values for v2a1\n",
    "#For every missing value of v2a1, the feature tipovivi3 has a value of 0\n",
    "#If tipovivi3 has a value of 0 it means the house is not rented.\n",
    "#We can safely conclude that rent should be 0.\n",
    "#Hence all missing values in the v2a1 column should be 0.\n",
    "#We will later populate the missing values with 0"
   ]
  },
  {
   "cell_type": "markdown",
   "id": "b9a02993",
   "metadata": {},
   "source": [
    "**The v18q1 column**\n",
    "\n",
    "This column gives the number of tablets per household. It contains 7342 missing values."
   ]
  },
  {
   "cell_type": "code",
   "execution_count": 76,
   "id": "8f3dc3cb",
   "metadata": {},
   "outputs": [
    {
     "data": {
      "text/plain": [
       "['9. v18q1, number of tablets household owns\\n']"
      ]
     },
     "execution_count": 76,
     "metadata": {},
     "output_type": "execute_result"
    }
   ],
   "source": [
    "key_descriptor('v18q1')"
   ]
  },
  {
   "cell_type": "code",
   "execution_count": 77,
   "id": "18568714",
   "metadata": {},
   "outputs": [
    {
     "data": {
      "image/png": "[encoded data removed]",
      "text/plain": [
       "<Figure size 432x288 with 1 Axes>"
      ]
     },
     "metadata": {
      "needs_background": "light"
     },
     "output_type": "display_data"
    }
   ],
   "source": [
    "sns.countplot(data=train_df, x='v18q1')\n",
    "plt.title('Graph showing the distribution of the data in the \"v18q1\" column\\n')\n",
    "plt.show()\n",
    "#The plot below indicates the distribution of the data present in the 'v18q1' column.\n",
    "#It shows that the tablets owned by each household ranges from 1 to 6.\n",
    "#It must be noted that, conspicuously, no household seems to own no tablets. (The value 0 has a frequency of 0)\n",
    "#This may however be due to the 7342 values missing from the column.\n",
    "#It is however, too early to assume these values should be 0."
   ]
  },
  {
   "cell_type": "code",
   "execution_count": 78,
   "id": "f8729c6e",
   "metadata": {},
   "outputs": [],
   "source": [
    "v18q1_missing = train_df.v18q1.isnull()"
   ]
  },
  {
   "cell_type": "code",
   "execution_count": 79,
   "id": "be5e93b0",
   "metadata": {},
   "outputs": [
    {
     "data": {
      "text/plain": [
       "Id\n",
       "ID_279628684     True\n",
       "ID_f29eb3ddd    False\n",
       "ID_68de51c94     True\n",
       "ID_d671db89c    False\n",
       "ID_d56d6f5f5    False\n",
       "Name: v18q1, dtype: bool"
      ]
     },
     "execution_count": 79,
     "metadata": {},
     "output_type": "execute_result"
    }
   ],
   "source": [
    "v18q1_missing.head()\n",
    "#This series has True values when v18q1 is missing"
   ]
  },
  {
   "cell_type": "code",
   "execution_count": 80,
   "id": "3936fd0a",
   "metadata": {},
   "outputs": [
    {
     "data": {
      "text/plain": [
       "elimbasu5    0.000000e+00\n",
       "v18q         0.000000e+00\n",
       "planpri      4.084967e-04\n",
       "pisoother    6.806423e-04\n",
       "pisonatur    1.360357e-03\n",
       "                 ...     \n",
       "SQBmeaned    7.198593e+03\n",
       "agesq        3.231128e+06\n",
       "SQBage       3.231128e+06\n",
       "v2a1         1.860808e+10\n",
       "v18q1                 NaN\n",
       "Length: 138, dtype: float64"
      ]
     },
     "execution_count": 80,
     "metadata": {},
     "output_type": "execute_result"
    }
   ],
   "source": [
    "train_df[v18q1_missing].var().sort_values(ascending=True)\n",
    "#Whenever v18q1 is missing v18q has a constant value."
   ]
  },
  {
   "cell_type": "code",
   "execution_count": 81,
   "id": "958db5f1",
   "metadata": {},
   "outputs": [
    {
     "data": {
      "text/plain": [
       "['8. v18q, owns a tablet\\n', '9. v18q1, number of tablets household owns\\n']"
      ]
     },
     "execution_count": 81,
     "metadata": {},
     "output_type": "execute_result"
    }
   ],
   "source": [
    "key_descriptor('v18q')\n",
    "#v18q tells us whether the individual owns a tablet or not."
   ]
  },
  {
   "cell_type": "code",
   "execution_count": 82,
   "id": "50444a85",
   "metadata": {},
   "outputs": [
    {
     "data": {
      "image/png": "[encoded data removed]",
      "text/plain": [
       "<Figure size 432x288 with 1 Axes>"
      ]
     },
     "metadata": {
      "needs_background": "light"
     },
     "output_type": "display_data"
    }
   ],
   "source": [
    "sns.countplot(data=train_df[v18q1_missing], x='v18q')\n",
    "plt.title('Graph showing the distribution of data in the\"v18q\" column when \"v18q1\" is missing \\n')\n",
    "plt.show()\n",
    "#Whenever we see that v18q1 is missing v18q is always 0.\n",
    "#When the number of tablets owned by the household is missing. \n",
    "    #The individual so happens to never own a tablet.\n",
    "#This naturally leads to speculation that the household perhaps does not have a tablet\n",
    "    #so the value in column v18q1 should be 0.\n",
    "#The individual not owning a tablet however is a necessary but not a sufficient condition to show that the \n",
    "    #household also does not own a tablet. We will therefore need a more rigorous approach."
   ]
  },
  {
   "cell_type": "code",
   "execution_count": 83,
   "id": "b781ff3b",
   "metadata": {},
   "outputs": [
    {
     "data": {
      "text/plain": [
       "idhogar\n",
       "001ff74ca    False\n",
       "003123ec2     True\n",
       "004616164     True\n",
       "004983866     True\n",
       "005905417     True\n",
       "             ...  \n",
       "ff9343a35    False\n",
       "ff9d5ab17     True\n",
       "ffae4a097     True\n",
       "ffe90d46f     True\n",
       "fff7d6be1     True\n",
       "Name: v18q, Length: 2988, dtype: bool"
      ]
     },
     "execution_count": 83,
     "metadata": {},
     "output_type": "execute_result"
    }
   ],
   "source": [
    "house_no_tablet = households.v18q.apply(lambda x: x.sum() == 0)\n",
    "house_no_tablet\n",
    "#v18q has a value of 0 if an individual does not own a tablet.\n",
    "#If we add the v18q column values for all the members of a household, \n",
    "    #a sum of 0 indicates that noone in household owns a tablet.\n",
    "    #If any indivudal in the household owns a table this sum should be at least 1.\n",
    "#The series below has a value of True when noone in the household owns a tablet and False \n",
    "    #if at least one person owns a tablet.\n",
    "#Whenever the value of the Series is True. The number of tablets owned by the household should be 0."
   ]
  },
  {
   "cell_type": "code",
   "execution_count": 84,
   "id": "3f8b81a8",
   "metadata": {},
   "outputs": [
    {
     "data": {
      "text/plain": [
       "idhogar\n",
       "003123ec2    True\n",
       "004616164    True\n",
       "004983866    True\n",
       "005905417    True\n",
       "006555fe2    True\n",
       "             ... \n",
       "ff703eed4    True\n",
       "ff9d5ab17    True\n",
       "ffae4a097    True\n",
       "ffe90d46f    True\n",
       "fff7d6be1    True\n",
       "Name: v18q, Length: 2333, dtype: bool"
      ]
     },
     "execution_count": 84,
     "metadata": {},
     "output_type": "execute_result"
    }
   ],
   "source": [
    "houseid_no_tablet = house_no_tablet[house_no_tablet]\n",
    "houseid_no_tablet\n",
    "#This series is indexed by the idhogar value of the households that own 0 tablets."
   ]
  },
  {
   "cell_type": "code",
   "execution_count": 85,
   "id": "cbd6ea80",
   "metadata": {},
   "outputs": [
    {
     "data": {
      "text/plain": [
       "idhogar\n",
       "003123ec2    0\n",
       "004616164    0\n",
       "004983866    0\n",
       "005905417    0\n",
       "006555fe2    0\n",
       "            ..\n",
       "ff703eed4    0\n",
       "ff9d5ab17    0\n",
       "ffae4a097    0\n",
       "ffe90d46f    0\n",
       "fff7d6be1    0\n",
       "Name: v1q8_new, Length: 2333, dtype: int64"
      ]
     },
     "execution_count": 85,
     "metadata": {},
     "output_type": "execute_result"
    }
   ],
   "source": [
    "num_tablets_0  = (~houseid_no_tablet).apply(int)\n",
    "#The code above converts a Series of True values to a Series of 0's.\n",
    "num_tablets_0.name = 'v1q8_new'\n",
    "num_tablets_0\n",
    "#This series maps each household to their number of tablets - 0 in all cases.\n",
    "#By merging this series with the original dataset. The resulting DF will contain a additional #column (v1q81_new) \n",
    "    #This new colum will contain 0 in all places where the household owns 0 tablets.\n",
    "    #If the null values in v1q1 correspond to 0 values in v1q81_new, \n",
    "    #then we know for sure the mising values in v18q1 should be replaced by 0."
   ]
  },
  {
   "cell_type": "code",
   "execution_count": 86,
   "id": "aebbb003",
   "metadata": {},
   "outputs": [
    {
     "data": {
      "text/html": [
       "<div>\n",
       "<style scoped>\n",
       "    .dataframe tbody tr th:only-of-type {\n",
       "        vertical-align: middle;\n",
       "    }\n",
       "\n",
       "    .dataframe tbody tr th {\n",
       "        vertical-align: top;\n",
       "    }\n",
       "\n",
       "    .dataframe thead th {\n",
       "        text-align: right;\n",
       "    }\n",
       "</style>\n",
       "<table border=\"1\" class=\"dataframe\">\n",
       "  <thead>\n",
       "    <tr style=\"text-align: right;\">\n",
       "      <th></th>\n",
       "      <th>v2a1</th>\n",
       "      <th>hacdor</th>\n",
       "      <th>rooms</th>\n",
       "      <th>hacapo</th>\n",
       "      <th>v14a</th>\n",
       "      <th>refrig</th>\n",
       "      <th>v18q</th>\n",
       "      <th>v18q1</th>\n",
       "      <th>r4h1</th>\n",
       "      <th>r4h2</th>\n",
       "      <th>...</th>\n",
       "      <th>SQBage</th>\n",
       "      <th>SQBhogar_total</th>\n",
       "      <th>SQBedjefe</th>\n",
       "      <th>SQBhogar_nin</th>\n",
       "      <th>SQBovercrowding</th>\n",
       "      <th>SQBdependency</th>\n",
       "      <th>SQBmeaned</th>\n",
       "      <th>agesq</th>\n",
       "      <th>Target</th>\n",
       "      <th>v1q8_new</th>\n",
       "    </tr>\n",
       "  </thead>\n",
       "  <tbody>\n",
       "    <tr>\n",
       "      <th>0</th>\n",
       "      <td>190000.0</td>\n",
       "      <td>0</td>\n",
       "      <td>3</td>\n",
       "      <td>0</td>\n",
       "      <td>1</td>\n",
       "      <td>1</td>\n",
       "      <td>0</td>\n",
       "      <td>NaN</td>\n",
       "      <td>0</td>\n",
       "      <td>1</td>\n",
       "      <td>...</td>\n",
       "      <td>1849</td>\n",
       "      <td>1</td>\n",
       "      <td>100</td>\n",
       "      <td>0</td>\n",
       "      <td>1.00</td>\n",
       "      <td>0.0</td>\n",
       "      <td>100.0</td>\n",
       "      <td>1849</td>\n",
       "      <td>4</td>\n",
       "      <td>0</td>\n",
       "    </tr>\n",
       "    <tr>\n",
       "      <th>1</th>\n",
       "      <td>NaN</td>\n",
       "      <td>0</td>\n",
       "      <td>8</td>\n",
       "      <td>0</td>\n",
       "      <td>1</td>\n",
       "      <td>1</td>\n",
       "      <td>0</td>\n",
       "      <td>NaN</td>\n",
       "      <td>0</td>\n",
       "      <td>0</td>\n",
       "      <td>...</td>\n",
       "      <td>8464</td>\n",
       "      <td>1</td>\n",
       "      <td>0</td>\n",
       "      <td>0</td>\n",
       "      <td>0.25</td>\n",
       "      <td>64.0</td>\n",
       "      <td>121.0</td>\n",
       "      <td>8464</td>\n",
       "      <td>4</td>\n",
       "      <td>0</td>\n",
       "    </tr>\n",
       "    <tr>\n",
       "      <th>2</th>\n",
       "      <td>130000.0</td>\n",
       "      <td>1</td>\n",
       "      <td>2</td>\n",
       "      <td>0</td>\n",
       "      <td>1</td>\n",
       "      <td>1</td>\n",
       "      <td>0</td>\n",
       "      <td>NaN</td>\n",
       "      <td>0</td>\n",
       "      <td>1</td>\n",
       "      <td>...</td>\n",
       "      <td>49</td>\n",
       "      <td>16</td>\n",
       "      <td>81</td>\n",
       "      <td>4</td>\n",
       "      <td>16.00</td>\n",
       "      <td>1.0</td>\n",
       "      <td>100.0</td>\n",
       "      <td>49</td>\n",
       "      <td>4</td>\n",
       "      <td>0</td>\n",
       "    </tr>\n",
       "    <tr>\n",
       "      <th>3</th>\n",
       "      <td>130000.0</td>\n",
       "      <td>1</td>\n",
       "      <td>2</td>\n",
       "      <td>0</td>\n",
       "      <td>1</td>\n",
       "      <td>1</td>\n",
       "      <td>0</td>\n",
       "      <td>NaN</td>\n",
       "      <td>0</td>\n",
       "      <td>1</td>\n",
       "      <td>...</td>\n",
       "      <td>900</td>\n",
       "      <td>16</td>\n",
       "      <td>81</td>\n",
       "      <td>4</td>\n",
       "      <td>16.00</td>\n",
       "      <td>1.0</td>\n",
       "      <td>100.0</td>\n",
       "      <td>900</td>\n",
       "      <td>4</td>\n",
       "      <td>0</td>\n",
       "    </tr>\n",
       "    <tr>\n",
       "      <th>4</th>\n",
       "      <td>130000.0</td>\n",
       "      <td>1</td>\n",
       "      <td>2</td>\n",
       "      <td>0</td>\n",
       "      <td>1</td>\n",
       "      <td>1</td>\n",
       "      <td>0</td>\n",
       "      <td>NaN</td>\n",
       "      <td>0</td>\n",
       "      <td>1</td>\n",
       "      <td>...</td>\n",
       "      <td>784</td>\n",
       "      <td>16</td>\n",
       "      <td>81</td>\n",
       "      <td>4</td>\n",
       "      <td>16.00</td>\n",
       "      <td>1.0</td>\n",
       "      <td>100.0</td>\n",
       "      <td>784</td>\n",
       "      <td>4</td>\n",
       "      <td>0</td>\n",
       "    </tr>\n",
       "  </tbody>\n",
       "</table>\n",
       "<p>5 rows × 143 columns</p>\n",
       "</div>"
      ],
      "text/plain": [
       "       v2a1  hacdor  rooms  hacapo  v14a  refrig  v18q  v18q1  r4h1  r4h2  \\\n",
       "0  190000.0       0      3       0     1       1     0    NaN     0     1   \n",
       "1       NaN       0      8       0     1       1     0    NaN     0     0   \n",
       "2  130000.0       1      2       0     1       1     0    NaN     0     1   \n",
       "3  130000.0       1      2       0     1       1     0    NaN     0     1   \n",
       "4  130000.0       1      2       0     1       1     0    NaN     0     1   \n",
       "\n",
       "   ...  SQBage  SQBhogar_total  SQBedjefe  SQBhogar_nin  SQBovercrowding  \\\n",
       "0  ...    1849               1        100             0             1.00   \n",
       "1  ...    8464               1          0             0             0.25   \n",
       "2  ...      49              16         81             4            16.00   \n",
       "3  ...     900              16         81             4            16.00   \n",
       "4  ...     784              16         81             4            16.00   \n",
       "\n",
       "   SQBdependency  SQBmeaned  agesq  Target  v1q8_new  \n",
       "0            0.0      100.0   1849       4         0  \n",
       "1           64.0      121.0   8464       4         0  \n",
       "2            1.0      100.0     49       4         0  \n",
       "3            1.0      100.0    900       4         0  \n",
       "4            1.0      100.0    784       4         0  \n",
       "\n",
       "[5 rows x 143 columns]"
      ]
     },
     "execution_count": 86,
     "metadata": {},
     "output_type": "execute_result"
    }
   ],
   "source": [
    "train_df_num_tablets_0= pd.merge(train_df, num_tablets_0, on='idhogar', how='inner')\n",
    "train_df_num_tablets_0.head()\n",
    "#The df below was will consist of those individuals whose household owns exactly 0 tablets.\n"
   ]
  },
  {
   "cell_type": "code",
   "execution_count": 87,
   "id": "a767a1b8",
   "metadata": {},
   "outputs": [
    {
     "data": {
      "text/plain": [
       "7342"
      ]
     },
     "execution_count": 87,
     "metadata": {},
     "output_type": "execute_result"
    }
   ],
   "source": [
    "train_df_num_tablets_0.v18q1.isnull().sum()\n",
    "#All individuals with missing values in the \"v18q1\" column belongs to households which own 0 tablets."
   ]
  },
  {
   "cell_type": "markdown",
   "id": "07c6a216",
   "metadata": {},
   "source": [
    "The merged df above has 7342 entries. All these entries have missing values in the v18q1 column. It was shown that for each of these individuals their houushold does not own a tablet. Hence the missing values in the v18q1 column should be replaced by 0."
   ]
  },
  {
   "cell_type": "markdown",
   "id": "8422d9b1",
   "metadata": {},
   "source": [
    "**comumn res_esc**"
   ]
  },
  {
   "cell_type": "code",
   "execution_count": 88,
   "id": "379bd234",
   "metadata": {},
   "outputs": [
    {
     "data": {
      "text/plain": [
       "['22. rez_esc, Years behind in school\\n']"
      ]
     },
     "execution_count": 88,
     "metadata": {},
     "output_type": "execute_result"
    }
   ],
   "source": [
    "key_descriptor('rez_esc')"
   ]
  },
  {
   "cell_type": "code",
   "execution_count": 89,
   "id": "3d1acf57",
   "metadata": {},
   "outputs": [
    {
     "data": {
      "image/png": "[encoded data removed]",
      "text/plain": [
       "<Figure size 432x288 with 1 Axes>"
      ]
     },
     "metadata": {
      "needs_background": "light"
     },
     "output_type": "display_data"
    }
   ],
   "source": [
    "sns.countplot(data=train_df, x='rez_esc')\n",
    "plt.title('Graph showing the distribution of data in the\"rez_esc\" column\\n')\n",
    "plt.show()"
   ]
  },
  {
   "cell_type": "code",
   "execution_count": 90,
   "id": "3c48c403",
   "metadata": {},
   "outputs": [
    {
     "data": {
      "text/plain": [
       "count    1629.000000\n",
       "mean        0.459791\n",
       "std         0.946550\n",
       "min         0.000000\n",
       "25%         0.000000\n",
       "50%         0.000000\n",
       "75%         1.000000\n",
       "max         5.000000\n",
       "Name: rez_esc, dtype: float64"
      ]
     },
     "execution_count": 90,
     "metadata": {},
     "output_type": "execute_result"
    }
   ],
   "source": [
    "train_df.rez_esc.describe()"
   ]
  },
  {
   "cell_type": "code",
   "execution_count": 91,
   "id": "b90a71a5",
   "metadata": {},
   "outputs": [
    {
     "data": {
      "text/plain": [
       "Id\n",
       "ID_279628684     True\n",
       "ID_f29eb3ddd     True\n",
       "ID_68de51c94     True\n",
       "ID_d671db89c    False\n",
       "ID_d56d6f5f5     True\n",
       "Name: rez_esc, dtype: bool"
      ]
     },
     "execution_count": 91,
     "metadata": {},
     "output_type": "execute_result"
    }
   ],
   "source": [
    "rez_esc_missing = train_df.rez_esc.isnull()\n",
    "rez_esc_missing.head()\n",
    "#This Series returns True whenever \"rez_esc\" is missing."
   ]
  },
  {
   "cell_type": "code",
   "execution_count": 92,
   "id": "66d23f53",
   "metadata": {},
   "outputs": [
    {
     "data": {
      "text/plain": [
       "0.8295490216595166"
      ]
     },
     "execution_count": 92,
     "metadata": {},
     "output_type": "execute_result"
    }
   ],
   "source": [
    "rez_esc_missing.sum() / len(train_df)\n",
    "#approximately 83% of the values in this column are missing"
   ]
  },
  {
   "cell_type": "code",
   "execution_count": 93,
   "id": "da6e5a0b",
   "metadata": {},
   "outputs": [
    {
     "data": {
      "image/png": "[encoded data removed]",
      "text/plain": [
       "<Figure size 432x288 with 1 Axes>"
      ]
     },
     "metadata": {
      "needs_background": "light"
     },
     "output_type": "display_data"
    }
   ],
   "source": [
    "train_df[rez_esc_missing].age.hist()\n",
    "plt.title('Graph showing the distribution of ages in the dataset when \"rez_esc\" is missing \\n')\n",
    "plt.show()\n",
    "#data is missing from people of a wide range of ages"
   ]
  },
  {
   "cell_type": "code",
   "execution_count": 94,
   "id": "d16a2383",
   "metadata": {},
   "outputs": [],
   "source": [
    "education_cols =  ['instlevel1', 'instlevel2', \"instlevel3\", 'instlevel4', 'instlevel5', 'instlevel6','instlevel7' ,\n",
    "                   'instlevel8', 'instlevel9']"
   ]
  },
  {
   "cell_type": "code",
   "execution_count": 95,
   "id": "036657ad",
   "metadata": {},
   "outputs": [
    {
     "name": "stdout",
     "output_type": "stream",
     "text": [
      "instlevel1 has 1183 missing vals\n",
      "instlevel2 has 897 missing vals\n",
      "instlevel3 has 1752 missing vals\n",
      "instlevel4 has 1314 missing vals\n",
      "instlevel5 has 1065 missing vals\n",
      "instlevel6 has 82 missing vals\n",
      "instlevel7 has 149 missing vals\n",
      "instlevel8 has 1336 missing vals\n",
      "instlevel9 has 147 missing vals\n"
     ]
    }
   ],
   "source": [
    "for col in education_cols:\n",
    "    print(col, 'has', train_df[rez_esc_missing].loc[:, col].sum(), 'missing vals')"
   ]
  },
  {
   "cell_type": "markdown",
   "id": "57f0590a",
   "metadata": {},
   "source": [
    "Analysis of the rez_esc column shows that data is missing from people across a wide range of ages and also with different levels of education. This variable therefore is not considered to be a good predictor and will be dropped."
   ]
  },
  {
   "cell_type": "markdown",
   "id": "bb353076",
   "metadata": {},
   "source": [
    "**The meaneduc and SQBmeaned columns**"
   ]
  },
  {
   "cell_type": "code",
   "execution_count": 96,
   "id": "9abb399e",
   "metadata": {},
   "outputs": [
    {
     "name": "stdout",
     "output_type": "stream",
     "text": [
      "['104. meaneduc,average years of education for adults (18+)\\n']\n",
      "['141. SQBmeaned, square of the mean years of education of adults (>=18) in the household\\n']\n"
     ]
    }
   ],
   "source": [
    "print(key_descriptor('meaneduc'))\n",
    "print(key_descriptor('SQBmeaned'))\n",
    "#SQB meaned is simply the square of meaneduc. Finding the missing values in meaneduc wil give us missing values in SBQmeaned.\n",
    "#Since SQBmeaned will be highly correlated with meaneduc, we will only replace missing values in meaneduc.\n",
    "#We will drop SBQmeaned"
   ]
  },
  {
   "cell_type": "code",
   "execution_count": 97,
   "id": "d92c827f",
   "metadata": {},
   "outputs": [
    {
     "data": {
      "text/plain": [
       "count    9552.000000\n",
       "mean        9.231523\n",
       "std         4.167694\n",
       "min         0.000000\n",
       "25%         6.000000\n",
       "50%         9.000000\n",
       "75%        11.600000\n",
       "max        37.000000\n",
       "Name: meaneduc, dtype: float64"
      ]
     },
     "execution_count": 97,
     "metadata": {},
     "output_type": "execute_result"
    }
   ],
   "source": [
    "train_df.meaneduc.describe()"
   ]
  },
  {
   "cell_type": "code",
   "execution_count": 98,
   "id": "e90ea7f4",
   "metadata": {},
   "outputs": [
    {
     "data": {
      "image/png": "[encoded data removed]",
      "text/plain": [
       "<Figure size 432x288 with 1 Axes>"
      ]
     },
     "metadata": {
      "needs_background": "light"
     },
     "output_type": "display_data"
    }
   ],
   "source": [
    "sns.histplot(data=train_df, x='meaneduc')\n",
    "plt.title('Graph showing the distribution of data in the \"meaneduc\" column \\n')\n",
    "plt.show()"
   ]
  },
  {
   "cell_type": "code",
   "execution_count": 99,
   "id": "f62ce371",
   "metadata": {},
   "outputs": [
    {
     "data": {
      "text/plain": [
       "5"
      ]
     },
     "execution_count": 99,
     "metadata": {},
     "output_type": "execute_result"
    }
   ],
   "source": [
    "train_df.meaneduc.isnull().sum()\n",
    "#There are five missing values in this column."
   ]
  },
  {
   "cell_type": "code",
   "execution_count": 100,
   "id": "aa3c7561",
   "metadata": {},
   "outputs": [
    {
     "data": {
      "text/plain": [
       "81"
      ]
     },
     "execution_count": 100,
     "metadata": {},
     "output_type": "execute_result"
    }
   ],
   "source": [
    "(train_df[train_df.meaneduc.isnull()].var() == 0).sum()\n",
    "#There are 81 columns which have a constant value when the value of meaneduc is missing."
   ]
  },
  {
   "cell_type": "code",
   "execution_count": 101,
   "id": "578d7b7e",
   "metadata": {},
   "outputs": [
    {
     "data": {
      "text/plain": [
       "['102. edjefe, years of education of male head of household, based on the interaction of escolari (years of education), head of household and gender, yes=1 and no=0\\n',\n",
       " '103. edjefa, years of education of female head of household, based on the interaction ofescolari (years of education), head of household and gender, yes=1 and no=0\\n',\n",
       " '104. meaneduc,average years of education for adults (18+)\\n',\n",
       " '105. instlevel1, =1 no level of education\\n',\n",
       " '112. instlevel8, =1 undergraduate and higher education\\n',\n",
       " '113. instlevel9, =1 postgraduate higher education\\n',\n",
       " '141. SQBmeaned, square of the mean years of education of adults (>=18) in the household\\n']"
      ]
     },
     "execution_count": 101,
     "metadata": {},
     "output_type": "execute_result"
    }
   ],
   "source": [
    "feature_finder('education')\n",
    "#Below are some of the variables that might give us a hint as to what the missing values in meaneduc might be."
   ]
  },
  {
   "cell_type": "code",
   "execution_count": 102,
   "id": "665343eb",
   "metadata": {},
   "outputs": [
    {
     "name": "stdout",
     "output_type": "stream",
     "text": [
      "['105. instlevel1, =1 no level of education\\n']\n",
      "['106. instlevel2, =1 incomplete primary\\n']\n",
      "['107. instlevel3, =1 complete primary\\n']\n",
      "['108. instlevel4, =1 incomplete academic secondary level\\n']\n",
      "['109. instlevel5, =1 complete academic secondary level\\n']\n",
      "['110. instlevel6, =1 incomplete technical secondary level\\n']\n",
      "['111. instlevel7, =1 complete technical secondary level\\n']\n",
      "['112. instlevel8, =1 undergraduate and higher education\\n']\n",
      "['113. instlevel9, =1 postgraduate higher education\\n']\n"
     ]
    }
   ],
   "source": [
    "print(key_descriptor('instlevel1'))\n",
    "print(key_descriptor('instlevel2'))\n",
    "print(key_descriptor('instlevel3'))\n",
    "print(key_descriptor('instlevel4'))\n",
    "print(key_descriptor('instlevel5'))\n",
    "print(key_descriptor('instlevel6'))\n",
    "print(key_descriptor('instlevel7'))\n",
    "print(key_descriptor('instlevel8'))\n",
    "print(key_descriptor('instlevel9'))\n",
    "\n",
    "#This is a more comprehemsive look at all the education related features"
   ]
  },
  {
   "cell_type": "code",
   "execution_count": 103,
   "id": "c545b7c7",
   "metadata": {},
   "outputs": [
    {
     "name": "stdout",
     "output_type": "stream",
     "text": [
      "['instlevel1', 'instlevel2', 'instlevel3', 'instlevel4', 'instlevel5', 'instlevel6', 'instlevel7', 'instlevel8', 'instlevel9']\n"
     ]
    }
   ],
   "source": [
    "print(education_cols)"
   ]
  },
  {
   "cell_type": "code",
   "execution_count": 104,
   "id": "8e1a735d",
   "metadata": {},
   "outputs": [
    {
     "data": {
      "image/png": "[encoded data removed]",
      "text/plain": [
       "<Figure size 864x432 with 9 Axes>"
      ]
     },
     "metadata": {
      "needs_background": "light"
     },
     "output_type": "display_data"
    }
   ],
   "source": [
    "plt.figure(figsize=(12, 6))\n",
    "for col in education_cols:\n",
    "    plt.subplot(3, 3, education_cols.index(col) + 1)\n",
    "    sns.countplot(data=train_df[train_df.meaneduc.isnull()], x=col)\n",
    "plt.tight_layout()\n"
   ]
  },
  {
   "cell_type": "markdown",
   "id": "61eca3e8",
   "metadata": {},
   "source": [
    "From the plots above we see that when meaneduc is missing individuals usually have incomplete primary education, complete primary education, incomplete academic secondary education or cmplete technical secondary level education. We never see a case of complete secondary education or teritiary education. We will use this observation to estimate the meaneduc values."
   ]
  },
  {
   "cell_type": "code",
   "execution_count": 105,
   "id": "a25c68db",
   "metadata": {},
   "outputs": [
    {
     "data": {
      "text/plain": [
       "Id\n",
       "ID_279628684     True\n",
       "ID_f29eb3ddd    False\n",
       "ID_68de51c94    False\n",
       "ID_d671db89c     True\n",
       "ID_d56d6f5f5    False\n",
       "dtype: bool"
      ]
     },
     "execution_count": 105,
     "metadata": {},
     "output_type": "execute_result"
    }
   ],
   "source": [
    "cond1 = train_df.instlevel2 == 1\n",
    "cond2 = train_df.instlevel3 == 1\n",
    "cond3 = train_df.instlevel4 == 1\n",
    "cond4 = train_df.instlevel7 == 1\n",
    "\n",
    "com1 = np.logical_or(cond1, cond2)\n",
    "com2 = np.logical_or(cond3, cond4)\n",
    "\n",
    "cond= np.logical_or(com1, com2)\n",
    "cond.head()"
   ]
  },
  {
   "cell_type": "code",
   "execution_count": 106,
   "id": "ca7deed1",
   "metadata": {},
   "outputs": [
    {
     "data": {
      "text/plain": [
       "5536"
      ]
     },
     "execution_count": 106,
     "metadata": {},
     "output_type": "execute_result"
    }
   ],
   "source": [
    "cond.sum()\n",
    "#There are 5536 indicuduals that match one of the criteria"
   ]
  },
  {
   "cell_type": "code",
   "execution_count": 107,
   "id": "5cb111ca",
   "metadata": {},
   "outputs": [
    {
     "data": {
      "text/plain": [
       "count    5531.000000\n",
       "mean        8.019968\n",
       "std         3.541852\n",
       "min         0.000000\n",
       "25%         6.000000\n",
       "50%         7.500000\n",
       "75%        10.000000\n",
       "max        32.000000\n",
       "Name: meaneduc, dtype: float64"
      ]
     },
     "execution_count": 107,
     "metadata": {},
     "output_type": "execute_result"
    }
   ],
   "source": [
    "train_df[cond].meaneduc.describe()"
   ]
  },
  {
   "cell_type": "code",
   "execution_count": 108,
   "id": "c3a173f6",
   "metadata": {},
   "outputs": [
    {
     "data": {
      "text/plain": [
       "<AxesSubplot:xlabel='meaneduc', ylabel='Count'>"
      ]
     },
     "execution_count": 108,
     "metadata": {},
     "output_type": "execute_result"
    },
    {
     "data": {
      "image/png": "[encoded data removed]",
      "text/plain": [
       "<Figure size 432x288 with 1 Axes>"
      ]
     },
     "metadata": {
      "needs_background": "light"
     },
     "output_type": "display_data"
    }
   ],
   "source": [
    "sns.histplot(train_df[cond], x='meaneduc')"
   ]
  },
  {
   "cell_type": "markdown",
   "id": "4209b202",
   "metadata": {},
   "source": [
    "As we might have expected, the meaneduc values for the group of people with either incomplete primary education, complete primary education, incomplete academic secondary education or complete technical secondary level education, is slightly less than the meaneduc value for the entire group. The median of this distribution was found to be 7.5 as opposed to the median of 9 for the entire group. Since meaneduc values have been estimated to the nearest integer, we will use 8.0 to replace the missing values in the dataset."
   ]
  },
  {
   "cell_type": "code",
   "execution_count": 109,
   "id": "d32a06de",
   "metadata": {},
   "outputs": [
    {
     "data": {
      "text/plain": [
       "Id\n",
       "ID_279628684    10.0\n",
       "ID_f29eb3ddd    12.0\n",
       "ID_68de51c94    11.0\n",
       "ID_d671db89c    11.0\n",
       "ID_d56d6f5f5    11.0\n",
       "ID_ec05b1a7b    11.0\n",
       "ID_e9e0c1100    11.0\n",
       "ID_3e04e571e    10.0\n",
       "ID_1284f8aad    10.0\n",
       "ID_51f52fdd2    10.0\n",
       "Name: meaneduc, dtype: float64"
      ]
     },
     "execution_count": 109,
     "metadata": {},
     "output_type": "execute_result"
    }
   ],
   "source": [
    "train_df.meaneduc.head(10)"
   ]
  },
  {
   "cell_type": "code",
   "execution_count": 110,
   "id": "bd134fe0",
   "metadata": {},
   "outputs": [],
   "source": [
    "def f4_missing_value_imputer(df):\n",
    "    \n",
    "    '''\n",
    "    This function will treat all the missing values in the df.\n",
    "    It will use the insights we derived from our missing values analysis.\n",
    "    \n",
    "    '''\n",
    "    df['v2a1'] = df['v2a1'].fillna(0)\n",
    "    df['v18q1'] = df['v18q1'].fillna(0)\n",
    "    df = df.drop(['rez_esc', 'SQBmeaned'], axis=1)\n",
    "    df['meaneduc'] = df['meaneduc'].fillna(8.0)\n",
    "   \n",
    "               \n",
    "    \n",
    "    \n",
    "    return df"
   ]
  },
  {
   "cell_type": "code",
   "execution_count": 111,
   "id": "b38fb7f1",
   "metadata": {},
   "outputs": [
    {
     "data": {
      "text/plain": [
       "v2a1          0\n",
       "instlevel1    0\n",
       "meaneduc      0\n",
       "edjefa        0\n",
       "edjefe        0\n",
       "             ..\n",
       "sanitario1    0\n",
       "sanitario2    0\n",
       "sanitario3    0\n",
       "public        0\n",
       "Target        0\n",
       "Length: 140, dtype: int64"
      ]
     },
     "execution_count": 111,
     "metadata": {},
     "output_type": "execute_result"
    }
   ],
   "source": [
    "f4_missing_value_imputer(train_df.copy()).isnull().sum().sort_values()\n",
    "#After application of our custom function, the resulting df will no longer contain any missing values."
   ]
  },
  {
   "cell_type": "code",
   "execution_count": 112,
   "id": "fcb04521",
   "metadata": {},
   "outputs": [],
   "source": [
    "def preprocessor(df):\n",
    "    \"\"\"\n",
    "    This function applies all the data cleaning functions.\n",
    "    It will operate on the training or test data and perform all the necessary data cleaning \n",
    "    and preprocessing operations.\n",
    "    \n",
    "    \"\"\"\n",
    "    df = f1_object_data_cleaner(df)\n",
    "    df = f2_poverty_level_modifier(df)\n",
    "    df = f3_drop_var0(df)\n",
    "    df = f4_missing_value_imputer(df)\n",
    "    df = df.drop('idhogar', axis=1)\n",
    "    \n",
    "    return df"
   ]
  },
  {
   "cell_type": "code",
   "execution_count": 113,
   "id": "c71f91f3",
   "metadata": {},
   "outputs": [],
   "source": [
    "processed_df = preprocessor(train_df.copy())"
   ]
  },
  {
   "cell_type": "code",
   "execution_count": 114,
   "id": "f9898c70",
   "metadata": {},
   "outputs": [
    {
     "data": {
      "text/html": [
       "<div>\n",
       "<style scoped>\n",
       "    .dataframe tbody tr th:only-of-type {\n",
       "        vertical-align: middle;\n",
       "    }\n",
       "\n",
       "    .dataframe tbody tr th {\n",
       "        vertical-align: top;\n",
       "    }\n",
       "\n",
       "    .dataframe thead th {\n",
       "        text-align: right;\n",
       "    }\n",
       "</style>\n",
       "<table border=\"1\" class=\"dataframe\">\n",
       "  <thead>\n",
       "    <tr style=\"text-align: right;\">\n",
       "      <th></th>\n",
       "      <th>v2a1</th>\n",
       "      <th>hacdor</th>\n",
       "      <th>rooms</th>\n",
       "      <th>hacapo</th>\n",
       "      <th>v14a</th>\n",
       "      <th>refrig</th>\n",
       "      <th>v18q</th>\n",
       "      <th>v18q1</th>\n",
       "      <th>r4h1</th>\n",
       "      <th>r4h2</th>\n",
       "      <th>...</th>\n",
       "      <th>age</th>\n",
       "      <th>SQBescolari</th>\n",
       "      <th>SQBage</th>\n",
       "      <th>SQBhogar_total</th>\n",
       "      <th>SQBedjefe</th>\n",
       "      <th>SQBhogar_nin</th>\n",
       "      <th>SQBovercrowding</th>\n",
       "      <th>SQBdependency</th>\n",
       "      <th>agesq</th>\n",
       "      <th>Target</th>\n",
       "    </tr>\n",
       "    <tr>\n",
       "      <th>Id</th>\n",
       "      <th></th>\n",
       "      <th></th>\n",
       "      <th></th>\n",
       "      <th></th>\n",
       "      <th></th>\n",
       "      <th></th>\n",
       "      <th></th>\n",
       "      <th></th>\n",
       "      <th></th>\n",
       "      <th></th>\n",
       "      <th></th>\n",
       "      <th></th>\n",
       "      <th></th>\n",
       "      <th></th>\n",
       "      <th></th>\n",
       "      <th></th>\n",
       "      <th></th>\n",
       "      <th></th>\n",
       "      <th></th>\n",
       "      <th></th>\n",
       "      <th></th>\n",
       "    </tr>\n",
       "  </thead>\n",
       "  <tbody>\n",
       "    <tr>\n",
       "      <th>ID_279628684</th>\n",
       "      <td>190000.0</td>\n",
       "      <td>0</td>\n",
       "      <td>3</td>\n",
       "      <td>0</td>\n",
       "      <td>1</td>\n",
       "      <td>1</td>\n",
       "      <td>0</td>\n",
       "      <td>0.0</td>\n",
       "      <td>0</td>\n",
       "      <td>1</td>\n",
       "      <td>...</td>\n",
       "      <td>43</td>\n",
       "      <td>100</td>\n",
       "      <td>1849</td>\n",
       "      <td>1</td>\n",
       "      <td>100</td>\n",
       "      <td>0</td>\n",
       "      <td>1.000000</td>\n",
       "      <td>0.0000</td>\n",
       "      <td>1849</td>\n",
       "      <td>4</td>\n",
       "    </tr>\n",
       "    <tr>\n",
       "      <th>ID_f29eb3ddd</th>\n",
       "      <td>135000.0</td>\n",
       "      <td>0</td>\n",
       "      <td>4</td>\n",
       "      <td>0</td>\n",
       "      <td>1</td>\n",
       "      <td>1</td>\n",
       "      <td>1</td>\n",
       "      <td>1.0</td>\n",
       "      <td>0</td>\n",
       "      <td>1</td>\n",
       "      <td>...</td>\n",
       "      <td>67</td>\n",
       "      <td>144</td>\n",
       "      <td>4489</td>\n",
       "      <td>1</td>\n",
       "      <td>144</td>\n",
       "      <td>0</td>\n",
       "      <td>1.000000</td>\n",
       "      <td>64.0000</td>\n",
       "      <td>4489</td>\n",
       "      <td>4</td>\n",
       "    </tr>\n",
       "    <tr>\n",
       "      <th>ID_68de51c94</th>\n",
       "      <td>0.0</td>\n",
       "      <td>0</td>\n",
       "      <td>8</td>\n",
       "      <td>0</td>\n",
       "      <td>1</td>\n",
       "      <td>1</td>\n",
       "      <td>0</td>\n",
       "      <td>0.0</td>\n",
       "      <td>0</td>\n",
       "      <td>0</td>\n",
       "      <td>...</td>\n",
       "      <td>92</td>\n",
       "      <td>121</td>\n",
       "      <td>8464</td>\n",
       "      <td>1</td>\n",
       "      <td>0</td>\n",
       "      <td>0</td>\n",
       "      <td>0.250000</td>\n",
       "      <td>64.0000</td>\n",
       "      <td>8464</td>\n",
       "      <td>4</td>\n",
       "    </tr>\n",
       "    <tr>\n",
       "      <th>ID_d671db89c</th>\n",
       "      <td>180000.0</td>\n",
       "      <td>0</td>\n",
       "      <td>5</td>\n",
       "      <td>0</td>\n",
       "      <td>1</td>\n",
       "      <td>1</td>\n",
       "      <td>1</td>\n",
       "      <td>1.0</td>\n",
       "      <td>0</td>\n",
       "      <td>2</td>\n",
       "      <td>...</td>\n",
       "      <td>17</td>\n",
       "      <td>81</td>\n",
       "      <td>289</td>\n",
       "      <td>16</td>\n",
       "      <td>121</td>\n",
       "      <td>4</td>\n",
       "      <td>1.777778</td>\n",
       "      <td>1.0000</td>\n",
       "      <td>289</td>\n",
       "      <td>4</td>\n",
       "    </tr>\n",
       "    <tr>\n",
       "      <th>ID_d56d6f5f5</th>\n",
       "      <td>180000.0</td>\n",
       "      <td>0</td>\n",
       "      <td>5</td>\n",
       "      <td>0</td>\n",
       "      <td>1</td>\n",
       "      <td>1</td>\n",
       "      <td>1</td>\n",
       "      <td>1.0</td>\n",
       "      <td>0</td>\n",
       "      <td>2</td>\n",
       "      <td>...</td>\n",
       "      <td>37</td>\n",
       "      <td>121</td>\n",
       "      <td>1369</td>\n",
       "      <td>16</td>\n",
       "      <td>121</td>\n",
       "      <td>4</td>\n",
       "      <td>1.777778</td>\n",
       "      <td>1.0000</td>\n",
       "      <td>1369</td>\n",
       "      <td>4</td>\n",
       "    </tr>\n",
       "    <tr>\n",
       "      <th>...</th>\n",
       "      <td>...</td>\n",
       "      <td>...</td>\n",
       "      <td>...</td>\n",
       "      <td>...</td>\n",
       "      <td>...</td>\n",
       "      <td>...</td>\n",
       "      <td>...</td>\n",
       "      <td>...</td>\n",
       "      <td>...</td>\n",
       "      <td>...</td>\n",
       "      <td>...</td>\n",
       "      <td>...</td>\n",
       "      <td>...</td>\n",
       "      <td>...</td>\n",
       "      <td>...</td>\n",
       "      <td>...</td>\n",
       "      <td>...</td>\n",
       "      <td>...</td>\n",
       "      <td>...</td>\n",
       "      <td>...</td>\n",
       "      <td>...</td>\n",
       "    </tr>\n",
       "    <tr>\n",
       "      <th>ID_d45ae367d</th>\n",
       "      <td>80000.0</td>\n",
       "      <td>0</td>\n",
       "      <td>6</td>\n",
       "      <td>0</td>\n",
       "      <td>1</td>\n",
       "      <td>1</td>\n",
       "      <td>0</td>\n",
       "      <td>0.0</td>\n",
       "      <td>0</td>\n",
       "      <td>2</td>\n",
       "      <td>...</td>\n",
       "      <td>46</td>\n",
       "      <td>81</td>\n",
       "      <td>2116</td>\n",
       "      <td>25</td>\n",
       "      <td>81</td>\n",
       "      <td>1</td>\n",
       "      <td>1.562500</td>\n",
       "      <td>0.0625</td>\n",
       "      <td>2116</td>\n",
       "      <td>2</td>\n",
       "    </tr>\n",
       "    <tr>\n",
       "      <th>ID_c94744e07</th>\n",
       "      <td>80000.0</td>\n",
       "      <td>0</td>\n",
       "      <td>6</td>\n",
       "      <td>0</td>\n",
       "      <td>1</td>\n",
       "      <td>1</td>\n",
       "      <td>0</td>\n",
       "      <td>0.0</td>\n",
       "      <td>0</td>\n",
       "      <td>2</td>\n",
       "      <td>...</td>\n",
       "      <td>2</td>\n",
       "      <td>0</td>\n",
       "      <td>4</td>\n",
       "      <td>25</td>\n",
       "      <td>81</td>\n",
       "      <td>1</td>\n",
       "      <td>1.562500</td>\n",
       "      <td>0.0625</td>\n",
       "      <td>4</td>\n",
       "      <td>2</td>\n",
       "    </tr>\n",
       "    <tr>\n",
       "      <th>ID_85fc658f8</th>\n",
       "      <td>80000.0</td>\n",
       "      <td>0</td>\n",
       "      <td>6</td>\n",
       "      <td>0</td>\n",
       "      <td>1</td>\n",
       "      <td>1</td>\n",
       "      <td>0</td>\n",
       "      <td>0.0</td>\n",
       "      <td>0</td>\n",
       "      <td>2</td>\n",
       "      <td>...</td>\n",
       "      <td>50</td>\n",
       "      <td>25</td>\n",
       "      <td>2500</td>\n",
       "      <td>25</td>\n",
       "      <td>81</td>\n",
       "      <td>1</td>\n",
       "      <td>1.562500</td>\n",
       "      <td>0.0625</td>\n",
       "      <td>2500</td>\n",
       "      <td>2</td>\n",
       "    </tr>\n",
       "    <tr>\n",
       "      <th>ID_ced540c61</th>\n",
       "      <td>80000.0</td>\n",
       "      <td>0</td>\n",
       "      <td>6</td>\n",
       "      <td>0</td>\n",
       "      <td>1</td>\n",
       "      <td>1</td>\n",
       "      <td>0</td>\n",
       "      <td>0.0</td>\n",
       "      <td>0</td>\n",
       "      <td>2</td>\n",
       "      <td>...</td>\n",
       "      <td>26</td>\n",
       "      <td>121</td>\n",
       "      <td>676</td>\n",
       "      <td>25</td>\n",
       "      <td>81</td>\n",
       "      <td>1</td>\n",
       "      <td>1.562500</td>\n",
       "      <td>0.0625</td>\n",
       "      <td>676</td>\n",
       "      <td>2</td>\n",
       "    </tr>\n",
       "    <tr>\n",
       "      <th>ID_a38c64491</th>\n",
       "      <td>80000.0</td>\n",
       "      <td>0</td>\n",
       "      <td>6</td>\n",
       "      <td>0</td>\n",
       "      <td>1</td>\n",
       "      <td>1</td>\n",
       "      <td>0</td>\n",
       "      <td>0.0</td>\n",
       "      <td>0</td>\n",
       "      <td>2</td>\n",
       "      <td>...</td>\n",
       "      <td>21</td>\n",
       "      <td>64</td>\n",
       "      <td>441</td>\n",
       "      <td>25</td>\n",
       "      <td>81</td>\n",
       "      <td>1</td>\n",
       "      <td>1.562500</td>\n",
       "      <td>0.0625</td>\n",
       "      <td>441</td>\n",
       "      <td>2</td>\n",
       "    </tr>\n",
       "  </tbody>\n",
       "</table>\n",
       "<p>9557 rows × 139 columns</p>\n",
       "</div>"
      ],
      "text/plain": [
       "                  v2a1  hacdor  rooms  hacapo  v14a  refrig  v18q  v18q1  \\\n",
       "Id                                                                         \n",
       "ID_279628684  190000.0       0      3       0     1       1     0    0.0   \n",
       "ID_f29eb3ddd  135000.0       0      4       0     1       1     1    1.0   \n",
       "ID_68de51c94       0.0       0      8       0     1       1     0    0.0   \n",
       "ID_d671db89c  180000.0       0      5       0     1       1     1    1.0   \n",
       "ID_d56d6f5f5  180000.0       0      5       0     1       1     1    1.0   \n",
       "...                ...     ...    ...     ...   ...     ...   ...    ...   \n",
       "ID_d45ae367d   80000.0       0      6       0     1       1     0    0.0   \n",
       "ID_c94744e07   80000.0       0      6       0     1       1     0    0.0   \n",
       "ID_85fc658f8   80000.0       0      6       0     1       1     0    0.0   \n",
       "ID_ced540c61   80000.0       0      6       0     1       1     0    0.0   \n",
       "ID_a38c64491   80000.0       0      6       0     1       1     0    0.0   \n",
       "\n",
       "              r4h1  r4h2  ...  age  SQBescolari  SQBage  SQBhogar_total  \\\n",
       "Id                        ...                                             \n",
       "ID_279628684     0     1  ...   43          100    1849               1   \n",
       "ID_f29eb3ddd     0     1  ...   67          144    4489               1   \n",
       "ID_68de51c94     0     0  ...   92          121    8464               1   \n",
       "ID_d671db89c     0     2  ...   17           81     289              16   \n",
       "ID_d56d6f5f5     0     2  ...   37          121    1369              16   \n",
       "...            ...   ...  ...  ...          ...     ...             ...   \n",
       "ID_d45ae367d     0     2  ...   46           81    2116              25   \n",
       "ID_c94744e07     0     2  ...    2            0       4              25   \n",
       "ID_85fc658f8     0     2  ...   50           25    2500              25   \n",
       "ID_ced540c61     0     2  ...   26          121     676              25   \n",
       "ID_a38c64491     0     2  ...   21           64     441              25   \n",
       "\n",
       "              SQBedjefe  SQBhogar_nin  SQBovercrowding  SQBdependency  agesq  \\\n",
       "Id                                                                             \n",
       "ID_279628684        100             0         1.000000         0.0000   1849   \n",
       "ID_f29eb3ddd        144             0         1.000000        64.0000   4489   \n",
       "ID_68de51c94          0             0         0.250000        64.0000   8464   \n",
       "ID_d671db89c        121             4         1.777778         1.0000    289   \n",
       "ID_d56d6f5f5        121             4         1.777778         1.0000   1369   \n",
       "...                 ...           ...              ...            ...    ...   \n",
       "ID_d45ae367d         81             1         1.562500         0.0625   2116   \n",
       "ID_c94744e07         81             1         1.562500         0.0625      4   \n",
       "ID_85fc658f8         81             1         1.562500         0.0625   2500   \n",
       "ID_ced540c61         81             1         1.562500         0.0625    676   \n",
       "ID_a38c64491         81             1         1.562500         0.0625    441   \n",
       "\n",
       "              Target  \n",
       "Id                    \n",
       "ID_279628684       4  \n",
       "ID_f29eb3ddd       4  \n",
       "ID_68de51c94       4  \n",
       "ID_d671db89c       4  \n",
       "ID_d56d6f5f5       4  \n",
       "...              ...  \n",
       "ID_d45ae367d       2  \n",
       "ID_c94744e07       2  \n",
       "ID_85fc658f8       2  \n",
       "ID_ced540c61       2  \n",
       "ID_a38c64491       2  \n",
       "\n",
       "[9557 rows x 139 columns]"
      ]
     },
     "execution_count": 114,
     "metadata": {},
     "output_type": "execute_result"
    }
   ],
   "source": [
    "processed_df"
   ]
  },
  {
   "cell_type": "markdown",
   "id": "863a9e3c",
   "metadata": {},
   "source": [
    "### Further Exploratory Data Analysis"
   ]
  },
  {
   "cell_type": "markdown",
   "id": "3d03e3a8",
   "metadata": {},
   "source": [
    "**Identification of Multicollinearity**"
   ]
  },
  {
   "cell_type": "code",
   "execution_count": 115,
   "id": "82944456",
   "metadata": {},
   "outputs": [],
   "source": [
    "corr_mat = processed_df.corr()"
   ]
  },
  {
   "cell_type": "code",
   "execution_count": 116,
   "id": "fd716c59",
   "metadata": {},
   "outputs": [
    {
     "data": {
      "text/html": [
       "<div>\n",
       "<style scoped>\n",
       "    .dataframe tbody tr th:only-of-type {\n",
       "        vertical-align: middle;\n",
       "    }\n",
       "\n",
       "    .dataframe tbody tr th {\n",
       "        vertical-align: top;\n",
       "    }\n",
       "\n",
       "    .dataframe thead th {\n",
       "        text-align: right;\n",
       "    }\n",
       "</style>\n",
       "<table border=\"1\" class=\"dataframe\">\n",
       "  <thead>\n",
       "    <tr style=\"text-align: right;\">\n",
       "      <th></th>\n",
       "      <th>v2a1</th>\n",
       "      <th>hacdor</th>\n",
       "      <th>rooms</th>\n",
       "      <th>hacapo</th>\n",
       "      <th>v14a</th>\n",
       "      <th>refrig</th>\n",
       "      <th>v18q</th>\n",
       "      <th>v18q1</th>\n",
       "      <th>r4h1</th>\n",
       "      <th>r4h2</th>\n",
       "      <th>...</th>\n",
       "      <th>age</th>\n",
       "      <th>SQBescolari</th>\n",
       "      <th>SQBage</th>\n",
       "      <th>SQBhogar_total</th>\n",
       "      <th>SQBedjefe</th>\n",
       "      <th>SQBhogar_nin</th>\n",
       "      <th>SQBovercrowding</th>\n",
       "      <th>SQBdependency</th>\n",
       "      <th>agesq</th>\n",
       "      <th>Target</th>\n",
       "    </tr>\n",
       "  </thead>\n",
       "  <tbody>\n",
       "    <tr>\n",
       "      <th>v2a1</th>\n",
       "      <td>1.000000</td>\n",
       "      <td>-0.025479</td>\n",
       "      <td>0.101634</td>\n",
       "      <td>-0.030867</td>\n",
       "      <td>0.018355</td>\n",
       "      <td>0.061534</td>\n",
       "      <td>0.171947</td>\n",
       "      <td>0.196293</td>\n",
       "      <td>0.017916</td>\n",
       "      <td>-0.059021</td>\n",
       "      <td>...</td>\n",
       "      <td>-0.090771</td>\n",
       "      <td>0.191560</td>\n",
       "      <td>-0.106213</td>\n",
       "      <td>-0.023928</td>\n",
       "      <td>0.260639</td>\n",
       "      <td>0.009876</td>\n",
       "      <td>-0.045814</td>\n",
       "      <td>-0.073783</td>\n",
       "      <td>-0.106213</td>\n",
       "      <td>0.166055</td>\n",
       "    </tr>\n",
       "    <tr>\n",
       "      <th>hacdor</th>\n",
       "      <td>-0.025479</td>\n",
       "      <td>1.000000</td>\n",
       "      <td>-0.233369</td>\n",
       "      <td>0.652594</td>\n",
       "      <td>-0.175011</td>\n",
       "      <td>-0.101965</td>\n",
       "      <td>-0.084680</td>\n",
       "      <td>-0.077992</td>\n",
       "      <td>0.232508</td>\n",
       "      <td>0.059313</td>\n",
       "      <td>...</td>\n",
       "      <td>-0.118168</td>\n",
       "      <td>-0.109862</td>\n",
       "      <td>-0.102725</td>\n",
       "      <td>0.350546</td>\n",
       "      <td>-0.082229</td>\n",
       "      <td>0.388043</td>\n",
       "      <td>0.794699</td>\n",
       "      <td>0.005278</td>\n",
       "      <td>-0.102725</td>\n",
       "      <td>-0.192052</td>\n",
       "    </tr>\n",
       "    <tr>\n",
       "      <th>rooms</th>\n",
       "      <td>0.101634</td>\n",
       "      <td>-0.233369</td>\n",
       "      <td>1.000000</td>\n",
       "      <td>-0.213368</td>\n",
       "      <td>0.129183</td>\n",
       "      <td>0.130531</td>\n",
       "      <td>0.254256</td>\n",
       "      <td>0.271554</td>\n",
       "      <td>-0.066578</td>\n",
       "      <td>0.267627</td>\n",
       "      <td>...</td>\n",
       "      <td>0.077046</td>\n",
       "      <td>0.233679</td>\n",
       "      <td>0.068288</td>\n",
       "      <td>0.221595</td>\n",
       "      <td>0.198890</td>\n",
       "      <td>0.007952</td>\n",
       "      <td>-0.355526</td>\n",
       "      <td>-0.027575</td>\n",
       "      <td>0.068288</td>\n",
       "      <td>0.229089</td>\n",
       "    </tr>\n",
       "    <tr>\n",
       "      <th>hacapo</th>\n",
       "      <td>-0.030867</td>\n",
       "      <td>0.652594</td>\n",
       "      <td>-0.213368</td>\n",
       "      <td>1.000000</td>\n",
       "      <td>-0.150986</td>\n",
       "      <td>-0.124506</td>\n",
       "      <td>-0.067529</td>\n",
       "      <td>-0.061785</td>\n",
       "      <td>0.226378</td>\n",
       "      <td>0.126645</td>\n",
       "      <td>...</td>\n",
       "      <td>-0.087773</td>\n",
       "      <td>-0.092703</td>\n",
       "      <td>-0.075528</td>\n",
       "      <td>0.373720</td>\n",
       "      <td>-0.071170</td>\n",
       "      <td>0.367025</td>\n",
       "      <td>0.640096</td>\n",
       "      <td>0.014411</td>\n",
       "      <td>-0.075528</td>\n",
       "      <td>-0.137874</td>\n",
       "    </tr>\n",
       "    <tr>\n",
       "      <th>v14a</th>\n",
       "      <td>0.018355</td>\n",
       "      <td>-0.175011</td>\n",
       "      <td>0.129183</td>\n",
       "      <td>-0.150986</td>\n",
       "      <td>1.000000</td>\n",
       "      <td>0.143143</td>\n",
       "      <td>0.036396</td>\n",
       "      <td>0.031774</td>\n",
       "      <td>-0.054769</td>\n",
       "      <td>0.018133</td>\n",
       "      <td>...</td>\n",
       "      <td>0.027193</td>\n",
       "      <td>0.036483</td>\n",
       "      <td>0.023831</td>\n",
       "      <td>0.009100</td>\n",
       "      <td>0.018897</td>\n",
       "      <td>-0.015193</td>\n",
       "      <td>-0.174969</td>\n",
       "      <td>0.005712</td>\n",
       "      <td>0.023831</td>\n",
       "      <td>0.063321</td>\n",
       "    </tr>\n",
       "    <tr>\n",
       "      <th>...</th>\n",
       "      <td>...</td>\n",
       "      <td>...</td>\n",
       "      <td>...</td>\n",
       "      <td>...</td>\n",
       "      <td>...</td>\n",
       "      <td>...</td>\n",
       "      <td>...</td>\n",
       "      <td>...</td>\n",
       "      <td>...</td>\n",
       "      <td>...</td>\n",
       "      <td>...</td>\n",
       "      <td>...</td>\n",
       "      <td>...</td>\n",
       "      <td>...</td>\n",
       "      <td>...</td>\n",
       "      <td>...</td>\n",
       "      <td>...</td>\n",
       "      <td>...</td>\n",
       "      <td>...</td>\n",
       "      <td>...</td>\n",
       "      <td>...</td>\n",
       "    </tr>\n",
       "    <tr>\n",
       "      <th>SQBhogar_nin</th>\n",
       "      <td>0.009876</td>\n",
       "      <td>0.388043</td>\n",
       "      <td>0.007952</td>\n",
       "      <td>0.367025</td>\n",
       "      <td>-0.015193</td>\n",
       "      <td>-0.108718</td>\n",
       "      <td>-0.050562</td>\n",
       "      <td>-0.027454</td>\n",
       "      <td>0.565494</td>\n",
       "      <td>0.124701</td>\n",
       "      <td>...</td>\n",
       "      <td>-0.316034</td>\n",
       "      <td>-0.181581</td>\n",
       "      <td>-0.278921</td>\n",
       "      <td>0.733956</td>\n",
       "      <td>-0.049536</td>\n",
       "      <td>1.000000</td>\n",
       "      <td>0.477876</td>\n",
       "      <td>0.049113</td>\n",
       "      <td>-0.278921</td>\n",
       "      <td>-0.310714</td>\n",
       "    </tr>\n",
       "    <tr>\n",
       "      <th>SQBovercrowding</th>\n",
       "      <td>-0.045814</td>\n",
       "      <td>0.794699</td>\n",
       "      <td>-0.355526</td>\n",
       "      <td>0.640096</td>\n",
       "      <td>-0.174969</td>\n",
       "      <td>-0.123054</td>\n",
       "      <td>-0.125936</td>\n",
       "      <td>-0.114650</td>\n",
       "      <td>0.355660</td>\n",
       "      <td>0.144478</td>\n",
       "      <td>...</td>\n",
       "      <td>-0.240636</td>\n",
       "      <td>-0.201253</td>\n",
       "      <td>-0.218349</td>\n",
       "      <td>0.475192</td>\n",
       "      <td>-0.106004</td>\n",
       "      <td>0.477876</td>\n",
       "      <td>1.000000</td>\n",
       "      <td>-0.049525</td>\n",
       "      <td>-0.218349</td>\n",
       "      <td>-0.259766</td>\n",
       "    </tr>\n",
       "    <tr>\n",
       "      <th>SQBdependency</th>\n",
       "      <td>-0.073783</td>\n",
       "      <td>0.005278</td>\n",
       "      <td>-0.027575</td>\n",
       "      <td>0.014411</td>\n",
       "      <td>0.005712</td>\n",
       "      <td>-0.034080</td>\n",
       "      <td>-0.071504</td>\n",
       "      <td>-0.066708</td>\n",
       "      <td>-0.036977</td>\n",
       "      <td>-0.157357</td>\n",
       "      <td>...</td>\n",
       "      <td>0.303847</td>\n",
       "      <td>-0.049172</td>\n",
       "      <td>0.395814</td>\n",
       "      <td>-0.104255</td>\n",
       "      <td>-0.032319</td>\n",
       "      <td>0.049113</td>\n",
       "      <td>-0.049525</td>\n",
       "      <td>1.000000</td>\n",
       "      <td>0.395814</td>\n",
       "      <td>-0.083608</td>\n",
       "    </tr>\n",
       "    <tr>\n",
       "      <th>agesq</th>\n",
       "      <td>-0.106213</td>\n",
       "      <td>-0.102725</td>\n",
       "      <td>0.068288</td>\n",
       "      <td>-0.075528</td>\n",
       "      <td>0.023831</td>\n",
       "      <td>0.025846</td>\n",
       "      <td>-0.054670</td>\n",
       "      <td>-0.053372</td>\n",
       "      <td>-0.272690</td>\n",
       "      <td>-0.054712</td>\n",
       "      <td>...</td>\n",
       "      <td>0.958090</td>\n",
       "      <td>0.051899</td>\n",
       "      <td>1.000000</td>\n",
       "      <td>-0.238110</td>\n",
       "      <td>-0.018314</td>\n",
       "      <td>-0.278921</td>\n",
       "      <td>-0.218349</td>\n",
       "      <td>0.395814</td>\n",
       "      <td>1.000000</td>\n",
       "      <td>0.073933</td>\n",
       "    </tr>\n",
       "    <tr>\n",
       "      <th>Target</th>\n",
       "      <td>0.166055</td>\n",
       "      <td>-0.192052</td>\n",
       "      <td>0.229089</td>\n",
       "      <td>-0.137874</td>\n",
       "      <td>0.063321</td>\n",
       "      <td>0.130326</td>\n",
       "      <td>0.239830</td>\n",
       "      <td>0.202247</td>\n",
       "      <td>-0.231319</td>\n",
       "      <td>0.107032</td>\n",
       "      <td>...</td>\n",
       "      <td>0.117039</td>\n",
       "      <td>0.300673</td>\n",
       "      <td>0.073933</td>\n",
       "      <td>-0.141155</td>\n",
       "      <td>0.248026</td>\n",
       "      <td>-0.310714</td>\n",
       "      <td>-0.259766</td>\n",
       "      <td>-0.083608</td>\n",
       "      <td>0.073933</td>\n",
       "      <td>1.000000</td>\n",
       "    </tr>\n",
       "  </tbody>\n",
       "</table>\n",
       "<p>139 rows × 139 columns</p>\n",
       "</div>"
      ],
      "text/plain": [
       "                     v2a1    hacdor     rooms    hacapo      v14a    refrig  \\\n",
       "v2a1             1.000000 -0.025479  0.101634 -0.030867  0.018355  0.061534   \n",
       "hacdor          -0.025479  1.000000 -0.233369  0.652594 -0.175011 -0.101965   \n",
       "rooms            0.101634 -0.233369  1.000000 -0.213368  0.129183  0.130531   \n",
       "hacapo          -0.030867  0.652594 -0.213368  1.000000 -0.150986 -0.124506   \n",
       "v14a             0.018355 -0.175011  0.129183 -0.150986  1.000000  0.143143   \n",
       "...                   ...       ...       ...       ...       ...       ...   \n",
       "SQBhogar_nin     0.009876  0.388043  0.007952  0.367025 -0.015193 -0.108718   \n",
       "SQBovercrowding -0.045814  0.794699 -0.355526  0.640096 -0.174969 -0.123054   \n",
       "SQBdependency   -0.073783  0.005278 -0.027575  0.014411  0.005712 -0.034080   \n",
       "agesq           -0.106213 -0.102725  0.068288 -0.075528  0.023831  0.025846   \n",
       "Target           0.166055 -0.192052  0.229089 -0.137874  0.063321  0.130326   \n",
       "\n",
       "                     v18q     v18q1      r4h1      r4h2  ...       age  \\\n",
       "v2a1             0.171947  0.196293  0.017916 -0.059021  ... -0.090771   \n",
       "hacdor          -0.084680 -0.077992  0.232508  0.059313  ... -0.118168   \n",
       "rooms            0.254256  0.271554 -0.066578  0.267627  ...  0.077046   \n",
       "hacapo          -0.067529 -0.061785  0.226378  0.126645  ... -0.087773   \n",
       "v14a             0.036396  0.031774 -0.054769  0.018133  ...  0.027193   \n",
       "...                   ...       ...       ...       ...  ...       ...   \n",
       "SQBhogar_nin    -0.050562 -0.027454  0.565494  0.124701  ... -0.316034   \n",
       "SQBovercrowding -0.125936 -0.114650  0.355660  0.144478  ... -0.240636   \n",
       "SQBdependency   -0.071504 -0.066708 -0.036977 -0.157357  ...  0.303847   \n",
       "agesq           -0.054670 -0.053372 -0.272690 -0.054712  ...  0.958090   \n",
       "Target           0.239830  0.202247 -0.231319  0.107032  ...  0.117039   \n",
       "\n",
       "                 SQBescolari    SQBage  SQBhogar_total  SQBedjefe  \\\n",
       "v2a1                0.191560 -0.106213       -0.023928   0.260639   \n",
       "hacdor             -0.109862 -0.102725        0.350546  -0.082229   \n",
       "rooms               0.233679  0.068288        0.221595   0.198890   \n",
       "hacapo             -0.092703 -0.075528        0.373720  -0.071170   \n",
       "v14a                0.036483  0.023831        0.009100   0.018897   \n",
       "...                      ...       ...             ...        ...   \n",
       "SQBhogar_nin       -0.181581 -0.278921        0.733956  -0.049536   \n",
       "SQBovercrowding    -0.201253 -0.218349        0.475192  -0.106004   \n",
       "SQBdependency      -0.049172  0.395814       -0.104255  -0.032319   \n",
       "agesq               0.051899  1.000000       -0.238110  -0.018314   \n",
       "Target              0.300673  0.073933       -0.141155   0.248026   \n",
       "\n",
       "                 SQBhogar_nin  SQBovercrowding  SQBdependency     agesq  \\\n",
       "v2a1                 0.009876        -0.045814      -0.073783 -0.106213   \n",
       "hacdor               0.388043         0.794699       0.005278 -0.102725   \n",
       "rooms                0.007952        -0.355526      -0.027575  0.068288   \n",
       "hacapo               0.367025         0.640096       0.014411 -0.075528   \n",
       "v14a                -0.015193        -0.174969       0.005712  0.023831   \n",
       "...                       ...              ...            ...       ...   \n",
       "SQBhogar_nin         1.000000         0.477876       0.049113 -0.278921   \n",
       "SQBovercrowding      0.477876         1.000000      -0.049525 -0.218349   \n",
       "SQBdependency        0.049113        -0.049525       1.000000  0.395814   \n",
       "agesq               -0.278921        -0.218349       0.395814  1.000000   \n",
       "Target              -0.310714        -0.259766      -0.083608  0.073933   \n",
       "\n",
       "                   Target  \n",
       "v2a1             0.166055  \n",
       "hacdor          -0.192052  \n",
       "rooms            0.229089  \n",
       "hacapo          -0.137874  \n",
       "v14a             0.063321  \n",
       "...                   ...  \n",
       "SQBhogar_nin    -0.310714  \n",
       "SQBovercrowding -0.259766  \n",
       "SQBdependency   -0.083608  \n",
       "agesq            0.073933  \n",
       "Target           1.000000  \n",
       "\n",
       "[139 rows x 139 columns]"
      ]
     },
     "execution_count": 116,
     "metadata": {},
     "output_type": "execute_result"
    }
   ],
   "source": [
    "corr_mat"
   ]
  },
  {
   "cell_type": "code",
   "execution_count": 117,
   "id": "135d6f97",
   "metadata": {},
   "outputs": [
    {
     "data": {
      "text/plain": [
       "<AxesSubplot:>"
      ]
     },
     "execution_count": 117,
     "metadata": {},
     "output_type": "execute_result"
    },
    {
     "data": {
      "image/png": "[encoded data removed]",
      "text/plain": [
       "<Figure size 720x576 with 2 Axes>"
      ]
     },
     "metadata": {
      "needs_background": "light"
     },
     "output_type": "display_data"
    }
   ],
   "source": [
    "plt.figure(figsize=(10, 8))\n",
    "sns.heatmap(corr_mat)\n",
    "#From the correlation matrix below,\n",
    "    #we see clear visual evidence of high positive and negative correlation among features."
   ]
  },
  {
   "cell_type": "code",
   "execution_count": 118,
   "id": "e40d75ba",
   "metadata": {},
   "outputs": [
    {
     "data": {
      "text/plain": [
       "array([[False, False, False, ..., False, False, False],\n",
       "       [False, False, False, ..., False, False, False],\n",
       "       [False, False, False, ..., False, False, False],\n",
       "       ...,\n",
       "       [False, False, False, ..., False, False, False],\n",
       "       [False, False, False, ..., False, False, False],\n",
       "       [False, False, False, ..., False, False, False]])"
      ]
     },
     "execution_count": 118,
     "metadata": {},
     "output_type": "execute_result"
    }
   ],
   "source": [
    "corr_mat2 = np.triu(corr_mat, k=1)\n",
    "#The above line of code sets all elements of the correlation matrix not above the diagonal - to 0.\n",
    "high_corr = np.abs(corr_mat2) > 0.9\n",
    "high_corr\n",
    "#The high corr array returns True only in the upper triangle of the correlation matrix\n",
    "#It will return True whenever the correlation between two features is greater than 0.9\n"
   ]
  },
  {
   "cell_type": "code",
   "execution_count": 119,
   "id": "a2df4024",
   "metadata": {},
   "outputs": [
    {
     "data": {
      "text/plain": [
       "(139, 139)"
      ]
     },
     "execution_count": 119,
     "metadata": {},
     "output_type": "execute_result"
    }
   ],
   "source": [
    "high_corr.shape"
   ]
  },
  {
   "cell_type": "code",
   "execution_count": 120,
   "id": "1b7c28c2",
   "metadata": {},
   "outputs": [],
   "source": [
    "row_indexes, column_indexes = np.where(high_corr)\n"
   ]
  },
  {
   "cell_type": "code",
   "execution_count": 121,
   "id": "f1cfa84b",
   "metadata": {},
   "outputs": [
    {
     "data": {
      "text/plain": [
       "array([ 16,  16,  16,  16,  16,  17,  17,  17,  17,  18,  18,  18,  19,\n",
       "        20,  20,  40,  43,  48,  53,  72,  96,  97,  98, 111, 127, 129,\n",
       "       129, 131], dtype=int64)"
      ]
     },
     "execution_count": 121,
     "metadata": {},
     "output_type": "execute_result"
    }
   ],
   "source": [
    "row_indexes\n",
    "#These are the row indexes in the correlation matrix where highly correlated features were observed."
   ]
  },
  {
   "cell_type": "code",
   "execution_count": 122,
   "id": "609b7c15",
   "metadata": {},
   "outputs": [
    {
     "data": {
      "text/plain": [
       "array([ 17,  18,  20,  96, 132,  18,  20,  96, 132,  20,  96, 132, 130,\n",
       "        96, 132,  41,  46,  49,  54,  73, 132, 136, 133, 135, 128, 131,\n",
       "       137, 137], dtype=int64)"
      ]
     },
     "execution_count": 122,
     "metadata": {},
     "output_type": "execute_result"
    }
   ],
   "source": [
    "column_indexes\n",
    "#These are the column indexes in the correlation matrix where highly correlated features were observed."
   ]
  },
  {
   "cell_type": "code",
   "execution_count": 123,
   "id": "eadc10f5",
   "metadata": {},
   "outputs": [
    {
     "name": "stdout",
     "output_type": "stream",
     "text": [
      "[16, 17, 18, 19, 20, 40, 41, 43, 46, 48, 49, 53, 54, 72, 73, 96, 97, 98, 111, 127, 128, 129, 130, 131, 132, 133, 135, 136, 137]\n"
     ]
    }
   ],
   "source": [
    "correlated_feature_indexes = sorted(list(set(np.append(row_indexes, column_indexes))))\n",
    "print(correlated_feature_indexes)\n",
    "#The indexes below are the column numbers for the columns that are highly correlated with other columns."
   ]
  },
  {
   "cell_type": "code",
   "execution_count": 124,
   "id": "b21b6ac2",
   "metadata": {},
   "outputs": [
    {
     "data": {
      "text/html": [
       "<div>\n",
       "<style scoped>\n",
       "    .dataframe tbody tr th:only-of-type {\n",
       "        vertical-align: middle;\n",
       "    }\n",
       "\n",
       "    .dataframe tbody tr th {\n",
       "        vertical-align: top;\n",
       "    }\n",
       "\n",
       "    .dataframe thead th {\n",
       "        text-align: right;\n",
       "    }\n",
       "</style>\n",
       "<table border=\"1\" class=\"dataframe\">\n",
       "  <thead>\n",
       "    <tr style=\"text-align: right;\">\n",
       "      <th></th>\n",
       "      <th>r4t3</th>\n",
       "      <th>tamhog</th>\n",
       "      <th>tamviv</th>\n",
       "      <th>escolari</th>\n",
       "      <th>hhsize</th>\n",
       "      <th>abastaguadentro</th>\n",
       "      <th>abastaguafuera</th>\n",
       "      <th>public</th>\n",
       "      <th>coopele</th>\n",
       "      <th>sanitario2</th>\n",
       "      <th>...</th>\n",
       "      <th>area1</th>\n",
       "      <th>area2</th>\n",
       "      <th>age</th>\n",
       "      <th>SQBescolari</th>\n",
       "      <th>SQBage</th>\n",
       "      <th>SQBhogar_total</th>\n",
       "      <th>SQBedjefe</th>\n",
       "      <th>SQBovercrowding</th>\n",
       "      <th>SQBdependency</th>\n",
       "      <th>agesq</th>\n",
       "    </tr>\n",
       "  </thead>\n",
       "  <tbody>\n",
       "    <tr>\n",
       "      <th>r4t3</th>\n",
       "      <td>1.000000</td>\n",
       "      <td>0.998107</td>\n",
       "      <td>0.945243</td>\n",
       "      <td>-0.151480</td>\n",
       "      <td>0.998107</td>\n",
       "      <td>-0.054770</td>\n",
       "      <td>0.055701</td>\n",
       "      <td>0.000843</td>\n",
       "      <td>0.004646</td>\n",
       "      <td>-0.057651</td>\n",
       "      <td>...</td>\n",
       "      <td>0.012070</td>\n",
       "      <td>-0.012070</td>\n",
       "      <td>-0.326468</td>\n",
       "      <td>-0.152022</td>\n",
       "      <td>-0.314200</td>\n",
       "      <td>0.948761</td>\n",
       "      <td>-0.032649</td>\n",
       "      <td>0.475539</td>\n",
       "      <td>-0.184918</td>\n",
       "      <td>-0.314200</td>\n",
       "    </tr>\n",
       "    <tr>\n",
       "      <th>tamhog</th>\n",
       "      <td>0.998107</td>\n",
       "      <td>1.000000</td>\n",
       "      <td>0.943640</td>\n",
       "      <td>-0.153200</td>\n",
       "      <td>1.000000</td>\n",
       "      <td>-0.055484</td>\n",
       "      <td>0.056374</td>\n",
       "      <td>0.000179</td>\n",
       "      <td>0.005266</td>\n",
       "      <td>-0.056304</td>\n",
       "      <td>...</td>\n",
       "      <td>0.010908</td>\n",
       "      <td>-0.010908</td>\n",
       "      <td>-0.328421</td>\n",
       "      <td>-0.154337</td>\n",
       "      <td>-0.316481</td>\n",
       "      <td>0.950173</td>\n",
       "      <td>-0.032042</td>\n",
       "      <td>0.477231</td>\n",
       "      <td>-0.186877</td>\n",
       "      <td>-0.316481</td>\n",
       "    </tr>\n",
       "    <tr>\n",
       "      <th>tamviv</th>\n",
       "      <td>0.945243</td>\n",
       "      <td>0.943640</td>\n",
       "      <td>1.000000</td>\n",
       "      <td>-0.161158</td>\n",
       "      <td>0.943640</td>\n",
       "      <td>-0.045087</td>\n",
       "      <td>0.046576</td>\n",
       "      <td>0.006621</td>\n",
       "      <td>-0.003584</td>\n",
       "      <td>-0.050099</td>\n",
       "      <td>...</td>\n",
       "      <td>0.026059</td>\n",
       "      <td>-0.026059</td>\n",
       "      <td>-0.322591</td>\n",
       "      <td>-0.160234</td>\n",
       "      <td>-0.309467</td>\n",
       "      <td>0.901396</td>\n",
       "      <td>-0.042385</td>\n",
       "      <td>0.516805</td>\n",
       "      <td>-0.175926</td>\n",
       "      <td>-0.309467</td>\n",
       "    </tr>\n",
       "    <tr>\n",
       "      <th>escolari</th>\n",
       "      <td>-0.151480</td>\n",
       "      <td>-0.153200</td>\n",
       "      <td>-0.161158</td>\n",
       "      <td>1.000000</td>\n",
       "      <td>-0.153200</td>\n",
       "      <td>0.064457</td>\n",
       "      <td>-0.056263</td>\n",
       "      <td>0.029472</td>\n",
       "      <td>-0.021639</td>\n",
       "      <td>0.090901</td>\n",
       "      <td>...</td>\n",
       "      <td>0.154290</td>\n",
       "      <td>-0.154290</td>\n",
       "      <td>0.231405</td>\n",
       "      <td>0.943325</td>\n",
       "      <td>0.070884</td>\n",
       "      <td>-0.137523</td>\n",
       "      <td>0.328178</td>\n",
       "      <td>-0.212299</td>\n",
       "      <td>-0.061120</td>\n",
       "      <td>0.070884</td>\n",
       "    </tr>\n",
       "    <tr>\n",
       "      <th>hhsize</th>\n",
       "      <td>0.998107</td>\n",
       "      <td>1.000000</td>\n",
       "      <td>0.943640</td>\n",
       "      <td>-0.153200</td>\n",
       "      <td>1.000000</td>\n",
       "      <td>-0.055484</td>\n",
       "      <td>0.056374</td>\n",
       "      <td>0.000179</td>\n",
       "      <td>0.005266</td>\n",
       "      <td>-0.056304</td>\n",
       "      <td>...</td>\n",
       "      <td>0.010908</td>\n",
       "      <td>-0.010908</td>\n",
       "      <td>-0.328421</td>\n",
       "      <td>-0.154337</td>\n",
       "      <td>-0.316481</td>\n",
       "      <td>0.950173</td>\n",
       "      <td>-0.032042</td>\n",
       "      <td>0.477231</td>\n",
       "      <td>-0.186877</td>\n",
       "      <td>-0.316481</td>\n",
       "    </tr>\n",
       "    <tr>\n",
       "      <th>abastaguadentro</th>\n",
       "      <td>-0.054770</td>\n",
       "      <td>-0.055484</td>\n",
       "      <td>-0.045087</td>\n",
       "      <td>0.064457</td>\n",
       "      <td>-0.055484</td>\n",
       "      <td>1.000000</td>\n",
       "      <td>-0.946470</td>\n",
       "      <td>-0.017288</td>\n",
       "      <td>0.051224</td>\n",
       "      <td>0.038886</td>\n",
       "      <td>...</td>\n",
       "      <td>0.078892</td>\n",
       "      <td>-0.078892</td>\n",
       "      <td>0.015574</td>\n",
       "      <td>0.062130</td>\n",
       "      <td>0.007607</td>\n",
       "      <td>-0.052198</td>\n",
       "      <td>0.052807</td>\n",
       "      <td>-0.093475</td>\n",
       "      <td>-0.040839</td>\n",
       "      <td>0.007607</td>\n",
       "    </tr>\n",
       "    <tr>\n",
       "      <th>abastaguafuera</th>\n",
       "      <td>0.055701</td>\n",
       "      <td>0.056374</td>\n",
       "      <td>0.046576</td>\n",
       "      <td>-0.056263</td>\n",
       "      <td>0.056374</td>\n",
       "      <td>-0.946470</td>\n",
       "      <td>1.000000</td>\n",
       "      <td>0.037102</td>\n",
       "      <td>-0.054365</td>\n",
       "      <td>-0.030340</td>\n",
       "      <td>...</td>\n",
       "      <td>-0.056212</td>\n",
       "      <td>0.056212</td>\n",
       "      <td>-0.012545</td>\n",
       "      <td>-0.056236</td>\n",
       "      <td>-0.007530</td>\n",
       "      <td>0.053562</td>\n",
       "      <td>-0.050107</td>\n",
       "      <td>0.093134</td>\n",
       "      <td>0.034773</td>\n",
       "      <td>-0.007530</td>\n",
       "    </tr>\n",
       "    <tr>\n",
       "      <th>public</th>\n",
       "      <td>0.000843</td>\n",
       "      <td>0.000179</td>\n",
       "      <td>0.006621</td>\n",
       "      <td>0.029472</td>\n",
       "      <td>0.000179</td>\n",
       "      <td>-0.017288</td>\n",
       "      <td>0.037102</td>\n",
       "      <td>1.000000</td>\n",
       "      <td>-0.979824</td>\n",
       "      <td>0.131173</td>\n",
       "      <td>...</td>\n",
       "      <td>0.255438</td>\n",
       "      <td>-0.255438</td>\n",
       "      <td>0.011316</td>\n",
       "      <td>0.032549</td>\n",
       "      <td>0.013828</td>\n",
       "      <td>0.003673</td>\n",
       "      <td>0.041003</td>\n",
       "      <td>0.008934</td>\n",
       "      <td>0.028368</td>\n",
       "      <td>0.013828</td>\n",
       "    </tr>\n",
       "    <tr>\n",
       "      <th>coopele</th>\n",
       "      <td>0.004646</td>\n",
       "      <td>0.005266</td>\n",
       "      <td>-0.003584</td>\n",
       "      <td>-0.021639</td>\n",
       "      <td>0.005266</td>\n",
       "      <td>0.051224</td>\n",
       "      <td>-0.054365</td>\n",
       "      <td>-0.979824</td>\n",
       "      <td>1.000000</td>\n",
       "      <td>-0.131354</td>\n",
       "      <td>...</td>\n",
       "      <td>-0.248528</td>\n",
       "      <td>0.248528</td>\n",
       "      <td>-0.010989</td>\n",
       "      <td>-0.025070</td>\n",
       "      <td>-0.013846</td>\n",
       "      <td>0.000947</td>\n",
       "      <td>-0.035938</td>\n",
       "      <td>-0.007399</td>\n",
       "      <td>-0.027037</td>\n",
       "      <td>-0.013846</td>\n",
       "    </tr>\n",
       "    <tr>\n",
       "      <th>sanitario2</th>\n",
       "      <td>-0.057651</td>\n",
       "      <td>-0.056304</td>\n",
       "      <td>-0.050099</td>\n",
       "      <td>0.090901</td>\n",
       "      <td>-0.056304</td>\n",
       "      <td>0.038886</td>\n",
       "      <td>-0.030340</td>\n",
       "      <td>0.131173</td>\n",
       "      <td>-0.131354</td>\n",
       "      <td>1.000000</td>\n",
       "      <td>...</td>\n",
       "      <td>0.242207</td>\n",
       "      <td>-0.242207</td>\n",
       "      <td>0.037864</td>\n",
       "      <td>0.105209</td>\n",
       "      <td>0.042488</td>\n",
       "      <td>-0.054670</td>\n",
       "      <td>0.060979</td>\n",
       "      <td>-0.046500</td>\n",
       "      <td>0.071222</td>\n",
       "      <td>0.042488</td>\n",
       "    </tr>\n",
       "    <tr>\n",
       "      <th>sanitario3</th>\n",
       "      <td>0.036945</td>\n",
       "      <td>0.035455</td>\n",
       "      <td>0.032597</td>\n",
       "      <td>-0.059342</td>\n",
       "      <td>0.035455</td>\n",
       "      <td>0.034154</td>\n",
       "      <td>-0.030347</td>\n",
       "      <td>-0.108879</td>\n",
       "      <td>0.126951</td>\n",
       "      <td>-0.939439</td>\n",
       "      <td>...</td>\n",
       "      <td>-0.207476</td>\n",
       "      <td>0.207476</td>\n",
       "      <td>-0.020374</td>\n",
       "      <td>-0.074387</td>\n",
       "      <td>-0.026181</td>\n",
       "      <td>0.033228</td>\n",
       "      <td>-0.036539</td>\n",
       "      <td>0.017697</td>\n",
       "      <td>-0.079926</td>\n",
       "      <td>-0.026181</td>\n",
       "    </tr>\n",
       "    <tr>\n",
       "      <th>energcocinar2</th>\n",
       "      <td>-0.059672</td>\n",
       "      <td>-0.060782</td>\n",
       "      <td>-0.068561</td>\n",
       "      <td>0.168711</td>\n",
       "      <td>-0.060782</td>\n",
       "      <td>0.097589</td>\n",
       "      <td>-0.088816</td>\n",
       "      <td>0.083735</td>\n",
       "      <td>-0.074335</td>\n",
       "      <td>0.168831</td>\n",
       "      <td>...</td>\n",
       "      <td>0.219963</td>\n",
       "      <td>-0.219963</td>\n",
       "      <td>0.061103</td>\n",
       "      <td>0.184945</td>\n",
       "      <td>0.059768</td>\n",
       "      <td>-0.054631</td>\n",
       "      <td>0.166164</td>\n",
       "      <td>-0.120384</td>\n",
       "      <td>0.046149</td>\n",
       "      <td>0.059768</td>\n",
       "    </tr>\n",
       "    <tr>\n",
       "      <th>energcocinar3</th>\n",
       "      <td>0.038520</td>\n",
       "      <td>0.039239</td>\n",
       "      <td>0.048976</td>\n",
       "      <td>-0.116900</td>\n",
       "      <td>0.039239</td>\n",
       "      <td>-0.038161</td>\n",
       "      <td>0.039675</td>\n",
       "      <td>-0.041269</td>\n",
       "      <td>0.050541</td>\n",
       "      <td>-0.131824</td>\n",
       "      <td>...</td>\n",
       "      <td>-0.129481</td>\n",
       "      <td>0.129481</td>\n",
       "      <td>-0.081389</td>\n",
       "      <td>-0.133447</td>\n",
       "      <td>-0.082795</td>\n",
       "      <td>0.026452</td>\n",
       "      <td>-0.123136</td>\n",
       "      <td>0.081721</td>\n",
       "      <td>-0.060690</td>\n",
       "      <td>-0.082795</td>\n",
       "    </tr>\n",
       "    <tr>\n",
       "      <th>male</th>\n",
       "      <td>0.009038</td>\n",
       "      <td>0.009258</td>\n",
       "      <td>0.010377</td>\n",
       "      <td>-0.034447</td>\n",
       "      <td>0.009258</td>\n",
       "      <td>-0.008048</td>\n",
       "      <td>0.007798</td>\n",
       "      <td>-0.011300</td>\n",
       "      <td>0.009381</td>\n",
       "      <td>-0.026337</td>\n",
       "      <td>...</td>\n",
       "      <td>-0.035348</td>\n",
       "      <td>0.035348</td>\n",
       "      <td>-0.030213</td>\n",
       "      <td>-0.041652</td>\n",
       "      <td>-0.027808</td>\n",
       "      <td>0.006411</td>\n",
       "      <td>0.072701</td>\n",
       "      <td>-0.003788</td>\n",
       "      <td>-0.019385</td>\n",
       "      <td>-0.027808</td>\n",
       "    </tr>\n",
       "    <tr>\n",
       "      <th>female</th>\n",
       "      <td>-0.009038</td>\n",
       "      <td>-0.009258</td>\n",
       "      <td>-0.010377</td>\n",
       "      <td>0.034447</td>\n",
       "      <td>-0.009258</td>\n",
       "      <td>0.008048</td>\n",
       "      <td>-0.007798</td>\n",
       "      <td>0.011300</td>\n",
       "      <td>-0.009381</td>\n",
       "      <td>0.026337</td>\n",
       "      <td>...</td>\n",
       "      <td>0.035348</td>\n",
       "      <td>-0.035348</td>\n",
       "      <td>0.030213</td>\n",
       "      <td>0.041652</td>\n",
       "      <td>0.027808</td>\n",
       "      <td>-0.006411</td>\n",
       "      <td>-0.072701</td>\n",
       "      <td>0.003788</td>\n",
       "      <td>0.019385</td>\n",
       "      <td>0.027808</td>\n",
       "    </tr>\n",
       "    <tr>\n",
       "      <th>hogar_total</th>\n",
       "      <td>0.998107</td>\n",
       "      <td>1.000000</td>\n",
       "      <td>0.943640</td>\n",
       "      <td>-0.153200</td>\n",
       "      <td>1.000000</td>\n",
       "      <td>-0.055484</td>\n",
       "      <td>0.056374</td>\n",
       "      <td>0.000179</td>\n",
       "      <td>0.005266</td>\n",
       "      <td>-0.056304</td>\n",
       "      <td>...</td>\n",
       "      <td>0.010908</td>\n",
       "      <td>-0.010908</td>\n",
       "      <td>-0.328421</td>\n",
       "      <td>-0.154337</td>\n",
       "      <td>-0.316481</td>\n",
       "      <td>0.950173</td>\n",
       "      <td>-0.032042</td>\n",
       "      <td>0.477231</td>\n",
       "      <td>-0.186877</td>\n",
       "      <td>-0.316481</td>\n",
       "    </tr>\n",
       "    <tr>\n",
       "      <th>dependency</th>\n",
       "      <td>-0.055793</td>\n",
       "      <td>-0.057224</td>\n",
       "      <td>-0.051801</td>\n",
       "      <td>-0.151221</td>\n",
       "      <td>-0.057224</td>\n",
       "      <td>-0.051284</td>\n",
       "      <td>0.042303</td>\n",
       "      <td>0.029116</td>\n",
       "      <td>-0.030341</td>\n",
       "      <td>0.064382</td>\n",
       "      <td>...</td>\n",
       "      <td>-0.000101</td>\n",
       "      <td>0.000101</td>\n",
       "      <td>0.202837</td>\n",
       "      <td>-0.131160</td>\n",
       "      <td>0.314916</td>\n",
       "      <td>-0.002923</td>\n",
       "      <td>-0.065896</td>\n",
       "      <td>0.050581</td>\n",
       "      <td>0.944221</td>\n",
       "      <td>0.314916</td>\n",
       "    </tr>\n",
       "    <tr>\n",
       "      <th>edjefe</th>\n",
       "      <td>-0.016312</td>\n",
       "      <td>-0.014565</td>\n",
       "      <td>-0.024082</td>\n",
       "      <td>0.278629</td>\n",
       "      <td>-0.014565</td>\n",
       "      <td>0.040402</td>\n",
       "      <td>-0.037488</td>\n",
       "      <td>0.016717</td>\n",
       "      <td>-0.010516</td>\n",
       "      <td>0.023493</td>\n",
       "      <td>...</td>\n",
       "      <td>0.061299</td>\n",
       "      <td>-0.061299</td>\n",
       "      <td>-0.005784</td>\n",
       "      <td>0.316668</td>\n",
       "      <td>-0.024675</td>\n",
       "      <td>-0.035918</td>\n",
       "      <td>0.933719</td>\n",
       "      <td>-0.091345</td>\n",
       "      <td>-0.051592</td>\n",
       "      <td>-0.024675</td>\n",
       "    </tr>\n",
       "    <tr>\n",
       "      <th>overcrowding</th>\n",
       "      <td>0.583237</td>\n",
       "      <td>0.585560</td>\n",
       "      <td>0.615325</td>\n",
       "      <td>-0.254746</td>\n",
       "      <td>0.585560</td>\n",
       "      <td>-0.088188</td>\n",
       "      <td>0.084275</td>\n",
       "      <td>-0.003372</td>\n",
       "      <td>0.004433</td>\n",
       "      <td>-0.057803</td>\n",
       "      <td>...</td>\n",
       "      <td>-0.018793</td>\n",
       "      <td>0.018793</td>\n",
       "      <td>-0.325617</td>\n",
       "      <td>-0.245853</td>\n",
       "      <td>-0.303111</td>\n",
       "      <td>0.542365</td>\n",
       "      <td>-0.108005</td>\n",
       "      <td>0.945094</td>\n",
       "      <td>-0.112222</td>\n",
       "      <td>-0.303111</td>\n",
       "    </tr>\n",
       "    <tr>\n",
       "      <th>area1</th>\n",
       "      <td>0.012070</td>\n",
       "      <td>0.010908</td>\n",
       "      <td>0.026059</td>\n",
       "      <td>0.154290</td>\n",
       "      <td>0.010908</td>\n",
       "      <td>0.078892</td>\n",
       "      <td>-0.056212</td>\n",
       "      <td>0.255438</td>\n",
       "      <td>-0.248528</td>\n",
       "      <td>0.242207</td>\n",
       "      <td>...</td>\n",
       "      <td>1.000000</td>\n",
       "      <td>-1.000000</td>\n",
       "      <td>0.026770</td>\n",
       "      <td>0.155445</td>\n",
       "      <td>0.023956</td>\n",
       "      <td>0.009916</td>\n",
       "      <td>0.102451</td>\n",
       "      <td>-0.008066</td>\n",
       "      <td>0.010111</td>\n",
       "      <td>0.023956</td>\n",
       "    </tr>\n",
       "    <tr>\n",
       "      <th>area2</th>\n",
       "      <td>-0.012070</td>\n",
       "      <td>-0.010908</td>\n",
       "      <td>-0.026059</td>\n",
       "      <td>-0.154290</td>\n",
       "      <td>-0.010908</td>\n",
       "      <td>-0.078892</td>\n",
       "      <td>0.056212</td>\n",
       "      <td>-0.255438</td>\n",
       "      <td>0.248528</td>\n",
       "      <td>-0.242207</td>\n",
       "      <td>...</td>\n",
       "      <td>-1.000000</td>\n",
       "      <td>1.000000</td>\n",
       "      <td>-0.026770</td>\n",
       "      <td>-0.155445</td>\n",
       "      <td>-0.023956</td>\n",
       "      <td>-0.009916</td>\n",
       "      <td>-0.102451</td>\n",
       "      <td>0.008066</td>\n",
       "      <td>-0.010111</td>\n",
       "      <td>-0.023956</td>\n",
       "    </tr>\n",
       "    <tr>\n",
       "      <th>age</th>\n",
       "      <td>-0.326468</td>\n",
       "      <td>-0.328421</td>\n",
       "      <td>-0.322591</td>\n",
       "      <td>0.231405</td>\n",
       "      <td>-0.328421</td>\n",
       "      <td>0.015574</td>\n",
       "      <td>-0.012545</td>\n",
       "      <td>0.011316</td>\n",
       "      <td>-0.010989</td>\n",
       "      <td>0.037864</td>\n",
       "      <td>...</td>\n",
       "      <td>0.026770</td>\n",
       "      <td>-0.026770</td>\n",
       "      <td>1.000000</td>\n",
       "      <td>0.173977</td>\n",
       "      <td>0.958090</td>\n",
       "      <td>-0.252551</td>\n",
       "      <td>-0.003361</td>\n",
       "      <td>-0.240636</td>\n",
       "      <td>0.303847</td>\n",
       "      <td>0.958090</td>\n",
       "    </tr>\n",
       "    <tr>\n",
       "      <th>SQBescolari</th>\n",
       "      <td>-0.152022</td>\n",
       "      <td>-0.154337</td>\n",
       "      <td>-0.160234</td>\n",
       "      <td>0.943325</td>\n",
       "      <td>-0.154337</td>\n",
       "      <td>0.062130</td>\n",
       "      <td>-0.056236</td>\n",
       "      <td>0.032549</td>\n",
       "      <td>-0.025070</td>\n",
       "      <td>0.105209</td>\n",
       "      <td>...</td>\n",
       "      <td>0.155445</td>\n",
       "      <td>-0.155445</td>\n",
       "      <td>0.173977</td>\n",
       "      <td>1.000000</td>\n",
       "      <td>0.051899</td>\n",
       "      <td>-0.136727</td>\n",
       "      <td>0.397010</td>\n",
       "      <td>-0.201253</td>\n",
       "      <td>-0.049172</td>\n",
       "      <td>0.051899</td>\n",
       "    </tr>\n",
       "    <tr>\n",
       "      <th>SQBage</th>\n",
       "      <td>-0.314200</td>\n",
       "      <td>-0.316481</td>\n",
       "      <td>-0.309467</td>\n",
       "      <td>0.070884</td>\n",
       "      <td>-0.316481</td>\n",
       "      <td>0.007607</td>\n",
       "      <td>-0.007530</td>\n",
       "      <td>0.013828</td>\n",
       "      <td>-0.013846</td>\n",
       "      <td>0.042488</td>\n",
       "      <td>...</td>\n",
       "      <td>0.023956</td>\n",
       "      <td>-0.023956</td>\n",
       "      <td>0.958090</td>\n",
       "      <td>0.051899</td>\n",
       "      <td>1.000000</td>\n",
       "      <td>-0.238110</td>\n",
       "      <td>-0.018314</td>\n",
       "      <td>-0.218349</td>\n",
       "      <td>0.395814</td>\n",
       "      <td>1.000000</td>\n",
       "    </tr>\n",
       "    <tr>\n",
       "      <th>SQBhogar_total</th>\n",
       "      <td>0.948761</td>\n",
       "      <td>0.950173</td>\n",
       "      <td>0.901396</td>\n",
       "      <td>-0.137523</td>\n",
       "      <td>0.950173</td>\n",
       "      <td>-0.052198</td>\n",
       "      <td>0.053562</td>\n",
       "      <td>0.003673</td>\n",
       "      <td>0.000947</td>\n",
       "      <td>-0.054670</td>\n",
       "      <td>...</td>\n",
       "      <td>0.009916</td>\n",
       "      <td>-0.009916</td>\n",
       "      <td>-0.252551</td>\n",
       "      <td>-0.136727</td>\n",
       "      <td>-0.238110</td>\n",
       "      <td>1.000000</td>\n",
       "      <td>-0.039505</td>\n",
       "      <td>0.475192</td>\n",
       "      <td>-0.104255</td>\n",
       "      <td>-0.238110</td>\n",
       "    </tr>\n",
       "    <tr>\n",
       "      <th>SQBedjefe</th>\n",
       "      <td>-0.032649</td>\n",
       "      <td>-0.032042</td>\n",
       "      <td>-0.042385</td>\n",
       "      <td>0.328178</td>\n",
       "      <td>-0.032042</td>\n",
       "      <td>0.052807</td>\n",
       "      <td>-0.050107</td>\n",
       "      <td>0.041003</td>\n",
       "      <td>-0.035938</td>\n",
       "      <td>0.060979</td>\n",
       "      <td>...</td>\n",
       "      <td>0.102451</td>\n",
       "      <td>-0.102451</td>\n",
       "      <td>-0.003361</td>\n",
       "      <td>0.397010</td>\n",
       "      <td>-0.018314</td>\n",
       "      <td>-0.039505</td>\n",
       "      <td>1.000000</td>\n",
       "      <td>-0.106004</td>\n",
       "      <td>-0.032319</td>\n",
       "      <td>-0.018314</td>\n",
       "    </tr>\n",
       "    <tr>\n",
       "      <th>SQBovercrowding</th>\n",
       "      <td>0.475539</td>\n",
       "      <td>0.477231</td>\n",
       "      <td>0.516805</td>\n",
       "      <td>-0.212299</td>\n",
       "      <td>0.477231</td>\n",
       "      <td>-0.093475</td>\n",
       "      <td>0.093134</td>\n",
       "      <td>0.008934</td>\n",
       "      <td>-0.007399</td>\n",
       "      <td>-0.046500</td>\n",
       "      <td>...</td>\n",
       "      <td>-0.008066</td>\n",
       "      <td>0.008066</td>\n",
       "      <td>-0.240636</td>\n",
       "      <td>-0.201253</td>\n",
       "      <td>-0.218349</td>\n",
       "      <td>0.475192</td>\n",
       "      <td>-0.106004</td>\n",
       "      <td>1.000000</td>\n",
       "      <td>-0.049525</td>\n",
       "      <td>-0.218349</td>\n",
       "    </tr>\n",
       "    <tr>\n",
       "      <th>SQBdependency</th>\n",
       "      <td>-0.184918</td>\n",
       "      <td>-0.186877</td>\n",
       "      <td>-0.175926</td>\n",
       "      <td>-0.061120</td>\n",
       "      <td>-0.186877</td>\n",
       "      <td>-0.040839</td>\n",
       "      <td>0.034773</td>\n",
       "      <td>0.028368</td>\n",
       "      <td>-0.027037</td>\n",
       "      <td>0.071222</td>\n",
       "      <td>...</td>\n",
       "      <td>0.010111</td>\n",
       "      <td>-0.010111</td>\n",
       "      <td>0.303847</td>\n",
       "      <td>-0.049172</td>\n",
       "      <td>0.395814</td>\n",
       "      <td>-0.104255</td>\n",
       "      <td>-0.032319</td>\n",
       "      <td>-0.049525</td>\n",
       "      <td>1.000000</td>\n",
       "      <td>0.395814</td>\n",
       "    </tr>\n",
       "    <tr>\n",
       "      <th>agesq</th>\n",
       "      <td>-0.314200</td>\n",
       "      <td>-0.316481</td>\n",
       "      <td>-0.309467</td>\n",
       "      <td>0.070884</td>\n",
       "      <td>-0.316481</td>\n",
       "      <td>0.007607</td>\n",
       "      <td>-0.007530</td>\n",
       "      <td>0.013828</td>\n",
       "      <td>-0.013846</td>\n",
       "      <td>0.042488</td>\n",
       "      <td>...</td>\n",
       "      <td>0.023956</td>\n",
       "      <td>-0.023956</td>\n",
       "      <td>0.958090</td>\n",
       "      <td>0.051899</td>\n",
       "      <td>1.000000</td>\n",
       "      <td>-0.238110</td>\n",
       "      <td>-0.018314</td>\n",
       "      <td>-0.218349</td>\n",
       "      <td>0.395814</td>\n",
       "      <td>1.000000</td>\n",
       "    </tr>\n",
       "  </tbody>\n",
       "</table>\n",
       "<p>29 rows × 29 columns</p>\n",
       "</div>"
      ],
      "text/plain": [
       "                     r4t3    tamhog    tamviv  escolari    hhsize  \\\n",
       "r4t3             1.000000  0.998107  0.945243 -0.151480  0.998107   \n",
       "tamhog           0.998107  1.000000  0.943640 -0.153200  1.000000   \n",
       "tamviv           0.945243  0.943640  1.000000 -0.161158  0.943640   \n",
       "escolari        -0.151480 -0.153200 -0.161158  1.000000 -0.153200   \n",
       "hhsize           0.998107  1.000000  0.943640 -0.153200  1.000000   \n",
       "abastaguadentro -0.054770 -0.055484 -0.045087  0.064457 -0.055484   \n",
       "abastaguafuera   0.055701  0.056374  0.046576 -0.056263  0.056374   \n",
       "public           0.000843  0.000179  0.006621  0.029472  0.000179   \n",
       "coopele          0.004646  0.005266 -0.003584 -0.021639  0.005266   \n",
       "sanitario2      -0.057651 -0.056304 -0.050099  0.090901 -0.056304   \n",
       "sanitario3       0.036945  0.035455  0.032597 -0.059342  0.035455   \n",
       "energcocinar2   -0.059672 -0.060782 -0.068561  0.168711 -0.060782   \n",
       "energcocinar3    0.038520  0.039239  0.048976 -0.116900  0.039239   \n",
       "male             0.009038  0.009258  0.010377 -0.034447  0.009258   \n",
       "female          -0.009038 -0.009258 -0.010377  0.034447 -0.009258   \n",
       "hogar_total      0.998107  1.000000  0.943640 -0.153200  1.000000   \n",
       "dependency      -0.055793 -0.057224 -0.051801 -0.151221 -0.057224   \n",
       "edjefe          -0.016312 -0.014565 -0.024082  0.278629 -0.014565   \n",
       "overcrowding     0.583237  0.585560  0.615325 -0.254746  0.585560   \n",
       "area1            0.012070  0.010908  0.026059  0.154290  0.010908   \n",
       "area2           -0.012070 -0.010908 -0.026059 -0.154290 -0.010908   \n",
       "age             -0.326468 -0.328421 -0.322591  0.231405 -0.328421   \n",
       "SQBescolari     -0.152022 -0.154337 -0.160234  0.943325 -0.154337   \n",
       "SQBage          -0.314200 -0.316481 -0.309467  0.070884 -0.316481   \n",
       "SQBhogar_total   0.948761  0.950173  0.901396 -0.137523  0.950173   \n",
       "SQBedjefe       -0.032649 -0.032042 -0.042385  0.328178 -0.032042   \n",
       "SQBovercrowding  0.475539  0.477231  0.516805 -0.212299  0.477231   \n",
       "SQBdependency   -0.184918 -0.186877 -0.175926 -0.061120 -0.186877   \n",
       "agesq           -0.314200 -0.316481 -0.309467  0.070884 -0.316481   \n",
       "\n",
       "                 abastaguadentro  abastaguafuera    public   coopele  \\\n",
       "r4t3                   -0.054770        0.055701  0.000843  0.004646   \n",
       "tamhog                 -0.055484        0.056374  0.000179  0.005266   \n",
       "tamviv                 -0.045087        0.046576  0.006621 -0.003584   \n",
       "escolari                0.064457       -0.056263  0.029472 -0.021639   \n",
       "hhsize                 -0.055484        0.056374  0.000179  0.005266   \n",
       "abastaguadentro         1.000000       -0.946470 -0.017288  0.051224   \n",
       "abastaguafuera         -0.946470        1.000000  0.037102 -0.054365   \n",
       "public                 -0.017288        0.037102  1.000000 -0.979824   \n",
       "coopele                 0.051224       -0.054365 -0.979824  1.000000   \n",
       "sanitario2              0.038886       -0.030340  0.131173 -0.131354   \n",
       "sanitario3              0.034154       -0.030347 -0.108879  0.126951   \n",
       "energcocinar2           0.097589       -0.088816  0.083735 -0.074335   \n",
       "energcocinar3          -0.038161        0.039675 -0.041269  0.050541   \n",
       "male                   -0.008048        0.007798 -0.011300  0.009381   \n",
       "female                  0.008048       -0.007798  0.011300 -0.009381   \n",
       "hogar_total            -0.055484        0.056374  0.000179  0.005266   \n",
       "dependency             -0.051284        0.042303  0.029116 -0.030341   \n",
       "edjefe                  0.040402       -0.037488  0.016717 -0.010516   \n",
       "overcrowding           -0.088188        0.084275 -0.003372  0.004433   \n",
       "area1                   0.078892       -0.056212  0.255438 -0.248528   \n",
       "area2                  -0.078892        0.056212 -0.255438  0.248528   \n",
       "age                     0.015574       -0.012545  0.011316 -0.010989   \n",
       "SQBescolari             0.062130       -0.056236  0.032549 -0.025070   \n",
       "SQBage                  0.007607       -0.007530  0.013828 -0.013846   \n",
       "SQBhogar_total         -0.052198        0.053562  0.003673  0.000947   \n",
       "SQBedjefe               0.052807       -0.050107  0.041003 -0.035938   \n",
       "SQBovercrowding        -0.093475        0.093134  0.008934 -0.007399   \n",
       "SQBdependency          -0.040839        0.034773  0.028368 -0.027037   \n",
       "agesq                   0.007607       -0.007530  0.013828 -0.013846   \n",
       "\n",
       "                 sanitario2  ...     area1     area2       age  SQBescolari  \\\n",
       "r4t3              -0.057651  ...  0.012070 -0.012070 -0.326468    -0.152022   \n",
       "tamhog            -0.056304  ...  0.010908 -0.010908 -0.328421    -0.154337   \n",
       "tamviv            -0.050099  ...  0.026059 -0.026059 -0.322591    -0.160234   \n",
       "escolari           0.090901  ...  0.154290 -0.154290  0.231405     0.943325   \n",
       "hhsize            -0.056304  ...  0.010908 -0.010908 -0.328421    -0.154337   \n",
       "abastaguadentro    0.038886  ...  0.078892 -0.078892  0.015574     0.062130   \n",
       "abastaguafuera    -0.030340  ... -0.056212  0.056212 -0.012545    -0.056236   \n",
       "public             0.131173  ...  0.255438 -0.255438  0.011316     0.032549   \n",
       "coopele           -0.131354  ... -0.248528  0.248528 -0.010989    -0.025070   \n",
       "sanitario2         1.000000  ...  0.242207 -0.242207  0.037864     0.105209   \n",
       "sanitario3        -0.939439  ... -0.207476  0.207476 -0.020374    -0.074387   \n",
       "energcocinar2      0.168831  ...  0.219963 -0.219963  0.061103     0.184945   \n",
       "energcocinar3     -0.131824  ... -0.129481  0.129481 -0.081389    -0.133447   \n",
       "male              -0.026337  ... -0.035348  0.035348 -0.030213    -0.041652   \n",
       "female             0.026337  ...  0.035348 -0.035348  0.030213     0.041652   \n",
       "hogar_total       -0.056304  ...  0.010908 -0.010908 -0.328421    -0.154337   \n",
       "dependency         0.064382  ... -0.000101  0.000101  0.202837    -0.131160   \n",
       "edjefe             0.023493  ...  0.061299 -0.061299 -0.005784     0.316668   \n",
       "overcrowding      -0.057803  ... -0.018793  0.018793 -0.325617    -0.245853   \n",
       "area1              0.242207  ...  1.000000 -1.000000  0.026770     0.155445   \n",
       "area2             -0.242207  ... -1.000000  1.000000 -0.026770    -0.155445   \n",
       "age                0.037864  ...  0.026770 -0.026770  1.000000     0.173977   \n",
       "SQBescolari        0.105209  ...  0.155445 -0.155445  0.173977     1.000000   \n",
       "SQBage             0.042488  ...  0.023956 -0.023956  0.958090     0.051899   \n",
       "SQBhogar_total    -0.054670  ...  0.009916 -0.009916 -0.252551    -0.136727   \n",
       "SQBedjefe          0.060979  ...  0.102451 -0.102451 -0.003361     0.397010   \n",
       "SQBovercrowding   -0.046500  ... -0.008066  0.008066 -0.240636    -0.201253   \n",
       "SQBdependency      0.071222  ...  0.010111 -0.010111  0.303847    -0.049172   \n",
       "agesq              0.042488  ...  0.023956 -0.023956  0.958090     0.051899   \n",
       "\n",
       "                   SQBage  SQBhogar_total  SQBedjefe  SQBovercrowding  \\\n",
       "r4t3            -0.314200        0.948761  -0.032649         0.475539   \n",
       "tamhog          -0.316481        0.950173  -0.032042         0.477231   \n",
       "tamviv          -0.309467        0.901396  -0.042385         0.516805   \n",
       "escolari         0.070884       -0.137523   0.328178        -0.212299   \n",
       "hhsize          -0.316481        0.950173  -0.032042         0.477231   \n",
       "abastaguadentro  0.007607       -0.052198   0.052807        -0.093475   \n",
       "abastaguafuera  -0.007530        0.053562  -0.050107         0.093134   \n",
       "public           0.013828        0.003673   0.041003         0.008934   \n",
       "coopele         -0.013846        0.000947  -0.035938        -0.007399   \n",
       "sanitario2       0.042488       -0.054670   0.060979        -0.046500   \n",
       "sanitario3      -0.026181        0.033228  -0.036539         0.017697   \n",
       "energcocinar2    0.059768       -0.054631   0.166164        -0.120384   \n",
       "energcocinar3   -0.082795        0.026452  -0.123136         0.081721   \n",
       "male            -0.027808        0.006411   0.072701        -0.003788   \n",
       "female           0.027808       -0.006411  -0.072701         0.003788   \n",
       "hogar_total     -0.316481        0.950173  -0.032042         0.477231   \n",
       "dependency       0.314916       -0.002923  -0.065896         0.050581   \n",
       "edjefe          -0.024675       -0.035918   0.933719        -0.091345   \n",
       "overcrowding    -0.303111        0.542365  -0.108005         0.945094   \n",
       "area1            0.023956        0.009916   0.102451        -0.008066   \n",
       "area2           -0.023956       -0.009916  -0.102451         0.008066   \n",
       "age              0.958090       -0.252551  -0.003361        -0.240636   \n",
       "SQBescolari      0.051899       -0.136727   0.397010        -0.201253   \n",
       "SQBage           1.000000       -0.238110  -0.018314        -0.218349   \n",
       "SQBhogar_total  -0.238110        1.000000  -0.039505         0.475192   \n",
       "SQBedjefe       -0.018314       -0.039505   1.000000        -0.106004   \n",
       "SQBovercrowding -0.218349        0.475192  -0.106004         1.000000   \n",
       "SQBdependency    0.395814       -0.104255  -0.032319        -0.049525   \n",
       "agesq            1.000000       -0.238110  -0.018314        -0.218349   \n",
       "\n",
       "                 SQBdependency     agesq  \n",
       "r4t3                 -0.184918 -0.314200  \n",
       "tamhog               -0.186877 -0.316481  \n",
       "tamviv               -0.175926 -0.309467  \n",
       "escolari             -0.061120  0.070884  \n",
       "hhsize               -0.186877 -0.316481  \n",
       "abastaguadentro      -0.040839  0.007607  \n",
       "abastaguafuera        0.034773 -0.007530  \n",
       "public                0.028368  0.013828  \n",
       "coopele              -0.027037 -0.013846  \n",
       "sanitario2            0.071222  0.042488  \n",
       "sanitario3           -0.079926 -0.026181  \n",
       "energcocinar2         0.046149  0.059768  \n",
       "energcocinar3        -0.060690 -0.082795  \n",
       "male                 -0.019385 -0.027808  \n",
       "female                0.019385  0.027808  \n",
       "hogar_total          -0.186877 -0.316481  \n",
       "dependency            0.944221  0.314916  \n",
       "edjefe               -0.051592 -0.024675  \n",
       "overcrowding         -0.112222 -0.303111  \n",
       "area1                 0.010111  0.023956  \n",
       "area2                -0.010111 -0.023956  \n",
       "age                   0.303847  0.958090  \n",
       "SQBescolari          -0.049172  0.051899  \n",
       "SQBage                0.395814  1.000000  \n",
       "SQBhogar_total       -0.104255 -0.238110  \n",
       "SQBedjefe            -0.032319 -0.018314  \n",
       "SQBovercrowding      -0.049525 -0.218349  \n",
       "SQBdependency         1.000000  0.395814  \n",
       "agesq                 0.395814  1.000000  \n",
       "\n",
       "[29 rows x 29 columns]"
      ]
     },
     "execution_count": 124,
     "metadata": {},
     "output_type": "execute_result"
    }
   ],
   "source": [
    "new_corr_mat = processed_df.iloc[:, correlated_feature_indexes].corr()\n",
    "new_corr_mat\n",
    "#Each feature in this new correlated matrix is highly correlated with at least one other feature."
   ]
  },
  {
   "cell_type": "code",
   "execution_count": 125,
   "id": "b9f8e9db",
   "metadata": {},
   "outputs": [
    {
     "data": {
      "text/plain": [
       "<AxesSubplot:>"
      ]
     },
     "execution_count": 125,
     "metadata": {},
     "output_type": "execute_result"
    },
    {
     "data": {
      "image/png": "[encoded data removed]",
      "text/plain": [
       "<Figure size 1440x720 with 2 Axes>"
      ]
     },
     "metadata": {
      "needs_background": "light"
     },
     "output_type": "display_data"
    }
   ],
   "source": [
    "plt.figure(figsize=(20, 10))\n",
    "sns.heatmap(new_corr_mat, annot=True)\n",
    "#Our new correlation matrix gives us a better look at the highly correlated features"
   ]
  },
  {
   "cell_type": "code",
   "execution_count": 126,
   "id": "dc267474",
   "metadata": {},
   "outputs": [
    {
     "data": {
      "text/plain": [
       "array([ 16,  16,  16,  16,  16,  17,  17,  17,  17,  18,  18,  18,  19,\n",
       "        20,  20,  40,  43,  48,  53,  72,  96,  97,  98, 111, 127, 129,\n",
       "       129, 131], dtype=int64)"
      ]
     },
     "execution_count": 126,
     "metadata": {},
     "output_type": "execute_result"
    }
   ],
   "source": [
    "row_indexes"
   ]
  },
  {
   "cell_type": "code",
   "execution_count": 127,
   "id": "53d060ea",
   "metadata": {},
   "outputs": [
    {
     "data": {
      "text/plain": [
       "array([ 17,  18,  20,  96, 132,  18,  20,  96, 132,  20,  96, 132, 130,\n",
       "        96, 132,  41,  46,  49,  54,  73, 132, 136, 133, 135, 128, 131,\n",
       "       137, 137], dtype=int64)"
      ]
     },
     "execution_count": 127,
     "metadata": {},
     "output_type": "execute_result"
    }
   ],
   "source": [
    "column_indexes"
   ]
  },
  {
   "cell_type": "code",
   "execution_count": 128,
   "id": "429b53fa",
   "metadata": {},
   "outputs": [
    {
     "name": "stdout",
     "output_type": "stream",
     "text": [
      "r4t3 is highly correlated with tamhog\n",
      "r4t3 is highly correlated with tamviv\n",
      "r4t3 is highly correlated with hhsize\n",
      "r4t3 is highly correlated with hogar_total\n",
      "r4t3 is highly correlated with SQBhogar_total\n",
      "tamhog is highly correlated with tamviv\n",
      "tamhog is highly correlated with hhsize\n",
      "tamhog is highly correlated with hogar_total\n",
      "tamhog is highly correlated with SQBhogar_total\n",
      "tamviv is highly correlated with hhsize\n",
      "tamviv is highly correlated with hogar_total\n",
      "tamviv is highly correlated with SQBhogar_total\n",
      "escolari is highly correlated with SQBescolari\n",
      "hhsize is highly correlated with hogar_total\n",
      "hhsize is highly correlated with SQBhogar_total\n",
      "abastaguadentro is highly correlated with abastaguafuera\n",
      "public is highly correlated with coopele\n",
      "sanitario2 is highly correlated with sanitario3\n",
      "energcocinar2 is highly correlated with energcocinar3\n",
      "male is highly correlated with female\n",
      "hogar_total is highly correlated with SQBhogar_total\n",
      "dependency is highly correlated with SQBdependency\n",
      "edjefe is highly correlated with SQBedjefe\n",
      "overcrowding is highly correlated with SQBovercrowding\n",
      "area1 is highly correlated with area2\n",
      "age is highly correlated with SQBage\n",
      "age is highly correlated with agesq\n",
      "SQBage is highly correlated with agesq\n"
     ]
    }
   ],
   "source": [
    "for i,j in list(zip(row_indexes, column_indexes)):\n",
    "    print(processed_df.columns[i], 'is highly correlated with', processed_df.columns[j])\n",
    "#A summary of the data from the correlation matrix above\n",
    "#From each of the follwoing pairs of columns we can drop one column."
   ]
  },
  {
   "cell_type": "code",
   "execution_count": 129,
   "id": "5e65b824",
   "metadata": {},
   "outputs": [
    {
     "name": "stdout",
     "output_type": "stream",
     "text": [
      "['coopele', 'SQBhogar_total', 'energcocinar3', 'SQBescolari', 'sanitario3', 'SQBage', 'agesq', 'area2', 'hhsize', 'hogar_total', 'SQBdependency', 'abastaguafuera', 'tamhog', 'tamviv', 'SQBedjefe', 'SQBovercrowding', 'female']\n",
      "\n",
      " The 17 columns above, will be dropped.\n"
     ]
    }
   ],
   "source": [
    "correlated_cols_to_drop = list(set(processed_df.columns[column_indexes]))\n",
    "print(correlated_cols_to_drop)\n",
    "print('\\n', 'The', len(correlated_cols_to_drop), 'columns above, will be dropped.')"
   ]
  },
  {
   "cell_type": "code",
   "execution_count": 130,
   "id": "3f6c6a91",
   "metadata": {},
   "outputs": [],
   "source": [
    "def f5_drop_correlated_columns(df):\n",
    "    df = df.drop(correlated_cols_to_drop, axis=1)\n",
    "    \n",
    "    return df"
   ]
  },
  {
   "cell_type": "code",
   "execution_count": 131,
   "id": "ed6d621f",
   "metadata": {},
   "outputs": [
    {
     "data": {
      "text/html": [
       "<div>\n",
       "<style scoped>\n",
       "    .dataframe tbody tr th:only-of-type {\n",
       "        vertical-align: middle;\n",
       "    }\n",
       "\n",
       "    .dataframe tbody tr th {\n",
       "        vertical-align: top;\n",
       "    }\n",
       "\n",
       "    .dataframe thead th {\n",
       "        text-align: right;\n",
       "    }\n",
       "</style>\n",
       "<table border=\"1\" class=\"dataframe\">\n",
       "  <thead>\n",
       "    <tr style=\"text-align: right;\">\n",
       "      <th></th>\n",
       "      <th>v2a1</th>\n",
       "      <th>hacdor</th>\n",
       "      <th>rooms</th>\n",
       "      <th>hacapo</th>\n",
       "      <th>v14a</th>\n",
       "      <th>refrig</th>\n",
       "      <th>v18q</th>\n",
       "      <th>v18q1</th>\n",
       "      <th>r4h1</th>\n",
       "      <th>r4h2</th>\n",
       "      <th>...</th>\n",
       "      <th>lugar1</th>\n",
       "      <th>lugar2</th>\n",
       "      <th>lugar3</th>\n",
       "      <th>lugar4</th>\n",
       "      <th>lugar5</th>\n",
       "      <th>lugar6</th>\n",
       "      <th>area1</th>\n",
       "      <th>age</th>\n",
       "      <th>SQBhogar_nin</th>\n",
       "      <th>Target</th>\n",
       "    </tr>\n",
       "    <tr>\n",
       "      <th>Id</th>\n",
       "      <th></th>\n",
       "      <th></th>\n",
       "      <th></th>\n",
       "      <th></th>\n",
       "      <th></th>\n",
       "      <th></th>\n",
       "      <th></th>\n",
       "      <th></th>\n",
       "      <th></th>\n",
       "      <th></th>\n",
       "      <th></th>\n",
       "      <th></th>\n",
       "      <th></th>\n",
       "      <th></th>\n",
       "      <th></th>\n",
       "      <th></th>\n",
       "      <th></th>\n",
       "      <th></th>\n",
       "      <th></th>\n",
       "      <th></th>\n",
       "      <th></th>\n",
       "    </tr>\n",
       "  </thead>\n",
       "  <tbody>\n",
       "    <tr>\n",
       "      <th>ID_279628684</th>\n",
       "      <td>190000.0</td>\n",
       "      <td>0</td>\n",
       "      <td>3</td>\n",
       "      <td>0</td>\n",
       "      <td>1</td>\n",
       "      <td>1</td>\n",
       "      <td>0</td>\n",
       "      <td>0.0</td>\n",
       "      <td>0</td>\n",
       "      <td>1</td>\n",
       "      <td>...</td>\n",
       "      <td>1</td>\n",
       "      <td>0</td>\n",
       "      <td>0</td>\n",
       "      <td>0</td>\n",
       "      <td>0</td>\n",
       "      <td>0</td>\n",
       "      <td>1</td>\n",
       "      <td>43</td>\n",
       "      <td>0</td>\n",
       "      <td>4</td>\n",
       "    </tr>\n",
       "    <tr>\n",
       "      <th>ID_f29eb3ddd</th>\n",
       "      <td>135000.0</td>\n",
       "      <td>0</td>\n",
       "      <td>4</td>\n",
       "      <td>0</td>\n",
       "      <td>1</td>\n",
       "      <td>1</td>\n",
       "      <td>1</td>\n",
       "      <td>1.0</td>\n",
       "      <td>0</td>\n",
       "      <td>1</td>\n",
       "      <td>...</td>\n",
       "      <td>1</td>\n",
       "      <td>0</td>\n",
       "      <td>0</td>\n",
       "      <td>0</td>\n",
       "      <td>0</td>\n",
       "      <td>0</td>\n",
       "      <td>1</td>\n",
       "      <td>67</td>\n",
       "      <td>0</td>\n",
       "      <td>4</td>\n",
       "    </tr>\n",
       "    <tr>\n",
       "      <th>ID_68de51c94</th>\n",
       "      <td>0.0</td>\n",
       "      <td>0</td>\n",
       "      <td>8</td>\n",
       "      <td>0</td>\n",
       "      <td>1</td>\n",
       "      <td>1</td>\n",
       "      <td>0</td>\n",
       "      <td>0.0</td>\n",
       "      <td>0</td>\n",
       "      <td>0</td>\n",
       "      <td>...</td>\n",
       "      <td>1</td>\n",
       "      <td>0</td>\n",
       "      <td>0</td>\n",
       "      <td>0</td>\n",
       "      <td>0</td>\n",
       "      <td>0</td>\n",
       "      <td>1</td>\n",
       "      <td>92</td>\n",
       "      <td>0</td>\n",
       "      <td>4</td>\n",
       "    </tr>\n",
       "    <tr>\n",
       "      <th>ID_d671db89c</th>\n",
       "      <td>180000.0</td>\n",
       "      <td>0</td>\n",
       "      <td>5</td>\n",
       "      <td>0</td>\n",
       "      <td>1</td>\n",
       "      <td>1</td>\n",
       "      <td>1</td>\n",
       "      <td>1.0</td>\n",
       "      <td>0</td>\n",
       "      <td>2</td>\n",
       "      <td>...</td>\n",
       "      <td>1</td>\n",
       "      <td>0</td>\n",
       "      <td>0</td>\n",
       "      <td>0</td>\n",
       "      <td>0</td>\n",
       "      <td>0</td>\n",
       "      <td>1</td>\n",
       "      <td>17</td>\n",
       "      <td>4</td>\n",
       "      <td>4</td>\n",
       "    </tr>\n",
       "    <tr>\n",
       "      <th>ID_d56d6f5f5</th>\n",
       "      <td>180000.0</td>\n",
       "      <td>0</td>\n",
       "      <td>5</td>\n",
       "      <td>0</td>\n",
       "      <td>1</td>\n",
       "      <td>1</td>\n",
       "      <td>1</td>\n",
       "      <td>1.0</td>\n",
       "      <td>0</td>\n",
       "      <td>2</td>\n",
       "      <td>...</td>\n",
       "      <td>1</td>\n",
       "      <td>0</td>\n",
       "      <td>0</td>\n",
       "      <td>0</td>\n",
       "      <td>0</td>\n",
       "      <td>0</td>\n",
       "      <td>1</td>\n",
       "      <td>37</td>\n",
       "      <td>4</td>\n",
       "      <td>4</td>\n",
       "    </tr>\n",
       "    <tr>\n",
       "      <th>...</th>\n",
       "      <td>...</td>\n",
       "      <td>...</td>\n",
       "      <td>...</td>\n",
       "      <td>...</td>\n",
       "      <td>...</td>\n",
       "      <td>...</td>\n",
       "      <td>...</td>\n",
       "      <td>...</td>\n",
       "      <td>...</td>\n",
       "      <td>...</td>\n",
       "      <td>...</td>\n",
       "      <td>...</td>\n",
       "      <td>...</td>\n",
       "      <td>...</td>\n",
       "      <td>...</td>\n",
       "      <td>...</td>\n",
       "      <td>...</td>\n",
       "      <td>...</td>\n",
       "      <td>...</td>\n",
       "      <td>...</td>\n",
       "      <td>...</td>\n",
       "    </tr>\n",
       "    <tr>\n",
       "      <th>ID_d45ae367d</th>\n",
       "      <td>80000.0</td>\n",
       "      <td>0</td>\n",
       "      <td>6</td>\n",
       "      <td>0</td>\n",
       "      <td>1</td>\n",
       "      <td>1</td>\n",
       "      <td>0</td>\n",
       "      <td>0.0</td>\n",
       "      <td>0</td>\n",
       "      <td>2</td>\n",
       "      <td>...</td>\n",
       "      <td>0</td>\n",
       "      <td>0</td>\n",
       "      <td>0</td>\n",
       "      <td>0</td>\n",
       "      <td>0</td>\n",
       "      <td>1</td>\n",
       "      <td>0</td>\n",
       "      <td>46</td>\n",
       "      <td>1</td>\n",
       "      <td>2</td>\n",
       "    </tr>\n",
       "    <tr>\n",
       "      <th>ID_c94744e07</th>\n",
       "      <td>80000.0</td>\n",
       "      <td>0</td>\n",
       "      <td>6</td>\n",
       "      <td>0</td>\n",
       "      <td>1</td>\n",
       "      <td>1</td>\n",
       "      <td>0</td>\n",
       "      <td>0.0</td>\n",
       "      <td>0</td>\n",
       "      <td>2</td>\n",
       "      <td>...</td>\n",
       "      <td>0</td>\n",
       "      <td>0</td>\n",
       "      <td>0</td>\n",
       "      <td>0</td>\n",
       "      <td>0</td>\n",
       "      <td>1</td>\n",
       "      <td>0</td>\n",
       "      <td>2</td>\n",
       "      <td>1</td>\n",
       "      <td>2</td>\n",
       "    </tr>\n",
       "    <tr>\n",
       "      <th>ID_85fc658f8</th>\n",
       "      <td>80000.0</td>\n",
       "      <td>0</td>\n",
       "      <td>6</td>\n",
       "      <td>0</td>\n",
       "      <td>1</td>\n",
       "      <td>1</td>\n",
       "      <td>0</td>\n",
       "      <td>0.0</td>\n",
       "      <td>0</td>\n",
       "      <td>2</td>\n",
       "      <td>...</td>\n",
       "      <td>0</td>\n",
       "      <td>0</td>\n",
       "      <td>0</td>\n",
       "      <td>0</td>\n",
       "      <td>0</td>\n",
       "      <td>1</td>\n",
       "      <td>0</td>\n",
       "      <td>50</td>\n",
       "      <td>1</td>\n",
       "      <td>2</td>\n",
       "    </tr>\n",
       "    <tr>\n",
       "      <th>ID_ced540c61</th>\n",
       "      <td>80000.0</td>\n",
       "      <td>0</td>\n",
       "      <td>6</td>\n",
       "      <td>0</td>\n",
       "      <td>1</td>\n",
       "      <td>1</td>\n",
       "      <td>0</td>\n",
       "      <td>0.0</td>\n",
       "      <td>0</td>\n",
       "      <td>2</td>\n",
       "      <td>...</td>\n",
       "      <td>0</td>\n",
       "      <td>0</td>\n",
       "      <td>0</td>\n",
       "      <td>0</td>\n",
       "      <td>0</td>\n",
       "      <td>1</td>\n",
       "      <td>0</td>\n",
       "      <td>26</td>\n",
       "      <td>1</td>\n",
       "      <td>2</td>\n",
       "    </tr>\n",
       "    <tr>\n",
       "      <th>ID_a38c64491</th>\n",
       "      <td>80000.0</td>\n",
       "      <td>0</td>\n",
       "      <td>6</td>\n",
       "      <td>0</td>\n",
       "      <td>1</td>\n",
       "      <td>1</td>\n",
       "      <td>0</td>\n",
       "      <td>0.0</td>\n",
       "      <td>0</td>\n",
       "      <td>2</td>\n",
       "      <td>...</td>\n",
       "      <td>0</td>\n",
       "      <td>0</td>\n",
       "      <td>0</td>\n",
       "      <td>0</td>\n",
       "      <td>0</td>\n",
       "      <td>1</td>\n",
       "      <td>0</td>\n",
       "      <td>21</td>\n",
       "      <td>1</td>\n",
       "      <td>2</td>\n",
       "    </tr>\n",
       "  </tbody>\n",
       "</table>\n",
       "<p>9557 rows × 122 columns</p>\n",
       "</div>"
      ],
      "text/plain": [
       "                  v2a1  hacdor  rooms  hacapo  v14a  refrig  v18q  v18q1  \\\n",
       "Id                                                                         \n",
       "ID_279628684  190000.0       0      3       0     1       1     0    0.0   \n",
       "ID_f29eb3ddd  135000.0       0      4       0     1       1     1    1.0   \n",
       "ID_68de51c94       0.0       0      8       0     1       1     0    0.0   \n",
       "ID_d671db89c  180000.0       0      5       0     1       1     1    1.0   \n",
       "ID_d56d6f5f5  180000.0       0      5       0     1       1     1    1.0   \n",
       "...                ...     ...    ...     ...   ...     ...   ...    ...   \n",
       "ID_d45ae367d   80000.0       0      6       0     1       1     0    0.0   \n",
       "ID_c94744e07   80000.0       0      6       0     1       1     0    0.0   \n",
       "ID_85fc658f8   80000.0       0      6       0     1       1     0    0.0   \n",
       "ID_ced540c61   80000.0       0      6       0     1       1     0    0.0   \n",
       "ID_a38c64491   80000.0       0      6       0     1       1     0    0.0   \n",
       "\n",
       "              r4h1  r4h2  ...  lugar1  lugar2  lugar3  lugar4  lugar5  lugar6  \\\n",
       "Id                        ...                                                   \n",
       "ID_279628684     0     1  ...       1       0       0       0       0       0   \n",
       "ID_f29eb3ddd     0     1  ...       1       0       0       0       0       0   \n",
       "ID_68de51c94     0     0  ...       1       0       0       0       0       0   \n",
       "ID_d671db89c     0     2  ...       1       0       0       0       0       0   \n",
       "ID_d56d6f5f5     0     2  ...       1       0       0       0       0       0   \n",
       "...            ...   ...  ...     ...     ...     ...     ...     ...     ...   \n",
       "ID_d45ae367d     0     2  ...       0       0       0       0       0       1   \n",
       "ID_c94744e07     0     2  ...       0       0       0       0       0       1   \n",
       "ID_85fc658f8     0     2  ...       0       0       0       0       0       1   \n",
       "ID_ced540c61     0     2  ...       0       0       0       0       0       1   \n",
       "ID_a38c64491     0     2  ...       0       0       0       0       0       1   \n",
       "\n",
       "              area1  age  SQBhogar_nin  Target  \n",
       "Id                                              \n",
       "ID_279628684      1   43             0       4  \n",
       "ID_f29eb3ddd      1   67             0       4  \n",
       "ID_68de51c94      1   92             0       4  \n",
       "ID_d671db89c      1   17             4       4  \n",
       "ID_d56d6f5f5      1   37             4       4  \n",
       "...             ...  ...           ...     ...  \n",
       "ID_d45ae367d      0   46             1       2  \n",
       "ID_c94744e07      0    2             1       2  \n",
       "ID_85fc658f8      0   50             1       2  \n",
       "ID_ced540c61      0   26             1       2  \n",
       "ID_a38c64491      0   21             1       2  \n",
       "\n",
       "[9557 rows x 122 columns]"
      ]
     },
     "execution_count": 131,
     "metadata": {},
     "output_type": "execute_result"
    }
   ],
   "source": [
    "f5_drop_correlated_columns(processed_df)"
   ]
  },
  {
   "cell_type": "markdown",
   "id": "69f990c4",
   "metadata": {},
   "source": [
    "### Identification of unimportant features"
   ]
  },
  {
   "cell_type": "code",
   "execution_count": 132,
   "id": "2cfbd627",
   "metadata": {},
   "outputs": [],
   "source": [
    "base = processed_df.Target\n",
    "def chi_p_calculator(ser):\n",
    "    \"\"\"\n",
    "    This function takes a series of categorical values, or integers being treated as categorical values.\n",
    "    It starts with the following null hypothesis;\n",
    "        h_0: The column is not assocaited with the target variable.\n",
    "    It returns the p value after a chi squared test with the target column.\n",
    "    If p < 0.05 we will reject the null hypothesis.\n",
    "    If the fail toreject the null hypothesis (the column is not associated with the target), \n",
    "    we will drop the column.)\n",
    "    \"\"\"\n",
    "    ct = pd.crosstab(ser, base)\n",
    "    p = chi2_contingency(ct)[1]\n",
    "    \n",
    "    \n",
    "    return p"
   ]
  },
  {
   "cell_type": "code",
   "execution_count": 133,
   "id": "0d0ceebd",
   "metadata": {},
   "outputs": [
    {
     "data": {
      "text/plain": [
       "2.430485421954101e-119"
      ]
     },
     "execution_count": 133,
     "metadata": {},
     "output_type": "execute_result"
    }
   ],
   "source": [
    "chi_p_calculator(processed_df.rooms)\n",
    "#p < 0.05 so this column will be kept"
   ]
  },
  {
   "cell_type": "code",
   "execution_count": 134,
   "id": "7b564460",
   "metadata": {},
   "outputs": [
    {
     "data": {
      "text/plain": [
       "v2a1               1.528825e-101\n",
       "hacdor              1.918376e-80\n",
       "rooms              2.430485e-119\n",
       "hacapo              3.119389e-39\n",
       "v14a                2.264758e-09\n",
       "                       ...      \n",
       "SQBhogar_nin        0.000000e+00\n",
       "SQBovercrowding    1.391621e-296\n",
       "SQBdependency       0.000000e+00\n",
       "agesq               3.636703e-37\n",
       "Target              0.000000e+00\n",
       "Length: 139, dtype: float64"
      ]
     },
     "execution_count": 134,
     "metadata": {},
     "output_type": "execute_result"
    }
   ],
   "source": [
    "processed_df.apply(chi_p_calculator)"
   ]
  },
  {
   "cell_type": "code",
   "execution_count": 135,
   "id": "a8bf4acf",
   "metadata": {},
   "outputs": [
    {
     "data": {
      "text/plain": [
       "v2a1               False\n",
       "hacdor             False\n",
       "rooms              False\n",
       "hacapo             False\n",
       "v14a               False\n",
       "                   ...  \n",
       "SQBhogar_nin       False\n",
       "SQBovercrowding    False\n",
       "SQBdependency      False\n",
       "agesq              False\n",
       "Target             False\n",
       "Length: 139, dtype: bool"
      ]
     },
     "execution_count": 135,
     "metadata": {},
     "output_type": "execute_result"
    }
   ],
   "source": [
    "useless_feats_identifier = processed_df.apply(chi_p_calculator) > 0.05\n",
    "useless_feats_identifier\n",
    "#This series returns Truefor columns where null hypothesis is not rejected.\n",
    "#We will drop the columns where the test fails to reject the humm hypothesis."
   ]
  },
  {
   "cell_type": "code",
   "execution_count": 136,
   "id": "838fb8a4",
   "metadata": {},
   "outputs": [
    {
     "data": {
      "text/plain": [
       "18"
      ]
     },
     "execution_count": 136,
     "metadata": {},
     "output_type": "execute_result"
    }
   ],
   "source": [
    "useless_feats_identifier.sum()"
   ]
  },
  {
   "cell_type": "code",
   "execution_count": 137,
   "id": "ec8a091d",
   "metadata": {},
   "outputs": [
    {
     "data": {
      "text/plain": [
       "Index(['paredother', 'pisoother', 'public', 'planpri', 'coopele', 'elimbasu5',\n",
       "       'elimbasu6', 'estadocivil7', 'parentesco5', 'parentesco7',\n",
       "       'parentesco8', 'parentesco9', 'parentesco10', 'parentesco12',\n",
       "       'instlevel4', 'tipovivi1', 'tipovivi3', 'lugar2'],\n",
       "      dtype='object')"
      ]
     },
     "execution_count": 137,
     "metadata": {},
     "output_type": "execute_result"
    }
   ],
   "source": [
    "useless_feats = useless_feats_identifier[useless_feats_identifier].index\n",
    "useless_feats"
   ]
  },
  {
   "cell_type": "code",
   "execution_count": 138,
   "id": "fed8c225",
   "metadata": {},
   "outputs": [],
   "source": [
    "def f6_drop_useless_features(df):\n",
    "    to_drop1 = [col for col in df.columns if col in useless_feats]\n",
    "    #to_drop1 = [col for col in to_drop1 if col in correlated_cols_to_drop]\n",
    "    df = df.drop(to_drop1, axis=1)\n",
    "    \n",
    "    return df"
   ]
  },
  {
   "cell_type": "code",
   "execution_count": 139,
   "id": "98f0e0a9",
   "metadata": {},
   "outputs": [],
   "source": [
    "def preprocessor2(df):\n",
    "    \"\"\"\n",
    "    This function applies all the data cleaning functions.\n",
    "    It will operate on the training or test data and perform all the necessary data cleaning \n",
    "    and preprocessing operations.\n",
    "    \n",
    "    \"\"\"\n",
    "    df = f1_object_data_cleaner(df)\n",
    "    df = f2_poverty_level_modifier(df)\n",
    "    df = f3_drop_var0(df)\n",
    "    df = f4_missing_value_imputer(df)\n",
    "    df = df.drop('idhogar', axis=1)\n",
    "    df = f5_drop_correlated_columns(df)\n",
    "    df = f6_drop_useless_features(df)\n",
    "    \n",
    "    return df"
   ]
  },
  {
   "cell_type": "code",
   "execution_count": 140,
   "id": "ae152153",
   "metadata": {},
   "outputs": [
    {
     "data": {
      "text/html": [
       "<div>\n",
       "<style scoped>\n",
       "    .dataframe tbody tr th:only-of-type {\n",
       "        vertical-align: middle;\n",
       "    }\n",
       "\n",
       "    .dataframe tbody tr th {\n",
       "        vertical-align: top;\n",
       "    }\n",
       "\n",
       "    .dataframe thead th {\n",
       "        text-align: right;\n",
       "    }\n",
       "</style>\n",
       "<table border=\"1\" class=\"dataframe\">\n",
       "  <thead>\n",
       "    <tr style=\"text-align: right;\">\n",
       "      <th></th>\n",
       "      <th>v2a1</th>\n",
       "      <th>hacdor</th>\n",
       "      <th>rooms</th>\n",
       "      <th>hacapo</th>\n",
       "      <th>v14a</th>\n",
       "      <th>refrig</th>\n",
       "      <th>v18q</th>\n",
       "      <th>v18q1</th>\n",
       "      <th>r4h1</th>\n",
       "      <th>r4h2</th>\n",
       "      <th>...</th>\n",
       "      <th>qmobilephone</th>\n",
       "      <th>lugar1</th>\n",
       "      <th>lugar3</th>\n",
       "      <th>lugar4</th>\n",
       "      <th>lugar5</th>\n",
       "      <th>lugar6</th>\n",
       "      <th>area1</th>\n",
       "      <th>age</th>\n",
       "      <th>SQBhogar_nin</th>\n",
       "      <th>Target</th>\n",
       "    </tr>\n",
       "    <tr>\n",
       "      <th>Id</th>\n",
       "      <th></th>\n",
       "      <th></th>\n",
       "      <th></th>\n",
       "      <th></th>\n",
       "      <th></th>\n",
       "      <th></th>\n",
       "      <th></th>\n",
       "      <th></th>\n",
       "      <th></th>\n",
       "      <th></th>\n",
       "      <th></th>\n",
       "      <th></th>\n",
       "      <th></th>\n",
       "      <th></th>\n",
       "      <th></th>\n",
       "      <th></th>\n",
       "      <th></th>\n",
       "      <th></th>\n",
       "      <th></th>\n",
       "      <th></th>\n",
       "      <th></th>\n",
       "    </tr>\n",
       "  </thead>\n",
       "  <tbody>\n",
       "    <tr>\n",
       "      <th>ID_279628684</th>\n",
       "      <td>190000.0</td>\n",
       "      <td>0</td>\n",
       "      <td>3</td>\n",
       "      <td>0</td>\n",
       "      <td>1</td>\n",
       "      <td>1</td>\n",
       "      <td>0</td>\n",
       "      <td>0.0</td>\n",
       "      <td>0</td>\n",
       "      <td>1</td>\n",
       "      <td>...</td>\n",
       "      <td>1</td>\n",
       "      <td>1</td>\n",
       "      <td>0</td>\n",
       "      <td>0</td>\n",
       "      <td>0</td>\n",
       "      <td>0</td>\n",
       "      <td>1</td>\n",
       "      <td>43</td>\n",
       "      <td>0</td>\n",
       "      <td>4</td>\n",
       "    </tr>\n",
       "    <tr>\n",
       "      <th>ID_f29eb3ddd</th>\n",
       "      <td>135000.0</td>\n",
       "      <td>0</td>\n",
       "      <td>4</td>\n",
       "      <td>0</td>\n",
       "      <td>1</td>\n",
       "      <td>1</td>\n",
       "      <td>1</td>\n",
       "      <td>1.0</td>\n",
       "      <td>0</td>\n",
       "      <td>1</td>\n",
       "      <td>...</td>\n",
       "      <td>1</td>\n",
       "      <td>1</td>\n",
       "      <td>0</td>\n",
       "      <td>0</td>\n",
       "      <td>0</td>\n",
       "      <td>0</td>\n",
       "      <td>1</td>\n",
       "      <td>67</td>\n",
       "      <td>0</td>\n",
       "      <td>4</td>\n",
       "    </tr>\n",
       "    <tr>\n",
       "      <th>ID_68de51c94</th>\n",
       "      <td>0.0</td>\n",
       "      <td>0</td>\n",
       "      <td>8</td>\n",
       "      <td>0</td>\n",
       "      <td>1</td>\n",
       "      <td>1</td>\n",
       "      <td>0</td>\n",
       "      <td>0.0</td>\n",
       "      <td>0</td>\n",
       "      <td>0</td>\n",
       "      <td>...</td>\n",
       "      <td>0</td>\n",
       "      <td>1</td>\n",
       "      <td>0</td>\n",
       "      <td>0</td>\n",
       "      <td>0</td>\n",
       "      <td>0</td>\n",
       "      <td>1</td>\n",
       "      <td>92</td>\n",
       "      <td>0</td>\n",
       "      <td>4</td>\n",
       "    </tr>\n",
       "    <tr>\n",
       "      <th>ID_d671db89c</th>\n",
       "      <td>180000.0</td>\n",
       "      <td>0</td>\n",
       "      <td>5</td>\n",
       "      <td>0</td>\n",
       "      <td>1</td>\n",
       "      <td>1</td>\n",
       "      <td>1</td>\n",
       "      <td>1.0</td>\n",
       "      <td>0</td>\n",
       "      <td>2</td>\n",
       "      <td>...</td>\n",
       "      <td>3</td>\n",
       "      <td>1</td>\n",
       "      <td>0</td>\n",
       "      <td>0</td>\n",
       "      <td>0</td>\n",
       "      <td>0</td>\n",
       "      <td>1</td>\n",
       "      <td>17</td>\n",
       "      <td>4</td>\n",
       "      <td>4</td>\n",
       "    </tr>\n",
       "    <tr>\n",
       "      <th>ID_d56d6f5f5</th>\n",
       "      <td>180000.0</td>\n",
       "      <td>0</td>\n",
       "      <td>5</td>\n",
       "      <td>0</td>\n",
       "      <td>1</td>\n",
       "      <td>1</td>\n",
       "      <td>1</td>\n",
       "      <td>1.0</td>\n",
       "      <td>0</td>\n",
       "      <td>2</td>\n",
       "      <td>...</td>\n",
       "      <td>3</td>\n",
       "      <td>1</td>\n",
       "      <td>0</td>\n",
       "      <td>0</td>\n",
       "      <td>0</td>\n",
       "      <td>0</td>\n",
       "      <td>1</td>\n",
       "      <td>37</td>\n",
       "      <td>4</td>\n",
       "      <td>4</td>\n",
       "    </tr>\n",
       "  </tbody>\n",
       "</table>\n",
       "<p>5 rows × 105 columns</p>\n",
       "</div>"
      ],
      "text/plain": [
       "                  v2a1  hacdor  rooms  hacapo  v14a  refrig  v18q  v18q1  \\\n",
       "Id                                                                         \n",
       "ID_279628684  190000.0       0      3       0     1       1     0    0.0   \n",
       "ID_f29eb3ddd  135000.0       0      4       0     1       1     1    1.0   \n",
       "ID_68de51c94       0.0       0      8       0     1       1     0    0.0   \n",
       "ID_d671db89c  180000.0       0      5       0     1       1     1    1.0   \n",
       "ID_d56d6f5f5  180000.0       0      5       0     1       1     1    1.0   \n",
       "\n",
       "              r4h1  r4h2  ...  qmobilephone  lugar1  lugar3  lugar4  lugar5  \\\n",
       "Id                        ...                                                 \n",
       "ID_279628684     0     1  ...             1       1       0       0       0   \n",
       "ID_f29eb3ddd     0     1  ...             1       1       0       0       0   \n",
       "ID_68de51c94     0     0  ...             0       1       0       0       0   \n",
       "ID_d671db89c     0     2  ...             3       1       0       0       0   \n",
       "ID_d56d6f5f5     0     2  ...             3       1       0       0       0   \n",
       "\n",
       "              lugar6  area1  age  SQBhogar_nin  Target  \n",
       "Id                                                      \n",
       "ID_279628684       0      1   43             0       4  \n",
       "ID_f29eb3ddd       0      1   67             0       4  \n",
       "ID_68de51c94       0      1   92             0       4  \n",
       "ID_d671db89c       0      1   17             4       4  \n",
       "ID_d56d6f5f5       0      1   37             4       4  \n",
       "\n",
       "[5 rows x 105 columns]"
      ]
     },
     "execution_count": 140,
     "metadata": {},
     "output_type": "execute_result"
    }
   ],
   "source": [
    "processed_df2 = preprocessor2(train_df.copy())\n",
    "processed_df2.head()\n",
    "#The final process DF minus highly correlated column will now have only 105 features"
   ]
  },
  {
   "cell_type": "markdown",
   "id": "88fefd52",
   "metadata": {},
   "source": [
    "### Model Building"
   ]
  },
  {
   "cell_type": "code",
   "execution_count": 141,
   "id": "748a0d24",
   "metadata": {},
   "outputs": [],
   "source": [
    "from sklearn.model_selection import train_test_split\n",
    "from sklearn.ensemble import RandomForestClassifier\n",
    "from sklearn.metrics import confusion_matrix\n"
   ]
  },
  {
   "cell_type": "code",
   "execution_count": 142,
   "id": "c173fe6d",
   "metadata": {},
   "outputs": [],
   "source": [
    "X = processed_df2.drop('Target', axis=1)\n",
    "y = processed_df2.Target"
   ]
  },
  {
   "cell_type": "code",
   "execution_count": 143,
   "id": "46286cf9",
   "metadata": {},
   "outputs": [],
   "source": [
    "X_train, X_test, y_train, y_test = train_test_split(X, y, random_state=100, test_size=0.1)\n",
    "#We will only use 90% of the dataset for training since the dataset is relatively small.\n",
    "#Another reason for using 90% of the data is because 10 fold cross validation will be done later."
   ]
  },
  {
   "cell_type": "code",
   "execution_count": 144,
   "id": "3a371263",
   "metadata": {},
   "outputs": [
    {
     "name": "stdout",
     "output_type": "stream",
     "text": [
      "(8601, 104) (8601,) (956, 104) (956,)\n"
     ]
    }
   ],
   "source": [
    "print(X_train.shape, y_train.shape, X_test.shape, y_test.shape)"
   ]
  },
  {
   "cell_type": "code",
   "execution_count": 145,
   "id": "cf000336",
   "metadata": {},
   "outputs": [],
   "source": [
    "clf = RandomForestClassifier(random_state=100)"
   ]
  },
  {
   "cell_type": "code",
   "execution_count": 146,
   "id": "8f868a51",
   "metadata": {},
   "outputs": [
    {
     "data": {
      "text/plain": [
       "RandomForestClassifier(random_state=100)"
      ]
     },
     "execution_count": 146,
     "metadata": {},
     "output_type": "execute_result"
    }
   ],
   "source": [
    "clf.fit(X_train, y_train)"
   ]
  },
  {
   "cell_type": "code",
   "execution_count": 147,
   "id": "de240e8c",
   "metadata": {},
   "outputs": [
    {
     "data": {
      "text/plain": [
       "0.9550209205020921"
      ]
     },
     "execution_count": 147,
     "metadata": {},
     "output_type": "execute_result"
    }
   ],
   "source": [
    "clf.score(X_test, y_test)\n",
    "#The Random Forest Classifier above is able to predict the poverty level of an individual,\n",
    "    #with 95.5% accuracy"
   ]
  },
  {
   "cell_type": "code",
   "execution_count": 148,
   "id": "af8837fa",
   "metadata": {},
   "outputs": [],
   "source": [
    "test_predictions = clf.predict(X_test)"
   ]
  },
  {
   "cell_type": "code",
   "execution_count": 149,
   "id": "9a3cb697",
   "metadata": {},
   "outputs": [
    {
     "data": {
      "text/plain": [
       "array([[ 63,   1,   0,   9],\n",
       "       [  0, 139,   2,  12],\n",
       "       [  0,   1,  94,  13],\n",
       "       [  0,   3,   2, 617]], dtype=int64)"
      ]
     },
     "execution_count": 149,
     "metadata": {},
     "output_type": "execute_result"
    }
   ],
   "source": [
    "confus_mat = confusion_matrix(y_test, test_predictions)\n",
    "confus_mat"
   ]
  },
  {
   "cell_type": "code",
   "execution_count": 150,
   "id": "2ebdea40",
   "metadata": {},
   "outputs": [
    {
     "data": {
      "text/html": [
       "<div>\n",
       "<style scoped>\n",
       "    .dataframe tbody tr th:only-of-type {\n",
       "        vertical-align: middle;\n",
       "    }\n",
       "\n",
       "    .dataframe tbody tr th {\n",
       "        vertical-align: top;\n",
       "    }\n",
       "\n",
       "    .dataframe thead th {\n",
       "        text-align: right;\n",
       "    }\n",
       "</style>\n",
       "<table border=\"1\" class=\"dataframe\">\n",
       "  <thead>\n",
       "    <tr style=\"text-align: right;\">\n",
       "      <th>Predicted Values</th>\n",
       "      <th>1</th>\n",
       "      <th>2</th>\n",
       "      <th>3</th>\n",
       "      <th>4</th>\n",
       "    </tr>\n",
       "    <tr>\n",
       "      <th>True Values</th>\n",
       "      <th></th>\n",
       "      <th></th>\n",
       "      <th></th>\n",
       "      <th></th>\n",
       "    </tr>\n",
       "  </thead>\n",
       "  <tbody>\n",
       "    <tr>\n",
       "      <th>1</th>\n",
       "      <td>63</td>\n",
       "      <td>1</td>\n",
       "      <td>0</td>\n",
       "      <td>9</td>\n",
       "    </tr>\n",
       "    <tr>\n",
       "      <th>2</th>\n",
       "      <td>0</td>\n",
       "      <td>139</td>\n",
       "      <td>2</td>\n",
       "      <td>12</td>\n",
       "    </tr>\n",
       "    <tr>\n",
       "      <th>3</th>\n",
       "      <td>0</td>\n",
       "      <td>1</td>\n",
       "      <td>94</td>\n",
       "      <td>13</td>\n",
       "    </tr>\n",
       "    <tr>\n",
       "      <th>4</th>\n",
       "      <td>0</td>\n",
       "      <td>3</td>\n",
       "      <td>2</td>\n",
       "      <td>617</td>\n",
       "    </tr>\n",
       "  </tbody>\n",
       "</table>\n",
       "</div>"
      ],
      "text/plain": [
       "Predicted Values   1    2   3    4\n",
       "True Values                       \n",
       "1                 63    1   0    9\n",
       "2                  0  139   2   12\n",
       "3                  0    1  94   13\n",
       "4                  0    3   2  617"
      ]
     },
     "execution_count": 150,
     "metadata": {},
     "output_type": "execute_result"
    }
   ],
   "source": [
    "df = pd.DataFrame(confus_mat, index=[1, 2, 3, 4], columns=[1, 2, 3, 4])\n",
    "df.index.name = 'True Values'\n",
    "df.columns.name = 'Predicted Values'\n",
    "df\n"
   ]
  },
  {
   "cell_type": "markdown",
   "id": "8f525ec0",
   "metadata": {},
   "source": [
    "The confusion matrix above confirms at the RandomForest classifier does quite accurately predict the True value of the Target Variable.\n",
    "\n",
    "We see however that that several of the mistakes made by the classifier involves falsely predicting the True label is 4. This comes as no surprise since the dataset is biased towards 4. (Majority of the class labels is 4)\n",
    "\n",
    "A possibly fix to this problem therefore is to try to balance out the effects of the imbalanced classes."
   ]
  },
  {
   "cell_type": "code",
   "execution_count": 151,
   "id": "262d99fe",
   "metadata": {},
   "outputs": [],
   "source": [
    "clf = RandomForestClassifier(random_state=0, class_weight='balanced')"
   ]
  },
  {
   "cell_type": "code",
   "execution_count": 152,
   "id": "03d7bde9",
   "metadata": {},
   "outputs": [
    {
     "data": {
      "text/plain": [
       "RandomForestClassifier(class_weight='balanced', random_state=0)"
      ]
     },
     "execution_count": 152,
     "metadata": {},
     "output_type": "execute_result"
    }
   ],
   "source": [
    "clf.fit(X_train, y_train)"
   ]
  },
  {
   "cell_type": "code",
   "execution_count": 153,
   "id": "9ebf6b04",
   "metadata": {},
   "outputs": [
    {
     "data": {
      "text/plain": [
       "0.9612970711297071"
      ]
     },
     "execution_count": 153,
     "metadata": {},
     "output_type": "execute_result"
    }
   ],
   "source": [
    "clf.score(X_test, y_test)\n",
    "#With classes balanced we see a slight improvement in the accuracy of the classifier.\n",
    "#Accuracy improves from 95.5% to 96.1%"
   ]
  },
  {
   "cell_type": "code",
   "execution_count": 154,
   "id": "356c6a29",
   "metadata": {},
   "outputs": [],
   "source": [
    "test_predictions = clf.predict(X_test)"
   ]
  },
  {
   "cell_type": "code",
   "execution_count": 155,
   "id": "9c91e8a6",
   "metadata": {},
   "outputs": [
    {
     "data": {
      "text/plain": [
       "array([[ 65,   1,   0,   7],\n",
       "       [  1, 139,   2,  11],\n",
       "       [  0,   1,  96,  11],\n",
       "       [  0,   2,   1, 619]], dtype=int64)"
      ]
     },
     "execution_count": 155,
     "metadata": {},
     "output_type": "execute_result"
    }
   ],
   "source": [
    "confusion_matrix(y_test, test_predictions)\n",
    "#Analysis of the confusion matrix shows that few of each class is being misclassified\n",
    "    #as belonginh to class 4.\n",
    "#The default classifier erroneously classified 34 samples as belonging to class 4.\n",
    "#The new classifier erroneously classifies 29 samples, a 14.7 percent reduction."
   ]
  },
  {
   "cell_type": "markdown",
   "id": "293497b7",
   "metadata": {},
   "source": [
    "### Cross Validation\n",
    "\n",
    "**Let's try to use a cross validated approach to assessing the generazibaility of the model.**"
   ]
  },
  {
   "cell_type": "code",
   "execution_count": 156,
   "id": "fcc656aa",
   "metadata": {},
   "outputs": [],
   "source": [
    "from sklearn.model_selection import cross_val_score, KFold"
   ]
  },
  {
   "cell_type": "code",
   "execution_count": 157,
   "id": "598877cf",
   "metadata": {},
   "outputs": [],
   "source": [
    "clf = RandomForestClassifier(random_state=100)"
   ]
  },
  {
   "cell_type": "code",
   "execution_count": 158,
   "id": "69e7152f",
   "metadata": {},
   "outputs": [],
   "source": [
    "folds = KFold(n_splits=10, shuffle=True, random_state=0)"
   ]
  },
  {
   "cell_type": "code",
   "execution_count": 159,
   "id": "e72584ab",
   "metadata": {},
   "outputs": [],
   "source": [
    "cv_scores = cross_val_score(clf, X_train, y_train, cv=folds)"
   ]
  },
  {
   "cell_type": "code",
   "execution_count": 160,
   "id": "fcee03fe",
   "metadata": {},
   "outputs": [
    {
     "data": {
      "text/plain": [
       "array([0.95121951, 0.95348837, 0.95465116, 0.95      , 0.94651163,\n",
       "       0.94883721, 0.94418605, 0.94534884, 0.94651163, 0.9372093 ])"
      ]
     },
     "execution_count": 160,
     "metadata": {},
     "output_type": "execute_result"
    }
   ],
   "source": [
    "cv_scores\n",
    "#The scores below represents the various accuracies resulting from using a random 90% \n",
    " #of the data for building the model and the remaining 10% for testing."
   ]
  },
  {
   "cell_type": "code",
   "execution_count": 161,
   "id": "dff9656e",
   "metadata": {},
   "outputs": [
    {
     "name": "stdout",
     "output_type": "stream",
     "text": [
      "0.9477963698241633 0.004810990386964984\n"
     ]
    }
   ],
   "source": [
    "print(cv_scores.mean(), cv_scores.std())\n",
    "#The average cross validated score is 94.8%\n",
    "#The standard deviation of the scores is 0.005 or 0.5%\n",
    "#This tells is that the model is expected to generalize well to unseen data.\n",
    "#The earlier test score of 95 percent is therefore a reasonable estimate of model accuracy."
   ]
  },
  {
   "cell_type": "code",
   "execution_count": 162,
   "id": "5c2d6b03",
   "metadata": {},
   "outputs": [],
   "source": [
    "clf = RandomForestClassifier(random_state=100, class_weight='balanced')\n",
    "#Let's use a balanced classifier along with cross validation."
   ]
  },
  {
   "cell_type": "code",
   "execution_count": 163,
   "id": "960a805a",
   "metadata": {},
   "outputs": [
    {
     "data": {
      "text/plain": [
       "array([0.96515679, 0.95813953, 0.95348837, 0.95465116, 0.94767442,\n",
       "       0.95348837, 0.94534884, 0.94186047, 0.94767442, 0.94302326])"
      ]
     },
     "execution_count": 163,
     "metadata": {},
     "output_type": "execute_result"
    }
   ],
   "source": [
    "cv_scores2 = cross_val_score(clf, X_train, y_train, cv=folds)\n",
    "cv_scores2\n",
    "#The scores below represents the various accuracies resulting from using a random 90% \n",
    " #of the data for building the model and the remaining 10% for testing."
   ]
  },
  {
   "cell_type": "code",
   "execution_count": 164,
   "id": "4ab3889f",
   "metadata": {},
   "outputs": [
    {
     "name": "stdout",
     "output_type": "stream",
     "text": [
      "0.951050563163439 0.006915861271797238\n"
     ]
    }
   ],
   "source": [
    "print(cv_scores2.mean(), cv_scores2.std())\n",
    "#The average cross validated score for the classweight=balanced classifier is 95.1%\n",
    "#The standard deviation of the scores is 0.007 or 0.7%\n",
    "#This tells is that the model is expected to generalize well to unseen data.\n",
    "#The earlier test score of 96.1 percent is therefore a reasonable estimate of model accuracy."
   ]
  }
 ],
 "metadata": {
  "kernelspec": {
   "display_name": "Python 3 (ipykernel)",
   "language": "python",
   "name": "python3"
  },
  "language_info": {
   "codemirror_mode": {
    "name": "ipython",
    "version": 3
   },
   "file_extension": ".py",
   "mimetype": "text/x-python",
   "name": "python",
   "nbconvert_exporter": "python",
   "pygments_lexer": "ipython3",
   "version": "3.8.8"
  }
 },
 "nbformat": 4,
 "nbformat_minor": 5
}
